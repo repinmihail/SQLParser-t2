{
 "cells": [
  {
   "cell_type": "code",
   "execution_count": 1,
   "id": "bad4737c-db3b-41ec-89a0-3c924eef90b2",
   "metadata": {
    "execution": {
     "iopub.execute_input": "2023-01-07T06:46:01.148065Z",
     "iopub.status.busy": "2023-01-07T06:46:01.147069Z",
     "iopub.status.idle": "2023-01-07T06:46:01.182935Z",
     "shell.execute_reply": "2023-01-07T06:46:01.182278Z",
     "shell.execute_reply.started": "2023-01-07T06:46:01.148026Z"
    },
    "tags": []
   },
   "outputs": [],
   "source": [
    "%load_ext autoreload\n",
    "%autoreload 2\n",
    "import pandas as pd\n",
    "import numpy as np\n",
    "import sqlparse\n",
    "import re\n",
    "from SQLParser import *\n",
    "import SQLFunctions as funcs\n",
    "from SQLParserError import SQLParserError\n",
    "import warnings"
   ]
  },
  {
   "cell_type": "code",
   "execution_count": 2,
   "id": "0e014199-22f6-4eb9-a818-819e5514ec3f",
   "metadata": {
    "execution": {
     "iopub.execute_input": "2023-01-07T06:46:01.988838Z",
     "iopub.status.busy": "2023-01-07T06:46:01.987948Z",
     "iopub.status.idle": "2023-01-07T06:46:02.016570Z",
     "shell.execute_reply": "2023-01-07T06:46:02.015869Z",
     "shell.execute_reply.started": "2023-01-07T06:46:01.988792Z"
    },
    "tags": []
   },
   "outputs": [],
   "source": [
    "sql = SQLParser()"
   ]
  },
  {
   "cell_type": "code",
   "execution_count": 49,
   "id": "6728c830-f5de-453c-bd4a-d09ddb4d1766",
   "metadata": {
    "execution": {
     "iopub.execute_input": "2023-01-07T08:30:37.051562Z",
     "iopub.status.busy": "2023-01-07T08:30:37.050570Z",
     "iopub.status.idle": "2023-01-07T08:30:37.087063Z",
     "shell.execute_reply": "2023-01-07T08:30:37.086386Z",
     "shell.execute_reply.started": "2023-01-07T08:30:37.051522Z"
    },
    "tags": []
   },
   "outputs": [],
   "source": [
    "raw = '''\n",
    "select\n",
    "            t.year_of_calendar\n",
    "            , datediff(usr.end_dttm, usr.start_dttm) as days_per_trip\n",
    "            , case\n",
    "                when non_flick.connections_per_day is not null then 1\n",
    "                else 0\n",
    "            end as flick_flag\n",
    "            , case\n",
    "                when lt.rank_in_month is not null then 1\n",
    "                else 0\n",
    "            end as longest_trip_flag\n",
    "        from month as t\n",
    "        join non_flickers as non_flick on usr.subs_id = non_flick.subs_id\n",
    "                and t.calendar_date = non_flick.calendar_date\n",
    "                and connections_per_day is not null\n",
    "                and connections_per_day1 is not null\n",
    "                and connections_per_day2 is not null\n",
    "                and end_\n",
    "'''"
   ]
  },
  {
   "cell_type": "code",
   "execution_count": 63,
   "id": "38841dd7-ebff-481c-b4aa-3f7adfcb75de",
   "metadata": {
    "execution": {
     "iopub.execute_input": "2023-01-07T08:38:12.846143Z",
     "iopub.status.busy": "2023-01-07T08:38:12.845752Z",
     "iopub.status.idle": "2023-01-07T08:38:12.874363Z",
     "shell.execute_reply": "2023-01-07T08:38:12.873715Z",
     "shell.execute_reply.started": "2023-01-07T08:38:12.846111Z"
    },
    "tags": []
   },
   "outputs": [],
   "source": [
    "raw = '''\n",
    "select\n",
    "            t.year_of_calendar\n",
    "            , t.calendar_date\n",
    "            , t.end_of_month\n",
    "            , usr.subs_id\n",
    "            , usr.msisdn\n",
    "            , usr.start_dttm\n",
    "            , usr.end_dttm\n",
    "            , usr.home_province_code\n",
    "            , usr.province_code_correct\n",
    "            , usr.country_code\n",
    "            , usr.home_flag\n",
    "            , usr.end_date\n",
    "            , usr.home_region\n",
    "            , usr.destination\n",
    "            , case\n",
    "                when (unix_timestamp(usr.end_dttm) - unix_timestamp(t.calendar_date)) > 86400 then 86400 / 60 / 60\n",
    "                when (unix_timestamp(usr.end_dttm) - unix_timestamp(t.calendar_date)) <= 86400 and (unix_timestamp(t.calendar_date) - unix_timestamp(usr.start_dttm)) <= 86400 then\n",
    "                    round((unix_timestamp(usr.end_dttm) - unix_timestamp(usr.start_dttm)) / 60 / 60, 2)\n",
    "                when (unix_timestamp(usr.end_dttm) - unix_timestamp(t.calendar_date)) <= 86400 and (unix_timestamp(t.calendar_date) - unix_timestamp(usr.start_dttm)) > 86400 then\n",
    "                    round((unix_timestamp(usr.end_dttm) - unix_timestamp(t.calendar_date)) / 60 / 60, 2)\n",
    "            end as time_per_day\n",
    "            , datediff(usr.end_dttm, usr.start_dttm) as days_per_trip\n",
    "            , case\n",
    "                when non_flick.connections_per_day is not null then 1\n",
    "                else 0\n",
    "            end as flick_flag\n",
    "            , case\n",
    "                when lt.rank_in_month is not null then 1\n",
    "                else 0\n",
    "            end as longest_trip_flag\n",
    "        from month as t\n",
    "        join non_flickers as non_flick on usr.subs_id = non_flick.subs_id\n",
    "                and t.calendar_date = non_flick.calendar_date\n",
    "                and connections_per_day is not null\n",
    "        join prd2_dic_v.geo_country as cntr \n",
    "        on t.country_code = substr(cntr.country_code, 1, 2) and t1.calendar_date = non_flick.calendar_date1\n",
    "        left join cls_moscow as msc on t.subs_id = msc.subs_id\n",
    "        where t.start_dttm <= '2022-10-31 23:59:59'\n",
    "            and t.end_date >= '20221001'\n",
    "'''"
   ]
  },
  {
   "cell_type": "code",
   "execution_count": 64,
   "id": "5cabe216-7540-4710-9406-ce127f3f537a",
   "metadata": {
    "execution": {
     "iopub.execute_input": "2023-01-07T08:38:13.918153Z",
     "iopub.status.busy": "2023-01-07T08:38:13.917257Z",
     "iopub.status.idle": "2023-01-07T08:38:13.983477Z",
     "shell.execute_reply": "2023-01-07T08:38:13.982808Z",
     "shell.execute_reply.started": "2023-01-07T08:38:13.918118Z"
    },
    "tags": []
   },
   "outputs": [],
   "source": [
    "d = sql.default_string(raw)"
   ]
  },
  {
   "cell_type": "code",
   "execution_count": 38,
   "id": "24f985e6-45eb-47e9-8db7-294f08ec7b7b",
   "metadata": {
    "execution": {
     "iopub.execute_input": "2023-01-07T07:50:05.980946Z",
     "iopub.status.busy": "2023-01-07T07:50:05.980070Z",
     "iopub.status.idle": "2023-01-07T07:50:06.009414Z",
     "shell.execute_reply": "2023-01-07T07:50:06.008684Z",
     "shell.execute_reply.started": "2023-01-07T07:50:05.980914Z"
    },
    "tags": []
   },
   "outputs": [
    {
     "name": "stdout",
     "output_type": "stream",
     "text": [
      "['JOIN non_flickers AS non_flick ON usr.subs_id = non_flick.subs_id', 'AND t.calendar_date = non_flick.calendar_date', 'AND connections_per_day IS NOT NULL', 'AND connections_per_day IS NOT NULL', 'AND connections_per_day IS NOT NULL', 'AND end_']\n",
      "[]\n"
     ]
    }
   ],
   "source": [
    "print(join_rule_sub(d))"
   ]
  },
  {
   "cell_type": "code",
   "execution_count": 52,
   "id": "6ae0bf6b-fd24-4ab2-a377-c109befe1668",
   "metadata": {
    "execution": {
     "iopub.execute_input": "2023-01-07T08:34:03.793854Z",
     "iopub.status.busy": "2023-01-07T08:34:03.793472Z",
     "iopub.status.idle": "2023-01-07T08:34:03.839500Z",
     "shell.execute_reply": "2023-01-07T08:34:03.838831Z",
     "shell.execute_reply.started": "2023-01-07T08:34:03.793813Z"
    },
    "tags": []
   },
   "outputs": [],
   "source": [
    "def join_rule_sub( raw):\n",
    "        '''\n",
    "        Функция проверяет корректность написания \"JOIN ... ON\" выражения.\n",
    "        Если условие только одно, то допускается написание наравне с оператором JOIN, если условий более одного, \n",
    "        то их необходимо перенести на новую строку (совместно с ON) и использовать скобки.\n",
    "        '''\n",
    "        assert isinstance(raw, str), 'Аргумент raw должен быть типа string'\n",
    "        \n",
    "        script_by_rows = [tup for tup in raw.split('\\n') if len(tup)>0]\n",
    "        \n",
    "        join_keywords = ['JOIN', 'LEFT', 'RIGHT', 'INNER', 'FULL', 'OUTER', 'CROSS']\n",
    "        join_end = ['WHERE', 'ORDER BY', 'GROUP BY']\n",
    "        \n",
    "        join_groups = []\n",
    "        counter = 0\n",
    "        for ind in range(0, len(script_by_rows)-1):\n",
    "            \n",
    "            # если строка начинается с join, то запоминаем ее индекс\n",
    "            if script_by_rows[ind].startswith(tuple(join_keywords)) and counter == 0:\n",
    "                counter = ind\n",
    "                # если следующая строка так же join, то записываем текущую строку и обнуляем счетчик\n",
    "                if script_by_rows[ind+1].startswith(tuple(join_keywords)):\n",
    "                    join_groups.append(script_by_rows[counter:ind+1])\n",
    "                    counter = 0\n",
    "                    continue\n",
    "            \n",
    "            # если следующая строка join и счетчик не 0, то записываем диапазон строк, счетчик = 0\n",
    "            if script_by_rows[ind+1].startswith(tuple(join_keywords)) and counter != 0:\n",
    "                join_groups.append(script_by_rows[counter:ind+1])\n",
    "                counter = 0\n",
    "                \n",
    "            # если впереди другие операторы (не join) и счетчик не равен 0 (значит join заканчивается), то записываем диапазон\n",
    "            if script_by_rows[ind+1].startswith(tuple(join_end)) and counter != 0:\n",
    "                join_groups.append(script_by_rows[counter:ind+1])\n",
    "                counter = 0\n",
    "            \n",
    "            # если счетчик не равен 0, в запросе несколько условий и запрос заканчивается\n",
    "            if len(script_by_rows) == ind + 2 and counter != 0:\n",
    "                join_groups.append(script_by_rows[counter:ind+2])\n",
    "     \n",
    "        for group in join_groups:\n",
    "            if len(group) > 1:\n",
    "                for ind in range(0, len(group)):\n",
    "                    try:\n",
    "                        # если пользователь проставил скобки\n",
    "                        if 'ON (' in group[ind]:\n",
    "                            count_spaces = 4 * ' '\n",
    "                            re_val = group[ind].replace('(', '\\(')\n",
    "                            pattern = re.compile(f'{re_val}')\n",
    "                            right_val = group[ind].replace('ON (', '\\n' + count_spaces + 'ON (\\n' + count_spaces * 2)\n",
    "                            raw = pattern.sub(right_val, raw, 1)\n",
    "                            \n",
    "                            # поиск закрывающей скобки\n",
    "                            for i in range(1, len(group)):\n",
    "                                count_spaces = 4 * ' '\n",
    "                                if ')' in group[i]:\n",
    "                                    re_val = group[i].replace(')', '\\)')\n",
    "                                    pattern = re.compile(f'{re_val}')\n",
    "                                    right_val = count_spaces * 2 + group[i].strip().replace(')', '\\n' + count_spaces + ')')\n",
    "                                else:\n",
    "                                    re_val = group[i]\n",
    "                                    pattern = re.compile(f'{re_val}')\n",
    "                                    right_val = count_spaces * 2 + group[i].strip()\n",
    "                                raw = pattern.sub(right_val, raw, 1)\n",
    "                        \n",
    "                        \n",
    "                        if '(' in group[ind] or ')' in group[ind]:\n",
    "                            re_val = group[ind].replace('(', '\\(').replace(')', '\\)')\n",
    "                            pattern = re.compile(f'{re_val}')\n",
    "                        else:\n",
    "                            pattern = re.compile(f'{group[ind]}')\n",
    "                        \n",
    "                        # если скобки не проставлены\n",
    "                        if group[ind].startswith(tuple(join_keywords)) and 'ON (' not in group[ind]:\n",
    "                            count_spaces = 4 * ' '\n",
    "                            right_values1 = group[ind].replace('ON ', '\\n' + count_spaces + 'ON (\\n' + count_spaces)\n",
    "                            raw = pattern.sub(right_values1, raw, 1)\n",
    "                        \n",
    "                        if 'AND ' in group[ind] or 'OR ' in group[ind]:\n",
    "                            if ind == len(group) - 1:\n",
    "                                \n",
    "                                if 'AND ' in group[ind]:\n",
    "                                    count_space = 4 * ' '\n",
    "                                    right_val = group[ind].replace('AND', count_space + 'AND')\n",
    "                                    right_val = right_val + '\\n' + count_space + ')'\n",
    "                                    raw = pattern.sub(right_val, raw, 1)\n",
    "                                if 'OR ' in group[ind]:\n",
    "                                    count_space = 4 * ' '\n",
    "                                    right_val = group[ind].replace('OR', count_space + 'OR')\n",
    "                                    right_val = right_val + '\\n' + count_space + ')'\n",
    "                                    raw = pattern.sub(right_val, raw, 1)\n",
    "                            else:\n",
    "                                if 'AND ' in group[ind]:\n",
    "                                    count_space = 4 * ' '\n",
    "                                    right_val = group[ind].replace('AND', count_space + 'AND')\n",
    "                                    raw = pattern.sub(right_val, raw, 1)\n",
    "                                if 'OR ' in group[ind]:\n",
    "                                    count_space = 4 * ' '\n",
    "                                    right_val = group[ind].replace('OR', count_space + 'OR')\n",
    "                                    raw = pattern.sub(right_val, raw, 1)\n",
    "                    except:\n",
    "                        raise SQLParserError(\"Something went wrong in \" '{!r}'.format(group[ind]))        \n",
    "        return raw"
   ]
  },
  {
   "cell_type": "code",
   "execution_count": 65,
   "id": "a61c8c41-c879-499e-9650-f63838cdaa2e",
   "metadata": {
    "execution": {
     "iopub.execute_input": "2023-01-07T08:38:20.688124Z",
     "iopub.status.busy": "2023-01-07T08:38:20.687134Z",
     "iopub.status.idle": "2023-01-07T08:38:20.718057Z",
     "shell.execute_reply": "2023-01-07T08:38:20.717411Z",
     "shell.execute_reply.started": "2023-01-07T08:38:20.688087Z"
    },
    "tags": []
   },
   "outputs": [
    {
     "name": "stdout",
     "output_type": "stream",
     "text": [
      "AND t.calendar_date = non_flick.calendar_date 3 1\n",
      "AND connections_per_day IS NOT NULL 3 2\n",
      "AND t1.calendar_date = non_flick.calendar_date1 2 1\n",
      "\n",
      "SELECT t.year_of_calendar ,\n",
      "       t.calendar_date ,\n",
      "       t.end_of_month ,\n",
      "       usr.subs_id ,\n",
      "       usr.msisdn ,\n",
      "       usr.start_dttm ,\n",
      "       usr.end_dttm ,\n",
      "       usr.home_province_code ,\n",
      "       usr.province_code_correct ,\n",
      "       usr.country_code ,\n",
      "       usr.home_flag ,\n",
      "       usr.end_date ,\n",
      "       usr.home_region ,\n",
      "       usr.destination ,\n",
      "       CASE\n",
      "           WHEN (unix_timestamp(usr.end_dttm) - unix_timestamp(t.calendar_date)) > 86400 THEN 86400 / 60 / 60\n",
      "           WHEN (unix_timestamp(usr.end_dttm) - unix_timestamp(t.calendar_date)) <= 86400\n",
      "                AND (unix_timestamp(t.calendar_date) - unix_timestamp(usr.start_dttm)) <= 86400 THEN round((unix_timestamp(usr.end_dttm) - unix_timestamp(usr.start_dttm)) / 60 / 60, 2)\n",
      "           WHEN (unix_timestamp(usr.end_dttm) - unix_timestamp(t.calendar_date)) <= 86400\n",
      "                AND (unix_timestamp(t.calendar_date) - unix_timestamp(usr.start_dttm)) > 86400 THEN round((unix_timestamp(usr.end_dttm) - unix_timestamp(t.calendar_date)) / 60 / 60, 2)\n",
      "       END AS time_per_day ,\n",
      "       datediff(usr.end_dttm, usr.start_dttm) AS days_per_trip ,\n",
      "       CASE\n",
      "           WHEN non_flick.connections_per_day IS NOT NULL THEN 1\n",
      "           ELSE 0\n",
      "       END AS flick_flag ,\n",
      "       CASE\n",
      "           WHEN lt.rank_in_month IS NOT NULL THEN 1\n",
      "           ELSE 0\n",
      "       END AS longest_trip_flag\n",
      "FROM MONTH AS t\n",
      "JOIN non_flickers AS non_flick \n",
      "    ON (\n",
      "    usr.subs_id = non_flick.subs_id\n",
      "    AND t.calendar_date = non_flick.calendar_date\n",
      "    AND connections_per_day IS NOT NULL\n",
      "    )\n",
      "JOIN prd2_dic_v.geo_country AS cntr \n",
      "    ON (\n",
      "    t.country_code = substr(cntr.country_code, 1, 2)\n",
      "    AND t1.calendar_date = non_flick.calendar_date1\n",
      "    )\n",
      "LEFT JOIN cls_moscow AS msc ON t.subs_id = msc.subs_id\n",
      "WHERE t.start_dttm <= '2022-10-31 23:59:59'\n",
      "    AND t.end_date >= '20221001'\n"
     ]
    }
   ],
   "source": [
    "print(join_rule_sub(d))"
   ]
  }
 ],
 "metadata": {
  "kernelspec": {
   "display_name": "Geo",
   "language": "python",
   "name": "geo_python"
  },
  "language_info": {
   "codemirror_mode": {
    "name": "ipython",
    "version": 3
   },
   "file_extension": ".py",
   "mimetype": "text/x-python",
   "name": "python",
   "nbconvert_exporter": "python",
   "pygments_lexer": "ipython3",
   "version": "3.9.15"
  }
 },
 "nbformat": 4,
 "nbformat_minor": 5
}
