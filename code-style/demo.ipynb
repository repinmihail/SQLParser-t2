{
 "cells": [
  {
   "cell_type": "markdown",
   "id": "a48e03b7-09c4-4793-8d15-7baad4a6d2dd",
   "metadata": {},
   "source": [
    "# Code Style"
   ]
  },
  {
   "cell_type": "markdown",
   "id": "f7facfa4-a4d5-49a4-a894-4173cf6af478",
   "metadata": {
    "tags": []
   },
   "source": [
    "### Что хотим на выходе?\n",
    "- модуль/библиотека на Python\n",
    "- plain sql и некоторые специфичные конструкции\n",
    "\n",
    "\n",
    "### Что в основе?\n",
    "- open source библиотека sqlparse\n",
    "- самостоятельная реализация правил\n",
    "\n",
    "\n",
    "### Коротко о результатах\n",
    "Link: https://wiki.tele2.ru/pages/viewpage.action?pageId=139127857&preview=/139127857/139128786/SQL%20StyleGuide.pdf\n",
    "\n",
    "- Количество правил, реализация которых взята в работу: 23\n",
    "\n",
    "- Количество реализованных правил: 21 (~90%)\n",
    "\n",
    "- Количество новых кейсов, которые добавлены в общий перечень правил и  взяты в работу: 4 *(or in join, with stmnt, window functions, teradata funcs: create (multiset volatile) table)*\n",
    "\n",
    "\n",
    "### Как использовано время?\n",
    "\n",
    "- Анализ существующих библиотек, доступных в открытом доступе, собранных на python, alive, чтение кода, сопоставление правил.    ~ 40%\n",
    "\n",
    "- Написание кода для основной части правил (80% для mvp).                                                                        ~ 30%\n",
    "\n",
    "- Написание кода для новых кейсов, логов, тестов и отладка ошибок (плюс правила до 90%).                                                        ~ 30%"
   ]
  },
  {
   "cell_type": "markdown",
   "id": "c705eae6-e16b-4ea0-8e8e-14f936190f80",
   "metadata": {},
   "source": [
    "### Чему научились к этому времени?\n",
    "- Примеры"
   ]
  },
  {
   "cell_type": "code",
   "execution_count": 2,
   "id": "5bcef085-74ce-452b-b56c-63e01c83d3cd",
   "metadata": {
    "execution": {
     "iopub.execute_input": "2023-01-19T11:37:11.854662Z",
     "iopub.status.busy": "2023-01-19T11:37:11.854216Z",
     "iopub.status.idle": "2023-01-19T11:37:11.874198Z",
     "shell.execute_reply": "2023-01-19T11:37:11.872935Z",
     "shell.execute_reply.started": "2023-01-19T11:37:11.854623Z"
    },
    "tags": []
   },
   "outputs": [],
   "source": [
    "from SQLParser import *"
   ]
  },
  {
   "cell_type": "code",
   "execution_count": 3,
   "id": "b11f9c26-1db9-4d00-a315-0e441ba0ef09",
   "metadata": {
    "execution": {
     "iopub.execute_input": "2023-01-19T11:41:54.987837Z",
     "iopub.status.busy": "2023-01-19T11:41:54.986240Z",
     "iopub.status.idle": "2023-01-19T11:41:54.997975Z",
     "shell.execute_reply": "2023-01-19T11:41:54.996879Z",
     "shell.execute_reply.started": "2023-01-19T11:41:54.987781Z"
    },
    "tags": []
   },
   "outputs": [],
   "source": [
    "sql = HandlerSQL()\n",
    "raw = '''\n",
    "        select msc.* \n",
    "            , t.start_dttm \n",
    "            , t.end_dttm , t.country_code\n",
    "            , datediff(t.end_dttm, t.start_dttm) as true_days_diff\n",
    "            , case\n",
    "                when t.country_code != 'RU' then 'not RU'\n",
    "                else t.country_code\n",
    "            end as rus_or_not\n",
    "            , case\n",
    "                when t.start_dttm < to_timestamp('2022-10-01 00:00:00') then to_timestamp('2022-10-01 00:00:00')\n",
    "                else t.start_dttm\n",
    "            end as start_dt\n",
    "            , case when t.end_dttm > to_timestamp('2022-10-31 23:59:59') then to_timestamp('2022-10-31 23:59:59')\n",
    "                else t.end_dttm\n",
    "            end as end_dt\n",
    "        from roaming.roaming_report as t\n",
    "        join prd2_dic_v.geo_country as cntr \n",
    "        on t.country_code = substr(cntr.country_code, 1, 2)\n",
    "        join cls_moscow as msc on t.subs_id = msc.subs_id\n",
    "        where t.start_dttm <= '2022-10-31 23:59:59'\n",
    "            and t.end_date >= '20221001'\n",
    "'''"
   ]
  },
  {
   "cell_type": "code",
   "execution_count": 4,
   "id": "7c66feeb-0499-47c0-a6e9-5281aee68b86",
   "metadata": {
    "execution": {
     "iopub.execute_input": "2023-01-19T11:42:05.746299Z",
     "iopub.status.busy": "2023-01-19T11:42:05.745635Z",
     "iopub.status.idle": "2023-01-19T11:42:05.792147Z",
     "shell.execute_reply": "2023-01-19T11:42:05.791032Z",
     "shell.execute_reply.started": "2023-01-19T11:42:05.746249Z"
    },
    "tags": []
   },
   "outputs": [
    {
     "name": "stderr",
     "output_type": "stream",
     "text": [
      "\n",
      "        CodeStyle Warning in column_name_rule_warn(): Если в запросе участвуют несколько таблиц, то при указании наименования столбца необходимо явно указывать \n",
      "        какой таблице принадлежит столбец. Проверьте строки ['CASE', 'END AS rus_or_not ,', 'CASE', 'END AS start_dt ,', 'CASE', 'END AS end_dt']. (SQL Style Guide. Подзапросы. Ссылка: https://wiki.tele2.ru/pages/viewpage.action?pageId=139127857&preview=/139127857/139128786/SQL%20StyleGuide.pdf)\n",
      "        \n",
      "\n",
      "        CodeStyle Warning in row_max_symbols_warn(): Максимальное количество символов в строке – не более 80. (SQL Style Guide. Общие конструкции. \n",
      "        Ссылка: https://wiki.tele2.ru/pages/viewpage.action?pageId=139127857&preview=/139127857/139128786/SQL%20StyleGuide.pdf). \n",
      "        Перечень строк с ошибками сохранен в объекте row_max_symbols_df_global.\n",
      "        \n"
     ]
    },
    {
     "name": "stdout",
     "output_type": "stream",
     "text": [
      "\n",
      "SELECT msc.* ,\n",
      "       t.start_dttm ,\n",
      "       t.end_dttm,\n",
      "       t.country_code ,\n",
      "       DATEDIFF(t.end_dttm, t.start_dttm) AS true_days_diff ,\n",
      "       CASE\n",
      "           WHEN t.country_code != 'RU' THEN 'not RU'\n",
      "           ELSE t.country_code\n",
      "       END AS rus_or_not ,\n",
      "       CASE\n",
      "           WHEN t.start_dttm < to_timestamp('2022-10-01 00:00:00') THEN to_timestamp('2022-10-01 00:00:00')\n",
      "           ELSE t.start_dttm\n",
      "       END AS start_dt ,\n",
      "       CASE\n",
      "           WHEN t.end_dttm > to_timestamp('2022-10-31 23:59:59') THEN to_timestamp('2022-10-31 23:59:59')\n",
      "           ELSE t.end_dttm\n",
      "       END AS end_dt\n",
      "FROM roaming.roaming_report AS t\n",
      "JOIN prd2_dic_v.geo_country AS cntr ON t.country_code = SUBSTR(cntr.country_code, 1, 2)\n",
      "JOIN cls_moscow AS msc ON t.subs_id = msc.subs_id\n",
      "WHERE 1 = 1\n",
      "    AND t.start_dttm <= '2022-10-31 23:59:59'\n",
      "    AND t.end_date >= '20221001'\n"
     ]
    }
   ],
   "source": [
    "sql.run(raw)"
   ]
  },
  {
   "cell_type": "code",
   "execution_count": null,
   "id": "66b9ddfe-bddf-46de-bc1f-80c325cf0246",
   "metadata": {
    "tags": []
   },
   "outputs": [],
   "source": [
    "sql.row_max_symbols_df"
   ]
  },
  {
   "cell_type": "code",
   "execution_count": 5,
   "id": "532d2be6-efcf-4ec7-8940-7b4760c260a5",
   "metadata": {
    "execution": {
     "iopub.execute_input": "2023-01-19T11:46:01.325055Z",
     "iopub.status.busy": "2023-01-19T11:46:01.322762Z",
     "iopub.status.idle": "2023-01-19T11:46:01.333959Z",
     "shell.execute_reply": "2023-01-19T11:46:01.332702Z",
     "shell.execute_reply.started": "2023-01-19T11:46:01.324995Z"
    },
    "tags": []
   },
   "outputs": [],
   "source": [
    "sql = HandlerSQL()\n",
    "raw = '''\n",
    "        select\n",
    "            subs_id\n",
    "            , end_date\n",
    "            , start_dttm\n",
    "            , end_dttm\n",
    "            , time_per_trip\n",
    "            , dense_rank() over (partition by subs_id, end_date order by time_per_trip desc ) as rank_in_day\n",
    "            , temporary_fdsfsf\n",
    "            , sum(total_days_per_month) over (order by subs_id, end_of_month rows between 2 preceding and current row) as cum_sum_90d_3\n",
    "        from user_time_in_trip\n",
    "'''"
   ]
  },
  {
   "cell_type": "code",
   "execution_count": 6,
   "id": "39cdd9ec-6336-4a0e-92e2-126249dbb579",
   "metadata": {
    "execution": {
     "iopub.execute_input": "2023-01-19T11:46:02.206417Z",
     "iopub.status.busy": "2023-01-19T11:46:02.204572Z",
     "iopub.status.idle": "2023-01-19T11:46:02.256396Z",
     "shell.execute_reply": "2023-01-19T11:46:02.255303Z",
     "shell.execute_reply.started": "2023-01-19T11:46:02.206323Z"
    },
    "tags": []
   },
   "outputs": [
    {
     "name": "stderr",
     "output_type": "stream",
     "text": [
      "\n",
      "        CodeStyle Warning in row_max_symbols_warn(): Максимальное количество символов в строке – не более 80. (SQL Style Guide. Общие конструкции. \n",
      "        Ссылка: https://wiki.tele2.ru/pages/viewpage.action?pageId=139127857&preview=/139127857/139128786/SQL%20StyleGuide.pdf). \n",
      "        Перечень строк с ошибками сохранен в объекте row_max_symbols_df_global.\n",
      "        \n"
     ]
    },
    {
     "name": "stdout",
     "output_type": "stream",
     "text": [
      "\n",
      "SELECT subs_id ,\n",
      "       end_date ,\n",
      "       start_dttm ,\n",
      "       end_dttm ,\n",
      "       time_per_trip ,\n",
      "       DENSE_RANK() OVER (PARTITION BY subs_id,\n",
      "                    end_date\n",
      "               ORDER BY time_per_trip DESC) AS rank_in_day ,\n",
      "                    temporary_fdsfsf ,\n",
      "       SUM(total_days_per_month) OVER (\n",
      "               ORDER BY subs_id,\n",
      "                    end_of_month ROWS BETWEEN 2 preceding AND CURRENT ROW) AS cum_sum_90d_3\n",
      "FROM user_time_in_trip\n"
     ]
    }
   ],
   "source": [
    "sql.run(raw)"
   ]
  },
  {
   "cell_type": "code",
   "execution_count": 9,
   "id": "e280fa21-478e-46e4-a35a-92b9182f0d5a",
   "metadata": {
    "execution": {
     "iopub.execute_input": "2023-01-19T11:47:33.085266Z",
     "iopub.status.busy": "2023-01-19T11:47:33.084419Z",
     "iopub.status.idle": "2023-01-19T11:47:33.097256Z",
     "shell.execute_reply": "2023-01-19T11:47:33.096004Z",
     "shell.execute_reply.started": "2023-01-19T11:47:33.085203Z"
    },
    "tags": []
   },
   "outputs": [],
   "source": [
    "sql = HandlerSQL()\n",
    "raw = '''\n",
    "select\n",
    "            t.year_of_calendar\n",
    "            , t.calendar_date\n",
    "            , t.end_of_month\n",
    "            , usr.subs_id\n",
    "            , usr.msisdn\n",
    "            , usr.start_dttm\n",
    "            , usr.end_dttm\n",
    "            , usr.home_province_code\n",
    "            , usr.province_code_correct\n",
    "            , usr.country_code\n",
    "            , usr.home_flag\n",
    "            , usr.end_date\n",
    "            , usr.home_region\n",
    "            , usr.destination\n",
    "            , case\n",
    "                when (unix_timestamp(usr.end_dttm) - unix_timestamp(t.calendar_date)) > 86400 then 86400 / 60 / 60\n",
    "                when (unix_timestamp(usr.end_dttm) - unix_timestamp(t.calendar_date)) <= 86400 and (unix_timestamp(t.calendar_date) - unix_timestamp(usr.start_dttm)) <= 86400 then\n",
    "                    round((unix_timestamp(usr.end_dttm) - unix_timestamp(usr.start_dttm)) / 60 / 60, 2)\n",
    "                when (unix_timestamp(usr.end_dttm) - unix_timestamp(t.calendar_date)) <= 86400 and (unix_timestamp(t.calendar_date) - unix_timestamp(usr.start_dttm)) > 86400 then\n",
    "                    round((unix_timestamp(usr.end_dttm) - unix_timestamp(t.calendar_date)) / 60 / 60, 2)\n",
    "            end as time_per_day\n",
    "            , datediff(usr.end_dttm, usr.start_dttm) as days_per_trip\n",
    "            , case\n",
    "                when non_flick.connections_per_day is not null then 1\n",
    "                else 0\n",
    "            end as flick_flag\n",
    "            , case\n",
    "                when lt.rank_in_month is not null then 1\n",
    "                else 0\n",
    "            end as longest_trip_flag\n",
    "        from month as t\n",
    "        join non_flickers as non_flick on usr.subs_id = non_flick.subs_id\n",
    "                and t.calendar_date = non_flick.calendar_date\n",
    "                and connections_per_day is not null\n",
    "'''"
   ]
  },
  {
   "cell_type": "code",
   "execution_count": 10,
   "id": "32bedcb6-a8bb-4f40-9514-96a36d8c80a9",
   "metadata": {
    "execution": {
     "iopub.execute_input": "2023-01-19T11:47:33.791248Z",
     "iopub.status.busy": "2023-01-19T11:47:33.789637Z",
     "iopub.status.idle": "2023-01-19T11:47:33.844621Z",
     "shell.execute_reply": "2023-01-19T11:47:33.843661Z",
     "shell.execute_reply.started": "2023-01-19T11:47:33.791186Z"
    },
    "tags": []
   },
   "outputs": [
    {
     "name": "stderr",
     "output_type": "stream",
     "text": [
      "\n",
      "        CodeStyle Warning in row_max_symbols_warn(): Максимальное количество символов в строке – не более 80. (SQL Style Guide. Общие конструкции. \n",
      "        Ссылка: https://wiki.tele2.ru/pages/viewpage.action?pageId=139127857&preview=/139127857/139128786/SQL%20StyleGuide.pdf). \n",
      "        Перечень строк с ошибками сохранен в объекте row_max_symbols_df_global.\n",
      "        \n"
     ]
    },
    {
     "name": "stdout",
     "output_type": "stream",
     "text": [
      "\n",
      "SELECT t.year_of_calendar ,\n",
      "       t.calendar_date ,\n",
      "       t.end_of_month ,\n",
      "       usr.subs_id ,\n",
      "       usr.msisdn ,\n",
      "       usr.start_dttm ,\n",
      "       usr.end_dttm ,\n",
      "       usr.home_province_code ,\n",
      "       usr.province_code_correct ,\n",
      "       usr.country_code ,\n",
      "       usr.home_flag ,\n",
      "       usr.end_date ,\n",
      "       usr.home_region ,\n",
      "       usr.destination ,\n",
      "       CASE\n",
      "           WHEN (UNIX_TIMESTAMP(usr.end_dttm) - UNIX_TIMESTAMP(t.calendar_date)) > 86400 THEN 86400 / 60 / 60\n",
      "           WHEN (UNIX_TIMESTAMP(usr.end_dttm) - UNIX_TIMESTAMP(t.calendar_date)) <= 86400\n",
      "                AND (UNIX_TIMESTAMP(t.calendar_date) - UNIX_TIMESTAMP(usr.start_dttm)) <= 86400 THEN ROUND((UNIX_TIMESTAMP(usr.end_dttm) - UNIX_TIMESTAMP(usr.start_dttm)) / 60 / 60, 2)\n",
      "           WHEN (UNIX_TIMESTAMP(usr.end_dttm) - UNIX_TIMESTAMP(t.calendar_date)) <= 86400\n",
      "                AND (UNIX_TIMESTAMP(t.calendar_date) - UNIX_TIMESTAMP(usr.start_dttm)) > 86400 THEN ROUND((UNIX_TIMESTAMP(usr.end_dttm) - UNIX_TIMESTAMP(t.calendar_date)) / 60 / 60, 2)\n",
      "       END AS time_per_day ,\n",
      "       DATEDIFF(usr.end_dttm, usr.start_dttm) AS days_per_trip ,\n",
      "       CASE\n",
      "           WHEN non_flick.connections_per_day IS NOT NULL THEN 1\n",
      "           ELSE 0\n",
      "       END AS flick_flag ,\n",
      "       CASE\n",
      "           WHEN lt.rank_in_month IS NOT NULL THEN 1\n",
      "           ELSE 0\n",
      "       END AS longest_trip_flag\n",
      "FROM MONTH AS t\n",
      "JOIN non_flickers AS non_flick \n",
      "    ON (\n",
      "    usr.subs_id = non_flick.subs_id\n",
      "    AND t.calendar_date = non_flick.calendar_date\n",
      "    AND connections_per_day IS NOT NULL\n",
      "    )\n"
     ]
    }
   ],
   "source": [
    "sql.run(raw)"
   ]
  },
  {
   "cell_type": "code",
   "execution_count": null,
   "id": "e47a818b-d11f-4cbf-a699-34408eb948a5",
   "metadata": {
    "tags": []
   },
   "outputs": [],
   "source": [
    "len('           WHEN (UNIX_TIMESTAMP(usr.end_dttm) - UNIX_TIMESTAMP(t.calendar_date)) <= 86400')"
   ]
  },
  {
   "cell_type": "code",
   "execution_count": 11,
   "id": "d6f9450e-b16f-454b-86a6-2660a9d1e742",
   "metadata": {
    "execution": {
     "iopub.execute_input": "2023-01-19T11:47:50.658780Z",
     "iopub.status.busy": "2023-01-19T11:47:50.656716Z",
     "iopub.status.idle": "2023-01-19T11:47:50.667096Z",
     "shell.execute_reply": "2023-01-19T11:47:50.665855Z",
     "shell.execute_reply.started": "2023-01-19T11:47:50.658725Z"
    },
    "tags": []
   },
   "outputs": [],
   "source": [
    "sql = HandlerSQL()\n",
    "raw = '''\n",
    "        select\n",
    "            t.*\n",
    "            , sum(total_days_per_month) over (partition by subs_id order by subs_id, end_of_month rows between 2 preceding and current row) as cum_sum_90d\n",
    "            , sum(total_days_per_month) over (partition by subs_id order by subs_id, end_of_month rows between 3 preceding and current row) as cum_sum_120d\n",
    "            , sum(total_days_per_month) over (partition by subs_id order by subs_id, end_of_month rows between 4 preceding and current row) as cum_sum_150d\n",
    "            , sum(total_days_per_month) over (partition by subs_id order by subs_id, end_of_month rows between 5 preceding and current row) as cum_sum_180d\n",
    "            , sum(total_days_per_month) over (partition by subs_id order by subs_id, end_of_month rows between 6 preceding and current row) as cum_sum_total\n",
    "        from time_per_month_spent_by_users_in_loc as t\n",
    "'''"
   ]
  },
  {
   "cell_type": "code",
   "execution_count": 12,
   "id": "cec6c018-074d-4c16-9191-7c01d3e09f1d",
   "metadata": {
    "execution": {
     "iopub.execute_input": "2023-01-19T11:47:51.651622Z",
     "iopub.status.busy": "2023-01-19T11:47:51.650504Z",
     "iopub.status.idle": "2023-01-19T11:47:51.690640Z",
     "shell.execute_reply": "2023-01-19T11:47:51.689541Z",
     "shell.execute_reply.started": "2023-01-19T11:47:51.651566Z"
    },
    "tags": []
   },
   "outputs": [
    {
     "name": "stderr",
     "output_type": "stream",
     "text": [
      "\n",
      "        CodeStyle Warning in row_max_symbols_warn(): Максимальное количество символов в строке – не более 80. (SQL Style Guide. Общие конструкции. \n",
      "        Ссылка: https://wiki.tele2.ru/pages/viewpage.action?pageId=139127857&preview=/139127857/139128786/SQL%20StyleGuide.pdf). \n",
      "        Перечень строк с ошибками сохранен в объекте row_max_symbols_df_global.\n",
      "        \n"
     ]
    },
    {
     "name": "stdout",
     "output_type": "stream",
     "text": [
      "\n",
      "SELECT t.* ,\n",
      "       SUM(total_days_per_month) OVER (PARTITION BY subs_id\n",
      "               ORDER BY subs_id,\n",
      "                    end_of_month ROWS BETWEEN 2 preceding AND CURRENT ROW) AS cum_sum_90d ,\n",
      "       SUM(total_days_per_month) OVER (PARTITION BY subs_id\n",
      "               ORDER BY subs_id,\n",
      "                    end_of_month ROWS BETWEEN 3 preceding AND CURRENT ROW) AS cum_sum_120d ,\n",
      "       SUM(total_days_per_month) OVER (PARTITION BY subs_id\n",
      "               ORDER BY subs_id,\n",
      "                    end_of_month ROWS BETWEEN 4 preceding AND CURRENT ROW) AS cum_sum_150d ,\n",
      "       SUM(total_days_per_month) OVER (PARTITION BY subs_id\n",
      "               ORDER BY subs_id,\n",
      "                    end_of_month ROWS BETWEEN 5 preceding AND CURRENT ROW) AS cum_sum_180d ,\n",
      "       SUM(total_days_per_month) OVER (PARTITION BY subs_id\n",
      "               ORDER BY subs_id,\n",
      "                    end_of_month ROWS BETWEEN 6 preceding AND CURRENT ROW) AS cum_sum_total\n",
      "FROM time_per_month_spent_by_users_in_loc AS t\n"
     ]
    }
   ],
   "source": [
    "sql.run(raw)"
   ]
  },
  {
   "cell_type": "code",
   "execution_count": 13,
   "id": "7c9a4d3d-1138-4691-bc7c-3283f00b0bea",
   "metadata": {
    "execution": {
     "iopub.execute_input": "2023-01-19T11:48:12.002351Z",
     "iopub.status.busy": "2023-01-19T11:48:12.001038Z",
     "iopub.status.idle": "2023-01-19T11:48:12.011293Z",
     "shell.execute_reply": "2023-01-19T11:48:12.010189Z",
     "shell.execute_reply.started": "2023-01-19T11:48:12.002294Z"
    },
    "tags": []
   },
   "outputs": [],
   "source": [
    "sql = HandlerSQL()\n",
    "raw = '''\n",
    "\n",
    "CREATE MULTISET TABLE PRD_DM.MC_FORECAST_RETURN_REVENUE \n",
    "    (\n",
    "    REPORT_DATE DATE Format 'YY/MM/DD',\n",
    "    RETURN_CURRENT_MONTH_DATE DECIMAL(18,6),\n",
    "    RETURN_CURRENT_MONTH_LAST_YEAR_DATE DECIMAL(18,6),\n",
    "    RETURN_CURRENT_MONTH_LAST_YEAR DECIMAL(18,6),\n",
    "    RETURN_CURRENT_YEAR DECIMAL(18,6),\n",
    "    RETURN_LAST_YEAR_LAST_DATE DECIMAL(18,6),\n",
    "    RETURN_LAST_YEAR DECIMAL(18,6),\n",
    "    REVENUE_CURRENT_MONTH_DATE DECIMAL(18,6),\n",
    "    REVENUE_CURRENT_MONTH_LAST_YEAR_DATE DECIMAL(18,6),\n",
    "    REVENUE_CURRENT_MONTH_LAST_YEAR DECIMAL(18,6),\n",
    "    REVENUE_CURRENT_YEAR DECIMAL(18,6),\n",
    "    REVENUE_LAST_YEAR_LAST_DATE DECIMAL(18,6),\n",
    "    REVENUE_LAST_YEAR DECIMAL(18,6)\n",
    "\t)\n",
    "PRIMARY INDEX ( REPORT_DATE );\n",
    "\n",
    "INSERT INTO PRD_DM.MC_FORECAST_RETURN_REVENUE\n",
    "SELECT * FROM UAT_DM.MC_FORECAST_RETURN_REVENUE;\n",
    "\n",
    "'''"
   ]
  },
  {
   "cell_type": "code",
   "execution_count": 14,
   "id": "b587fe02-697e-4fb8-9d80-bc500034c7a1",
   "metadata": {
    "execution": {
     "iopub.execute_input": "2023-01-19T11:48:12.690233Z",
     "iopub.status.busy": "2023-01-19T11:48:12.688566Z",
     "iopub.status.idle": "2023-01-19T11:48:12.729692Z",
     "shell.execute_reply": "2023-01-19T11:48:12.728750Z",
     "shell.execute_reply.started": "2023-01-19T11:48:12.690176Z"
    },
    "tags": []
   },
   "outputs": [
    {
     "name": "stdout",
     "output_type": "stream",
     "text": [
      "\n",
      "CREATE multiset TABLE prd_dm.mc_forecast_return_revenue (\n",
      "    report_date DATE format 'YY/MM/DD',\n",
      "    return_current_month_date decimal(18, 6),\n",
      "    return_current_month_last_year_date decimal(18, 6),\n",
      "    return_current_month_last_year decimal(18, 6),\n",
      "    return_current_year decimal(18, 6),\n",
      "    return_last_year_last_date decimal(18, 6),\n",
      "    return_last_year decimal(18, 6),\n",
      "    revenue_current_month_date decimal(18, 6),\n",
      "    revenue_current_month_last_year_date decimal(18, 6),\n",
      "    revenue_current_month_last_year decimal(18, 6),\n",
      "    revenue_current_year decimal(18, 6),\n",
      "    revenue_last_year_last_date decimal(18, 6),\n",
      "    revenue_last_year decimal(18, 6)\n",
      "    )\n",
      "PRIMARY INDEX (report_date);\n",
      "\n",
      "\n",
      "INSERT INTO prd_dm.mc_forecast_return_revenue\n",
      "SELECT *\n",
      "FROM uat_dm.mc_forecast_return_revenue;\n"
     ]
    }
   ],
   "source": [
    "sql.run(raw)"
   ]
  },
  {
   "cell_type": "code",
   "execution_count": 15,
   "id": "a29af005-9c4e-4e2a-a8bb-fb5a82a29682",
   "metadata": {
    "execution": {
     "iopub.execute_input": "2023-01-19T11:48:24.649276Z",
     "iopub.status.busy": "2023-01-19T11:48:24.648553Z",
     "iopub.status.idle": "2023-01-19T11:48:24.660261Z",
     "shell.execute_reply": "2023-01-19T11:48:24.658766Z",
     "shell.execute_reply.started": "2023-01-19T11:48:24.649224Z"
    },
    "tags": []
   },
   "outputs": [],
   "source": [
    "sql = HandlerSQL()\n",
    "raw = '''\n",
    "\n",
    "CREATE MULTISET TABLE PRD_DM.MC_FORECAST_RETURN_REVENUE \n",
    "    (\n",
    "    REPORT_DATE DATE Format 'YY/MM/DD',\n",
    "    RETURN_CURRENT_MONTH_DATE DECIMAL(18,6),\n",
    "    RETURN_CURRENT_MONTH_LAST_YEAR_DATE DECIMAL(18,6),\n",
    "    RETURN_CURRENT_MONTH_LAST_YEAR DECIMAL(18,6),\n",
    "    RETURN_CURRENT_YEAR DECIMAL(18,6),\n",
    "    RETURN_LAST_YEAR_LAST_DATE DECIMAL(18,6),\n",
    "    RETURN_LAST_YEAR DECIMAL(18,6),\n",
    "    REVENUE_CURRENT_MONTH_DATE DECIMAL(18,6),\n",
    "    REVENUE_CURRENT_MONTH_LAST_YEAR_DATE DECIMAL(18,6),\n",
    "    REVENUE_CURRENT_MONTH_LAST_YEAR DECIMAL(18,6),\n",
    "    REVENUE_CURRENT_YEAR DECIMAL(18,6),\n",
    "    REVENUE_LAST_YEAR_LAST_DATE DECIMAL(18,6),\n",
    "    REVENUE_LAST_YEAR DECIMAL(18,6)\n",
    "\t)\n",
    "PRIMARY INDEX ( REPORT_DATE );\n",
    "\n",
    "INSERT INTO PRD_DM.MC_FORECAST_RETURN_REVENUE\n",
    "SELECT * FROM UAT_DM.MC_FORECAST_RETURN_REVENUE;\n",
    "\n",
    "CREATE MULTISET TABLE amount_per_day_usage\n",
    "     (\n",
    "      first_day_of_month DATE Format 'YY/MM/DD',\n",
    "      REPORT_DATE DATE Format 'YY/MM/DD',\n",
    "      SUBS_ID DECIMAL(12,0),\n",
    "      BSEGMENT VARCHAR(20) ,\n",
    "      rated_amount_sum DECIMAL(18,6)\n",
    "\t  )\n",
    "PRIMARY INDEX ( SUBS_ID )\n",
    "ON COMMIT PRESERVE ROWS;\n",
    "\n",
    " CREATE MULTISET VOLATILE TABLE amount_per_day_usage\n",
    "     (\n",
    "      first_day_of_month DATE Format 'YY/MM/DD',\n",
    "      REPORT_DATE DATE Format 'YY/MM/DD',\n",
    "      SUBS_ID DECIMAL(12,0),\n",
    "      BSEGMENT VARCHAR(20) CHARACTER SET Unicode CaseSpecific,\n",
    "      rated_amount_sum DECIMAL(18,6)\n",
    "\t  )\n",
    "PRIMARY INDEX ( SUBS_ID )\n",
    "ON COMMIT PRESERVE ROWS;\n",
    "\n",
    "'''"
   ]
  },
  {
   "cell_type": "code",
   "execution_count": 16,
   "id": "f48ed9f1-1369-4da4-b013-835c94ba623f",
   "metadata": {
    "execution": {
     "iopub.execute_input": "2023-01-19T11:48:25.448456Z",
     "iopub.status.busy": "2023-01-19T11:48:25.447730Z",
     "iopub.status.idle": "2023-01-19T11:48:25.493482Z",
     "shell.execute_reply": "2023-01-19T11:48:25.492244Z",
     "shell.execute_reply.started": "2023-01-19T11:48:25.448404Z"
    },
    "tags": []
   },
   "outputs": [
    {
     "name": "stdout",
     "output_type": "stream",
     "text": [
      "\n",
      "CREATE multiset TABLE prd_dm.mc_forecast_return_revenue (\n",
      "    report_date DATE format 'YY/MM/DD',\n",
      "    return_current_month_date decimal(18, 6),\n",
      "    return_current_month_last_year_date decimal(18, 6),\n",
      "    return_current_month_last_year decimal(18, 6),\n",
      "    return_current_year decimal(18, 6),\n",
      "    return_last_year_last_date decimal(18, 6),\n",
      "    return_last_year decimal(18, 6),\n",
      "    revenue_current_month_date decimal(18, 6),\n",
      "    revenue_current_month_last_year_date decimal(18, 6),\n",
      "    revenue_current_month_last_year decimal(18, 6),\n",
      "    revenue_current_year decimal(18, 6),\n",
      "    revenue_last_year_last_date decimal(18, 6),\n",
      "    revenue_last_year decimal(18, 6)\n",
      "    )\n",
      "PRIMARY INDEX (report_date);\n",
      "\n",
      "\n",
      "INSERT INTO prd_dm.mc_forecast_return_revenue\n",
      "SELECT *\n",
      "FROM uat_dm.mc_forecast_return_revenue;\n",
      "\n",
      "\n",
      "CREATE multiset TABLE amount_per_day_usage (\n",
      "    first_day_of_month DATE format 'YY/MM/DD',\n",
      "    report_date DATE format 'YY/MM/DD',\n",
      "    subs_id decimal(12, 0),\n",
      "    bsegment varchar(20),\n",
      "    rated_amount_sum decimal(18, 6)\n",
      "    )\n",
      "PRIMARY INDEX (subs_id) ON\n",
      "COMMIT PRESERVE ROWS;\n",
      "\n",
      "\n",
      "CREATE multiset VOLATILE TABLE amount_per_day_usage (\n",
      "    first_day_of_month DATE format 'YY/MM/DD',\n",
      "    report_date DATE format 'YY/MM/DD',\n",
      "    subs_id decimal(12, 0),\n",
      "    bsegment varchar(20) CHARACTER SET unicode casespecific,\n",
      "    rated_amount_sum decimal(18, 6)\n",
      "    )\n",
      "PRIMARY INDEX (subs_id) ON\n",
      "COMMIT PRESERVE ROWS;\n"
     ]
    }
   ],
   "source": [
    "sql.run(raw)"
   ]
  },
  {
   "cell_type": "code",
   "execution_count": 17,
   "id": "fd3e385f-7e00-4626-b049-07f06fe868b8",
   "metadata": {
    "execution": {
     "iopub.execute_input": "2023-01-19T11:48:48.199541Z",
     "iopub.status.busy": "2023-01-19T11:48:48.198706Z",
     "iopub.status.idle": "2023-01-19T11:48:48.207531Z",
     "shell.execute_reply": "2023-01-19T11:48:48.206495Z",
     "shell.execute_reply.started": "2023-01-19T11:48:48.199500Z"
    },
    "tags": []
   },
   "outputs": [],
   "source": [
    "sql = HandlerSQL()\n",
    "raw = '''\n",
    "SELect\n",
    "                             t.report_date\n",
    "  ,      t.gendeR\n",
    ",   active,sUm(t.vol) as sum_vol, Count(t.xsdf) as dfv\n",
    ", avg(sdf) as fpl\n",
    ",   sum(total_days_per_month) over (partition by subs_id, id order by subs_id, end_of_month rows between 2 preceding and current row) as cum_sum_90d_1\n",
    "\n",
    ", buzz\n",
    ", sum(total_days_per_month) over (partition by subs_id order by subs_id, end_of_month rows between 2 preceding and current row) as cum_sum_90d_2\n",
    "  ,  t.gendeR\n",
    ", sum(total_days_per_month) over (order by subs_id, end_of_month rows between 2 preceding and current row) as cum_sum_90d_3\n",
    ",       foo\n",
    ",   foo1\n",
    "\n",
    ", count(total_days_per_month) over (partition by id order by subs_id rows between 2 preceding and current row) as cum_sum_90d_1\n",
    ", sum(total_days_per_month) over (partition by subs_id order by subs_id, end_of_month rows between 2 preceding and current row) as cum_sum_90d_2\n",
    ", sum(total_days_per_month) over (partition by subs_id, id, a, b, c order by subs_id, end_of_month, a, b, x rows between 2 preceding and current row) as cum_sum_90d_3\n",
    ", sum(total_days_per_month) over (order by subs_id) as cum_sum_90d_4\n",
    ", rank() over (partition by subs_id, id order by subs_id, end_of_month rows between 2 preceding and current row) as cum_sum_90d_5\n",
    "\n",
    "\n",
    "FROM active_data_users AS t\n",
    "LEFT JOIN traffic AS trf ON\n",
    "JOIN table as tab on t.subs_id = tab.subs_id or t.report_date = tab.report_date1_\n",
    "and (t.subs_id = trf.subs_id or t.id = trf.id)\n",
    "left join bar on t.num = bar.num and t.dt = bar.dt and (t.foo = tab.foo or t.buzz = tab.buzz)\n",
    "where  t> 3  and  t=0 and (d>t.wef or d>6 or t.vol = 49 or t.vol = 10 or y =13) and f=  12 or t.vol  =   r.top and i in   (1111, 111222, 2222222222, 22222222444444444, 4444444444444555555555555555555)\n",
    "GROUP BY\n",
    "1, 2, 3,4\n",
    ", t.report_date\n",
    ", age_group\n",
    ", t.gender;\n",
    "\n",
    "select * from tab join buzz on a=b where 1=1 and id != 111 or name in (xyz, abc);\n",
    "select * from tabl full outer join foo as f on name  =name where t = 9;\n",
    "\n",
    "select t.var \n",
    "from foo as f\n",
    "join buzz as b\n",
    "    on (\n",
    "        f.id=b.id\n",
    "        and f.dt=b.dt\n",
    "        and xyz.sdfjhfd = c.asdnweionf\n",
    "    )\n",
    "where 1=1 \n",
    "    and (\n",
    "    b.date >= '2022-10-01' \n",
    "    and t.name != 'not in RU'\n",
    "    )\n",
    "'''"
   ]
  },
  {
   "cell_type": "code",
   "execution_count": 18,
   "id": "0dfd6c42-d5a9-46ed-8a20-67cca5f6c308",
   "metadata": {
    "execution": {
     "iopub.execute_input": "2023-01-19T11:48:49.600187Z",
     "iopub.status.busy": "2023-01-19T11:48:49.598452Z",
     "iopub.status.idle": "2023-01-19T11:48:49.683439Z",
     "shell.execute_reply": "2023-01-19T11:48:49.682454Z",
     "shell.execute_reply.started": "2023-01-19T11:48:49.600130Z"
    },
    "tags": []
   },
   "outputs": [
    {
     "name": "stderr",
     "output_type": "stream",
     "text": [
      "\n",
      "        CodeStyle Warning in column_name_rule_warn(): Если в запросе участвуют несколько таблиц, то при указании наименования столбца необходимо явно указывать \n",
      "        какой таблице принадлежит столбец. Проверьте строки ['active,', 'AVG(sdf) AS fpl,', 'SUM(total_days_per_month) OVER (PARTITION BY subs_id,', 'id', 'ORDER BY subs_id,', 'end_of_month ROWS BETWEEN 2 preceding AND CURRENT ROW) AS cum_sum_90d_1 ,', 'buzz,', 'SUM(total_days_per_month) OVER (PARTITION BY subs_id', 'ORDER BY subs_id,', 'end_of_month ROWS BETWEEN 2 preceding AND CURRENT ROW) AS cum_sum_90d_2 ,', 'SUM(total_days_per_month) OVER (', 'ORDER BY subs_id,', 'end_of_month ROWS BETWEEN 2 preceding AND CURRENT ROW) AS cum_sum_90d_3,', 'foo,', 'foo1 ,', 'COUNT(total_days_per_month) OVER (PARTITION BY id', 'ORDER BY subs_id ROWS BETWEEN 2 preceding AND CURRENT ROW) AS cum_sum_90d_1,', 'SUM(total_days_per_month) OVER (PARTITION BY subs_id', 'ORDER BY subs_id,', 'end_of_month ROWS BETWEEN 2 preceding AND CURRENT ROW) AS cum_sum_90d_2,', 'SUM(total_days_per_month) OVER (PARTITION BY subs_id,', 'id,', 'a,', 'b,', 'c', 'ORDER BY subs_id,', 'end_of_month,', 'a,', 'b,', 'x ROWS BETWEEN 2 preceding AND CURRENT ROW) AS cum_sum_90d_3,', 'SUM(total_days_per_month) OVER (', 'ORDER BY subs_id) AS cum_sum_90d_4,', 'RANK() OVER (PARTITION BY subs_id,', 'id', 'ORDER BY subs_id,', 'end_of_month ROWS BETWEEN 2 preceding AND CURRENT ROW) AS cum_sum_90d_5', 'AND t > 3', 'AND t = 0', 'OR d > 6', 'OR y = 13)', 'AND f = 12', 'AND i in (1111,', '111222,', '2222222222,', '22222222444444444,', '4444444444444555555555555555555)', 'GROUP BY 1,', '2,', '3,', '4,', 'age_group,', 'AND id != 111', 'OR name in (xyz,', 'abc);', 'AND t = 9;']. (SQL Style Guide. Подзапросы. Ссылка: https://wiki.tele2.ru/pages/viewpage.action?pageId=139127857&preview=/139127857/139128786/SQL%20StyleGuide.pdf)\n",
      "        \n",
      "\n",
      "        CodeStyle Warning in group_rules_warn(): При использовании GROUP BY, HAVING, ORDER BY необходимо использовать буквенное наименование колонок. \n",
      "        (SQL Style Guide.Общие конструкции. Ссылка: https://wiki.tele2.ru/pages/viewpage.action?pageId=139127857&preview=/139127857/139128786/SQL%20StyleGuide.pdf)\n",
      "        \n",
      "\n",
      "        CodeStyle Warning in or_in_a_row_warn(): Найдено 1 подряд идущих условий OR. Рекомендуется замена условий на выражение IN (x, y, z). \n",
      "        (SQL Style Guide. WHERE/ON. Ссылка: https://wiki.tele2.ru/pages/viewpage.action?pageId=139127857&preview=/139127857/139128786/SQL%20StyleGuide.pdf)\n",
      "        \n",
      "\n",
      "        CodeStyle Warning in row_max_symbols_warn(): Максимальное количество символов в строке – не более 80. (SQL Style Guide. Общие конструкции. \n",
      "        Ссылка: https://wiki.tele2.ru/pages/viewpage.action?pageId=139127857&preview=/139127857/139128786/SQL%20StyleGuide.pdf). \n",
      "        Перечень строк с ошибками сохранен в объекте row_max_symbols_df_global.\n",
      "        \n"
     ]
    },
    {
     "name": "stdout",
     "output_type": "stream",
     "text": [
      "\n",
      "SELECT t.report_date ,\n",
      "       t.gender,\n",
      "       active,\n",
      "       SUM(t.vol) AS sum_vol,\n",
      "       COUNT(t.xsdf) AS dfv,\n",
      "       AVG(sdf) AS fpl,\n",
      "       SUM(total_days_per_month) OVER (PARTITION BY subs_id,\n",
      "                    id\n",
      "               ORDER BY subs_id,\n",
      "                    end_of_month ROWS BETWEEN 2 preceding AND CURRENT ROW) AS cum_sum_90d_1 ,\n",
      "       buzz,\n",
      "       SUM(total_days_per_month) OVER (PARTITION BY subs_id\n",
      "               ORDER BY subs_id,\n",
      "                    end_of_month ROWS BETWEEN 2 preceding AND CURRENT ROW) AS cum_sum_90d_2 ,\n",
      "       t.gender,\n",
      "       SUM(total_days_per_month) OVER (\n",
      "               ORDER BY subs_id,\n",
      "                    end_of_month ROWS BETWEEN 2 preceding AND CURRENT ROW) AS cum_sum_90d_3,\n",
      "       foo,\n",
      "       foo1 ,\n",
      "       COUNT(total_days_per_month) OVER (PARTITION BY id\n",
      "               ORDER BY subs_id ROWS BETWEEN 2 preceding AND CURRENT ROW) AS cum_sum_90d_1,\n",
      "       SUM(total_days_per_month) OVER (PARTITION BY subs_id\n",
      "               ORDER BY subs_id,\n",
      "                    end_of_month ROWS BETWEEN 2 preceding AND CURRENT ROW) AS cum_sum_90d_2,\n",
      "       SUM(total_days_per_month) OVER (PARTITION BY subs_id,\n",
      "                    id,\n",
      "                    a,\n",
      "                    b,\n",
      "                    c\n",
      "               ORDER BY subs_id,\n",
      "                    end_of_month,\n",
      "                    a,\n",
      "                    b,\n",
      "                    x ROWS BETWEEN 2 preceding AND CURRENT ROW) AS cum_sum_90d_3,\n",
      "       SUM(total_days_per_month) OVER (\n",
      "               ORDER BY subs_id) AS cum_sum_90d_4,\n",
      "       RANK() OVER (PARTITION BY subs_id,\n",
      "                    id\n",
      "               ORDER BY subs_id,\n",
      "                    end_of_month ROWS BETWEEN 2 preceding AND CURRENT ROW) AS cum_sum_90d_5\n",
      "FROM active_data_users AS t\n",
      "LEFT JOIN traffic AS trf ON\n",
      "JOIN TABLE AS tab \n",
      "    ON (\n",
      "    t.subs_id = tab.subs_id\n",
      "    OR t.report_date = tab.report_date1_\n",
      "    AND (\n",
      "        t.subs_id = trf.subs_id\n",
      "         OR t.id = trf.id\n",
      "        )\n",
      "    )\n",
      "LEFT JOIN bar \n",
      "    ON (\n",
      "    t.num = bar.num\n",
      "    AND t.dt = bar.dt\n",
      "    AND (\n",
      "        t.foo = tab.foo\n",
      "         OR t.buzz = tab.buzz\n",
      "        )\n",
      "    )\n",
      "WHERE 1 = 1\n",
      "    AND t > 3\n",
      "    AND t = 0\n",
      "    AND (d > t.wef\n",
      "         OR d > 6\n",
      "         OR t.vol = 49\n",
      "         OR t.vol = 10\n",
      "         OR y = 13)\n",
      "    AND f = 12\n",
      "    OR t.vol = r.top\n",
      "    AND i in (1111,\n",
      "              111222,\n",
      "              2222222222,\n",
      "              22222222444444444,\n",
      "              4444444444444555555555555555555)\n",
      "GROUP BY 1,\n",
      "         2,\n",
      "         3,\n",
      "         4,\n",
      "         t.report_date,\n",
      "         age_group,\n",
      "         t.gender;\n",
      "\n",
      "\n",
      "SELECT *\n",
      "FROM tab\n",
      "JOIN buzz ON a = b\n",
      "WHERE 1 = 1\n",
      "    AND id != 111\n",
      "    OR name in (xyz,\n",
      "                abc);\n",
      "\n",
      "\n",
      "SELECT *\n",
      "FROM tabl\n",
      "FULL OUTER JOIN foo AS f ON name = name\n",
      "WHERE 1 = 1\n",
      "    AND t = 9;\n",
      "\n",
      "\n",
      "SELECT t.var\n",
      "FROM foo AS f\n",
      "JOIN buzz AS b \n",
      "    ON (\n",
      "        f.id = b.id\n",
      "        AND f.dt = b.dt\n",
      "        AND xyz.sdfjhfd = c.asdnweionf\n",
      "    )\n",
      "WHERE 1 = 1\n",
      "    AND (b.date >= '2022-10-01'\n",
      "         AND t.name != 'not in RU')\n"
     ]
    }
   ],
   "source": [
    "sql.run(raw)"
   ]
  },
  {
   "cell_type": "markdown",
   "id": "06034c0b-add9-4a78-ba1a-820b111104bd",
   "metadata": {},
   "source": [
    "### Что нужно доработать\n",
    "- Join'ы (некоторые кейсы с составными ключами)\n",
    "- Create table (несколько подряд идущих)\n",
    "- WITH statement\n",
    "- Последовательные сложные запросы\n",
    "- Процедуры"
   ]
  },
  {
   "cell_type": "markdown",
   "id": "4d18a82b-df90-463e-9366-6058995b3ff7",
   "metadata": {},
   "source": [
    "### Что планируется успеть до конца января?\n",
    "\n",
    "- Базовый сценарий: реализация всех взятых в работу правил + новых кейсов + логирование\n",
    "\n",
    "- Оптимистичный сценарий: расширение функционала специфичными функциями sql (teradata), вывод модуля во Flask"
   ]
  },
  {
   "cell_type": "code",
   "execution_count": 19,
   "id": "14e32f0c-6c3e-4a36-aa18-5a9681e95044",
   "metadata": {
    "execution": {
     "iopub.execute_input": "2023-01-19T11:51:24.857118Z",
     "iopub.status.busy": "2023-01-19T11:51:24.855607Z",
     "iopub.status.idle": "2023-01-19T11:51:24.884102Z",
     "shell.execute_reply": "2023-01-19T11:51:24.883468Z",
     "shell.execute_reply.started": "2023-01-19T11:51:24.857057Z"
    },
    "tags": []
   },
   "outputs": [
    {
     "name": "stderr",
     "output_type": "stream",
     "text": [
      "\n",
      "        CodeStyle Warning in or_in_a_row_warn(): Найдено 3 подряд идущих условий OR. Рекомендуется замена условий на выражение IN (x, y, z). \n",
      "        (SQL Style Guide. WHERE/ON. Ссылка: https://wiki.tele2.ru/pages/viewpage.action?pageId=139127857&preview=/139127857/139128786/SQL%20StyleGuide.pdf)\n",
      "        \n"
     ]
    },
    {
     "name": "stdout",
     "output_type": "stream",
     "text": [
      "\n",
      "SELECT t.subs_id ,\n",
      "       t.start_dttm ,\n",
      "       t.start_date ,\n",
      "       t.end_dttm ,\n",
      "       t.a_number ,\n",
      "       t.b_number\n",
      "FROM prd2_dds_v.usage AS t\n",
      "WHERE 1 = 1\n",
      "    AND t.start_date BETWEEN DATE'2022-10-01' AND DATE'2022-10-31'\n",
      "    AND t.traffic_type_id = 2\n",
      "    AND (t.b_number = '7757'\n",
      "         OR t.b_number = 11)\n",
      "    AND (t.a_number IN ('312',\n",
      "                        '7757')\n",
      "         OR LENGTH(t.a_number) = 11\n",
      "         OR t.b_number1 = 11)\n",
      "    AND (t.b_number1 = '7757'\n",
      "         OR t.b_number1 = 11\n",
      "         OR t.b_number1 = 12)\n"
     ]
    }
   ],
   "source": [
    "raw1 = '''\n",
    "SELECT\n",
    "\t\tt.subs_id\n",
    "\t\t, t.start_dttm\n",
    "\t\t, t.start_date\n",
    "\t\t, t.end_dttm\n",
    "\t\t, t.a_number\n",
    "\t\t, t.b_number\n",
    "\tFROM PRD2_DDS_V.USAGE AS t\n",
    "\tWHERE t.start_date BETWEEN DATE'2022-10-01' AND DATE'2022-10-31'\n",
    "\t\tAND t.traffic_type_id = 2\n",
    "\t\tAND (t.b_number = '7757' OR t.b_number = 11)\n",
    "\t\tAND (t.a_number IN ('312', '7757') OR Length(t.a_number) = 11 OR t.b_number1 = 11)\n",
    "        AND (t.b_number1 = '7757' OR t.b_number1 = 11 OR t.b_number1 = 12)\n",
    "\n",
    "'''\n",
    "sql = HandlerSQL()\n",
    "sql.run(raw1)"
   ]
  },
  {
   "cell_type": "code",
   "execution_count": 20,
   "id": "70ec0c5e-e8b9-4043-97e5-60dc7440a59c",
   "metadata": {
    "execution": {
     "iopub.execute_input": "2023-01-19T11:51:44.480142Z",
     "iopub.status.busy": "2023-01-19T11:51:44.478270Z",
     "iopub.status.idle": "2023-01-19T11:51:44.567662Z",
     "shell.execute_reply": "2023-01-19T11:51:44.566257Z",
     "shell.execute_reply.started": "2023-01-19T11:51:44.480084Z"
    },
    "tags": []
   },
   "outputs": [
    {
     "name": "stderr",
     "output_type": "stream",
     "text": [
      "\n",
      "        CodeStyle Warning in or_in_a_row_warn(): Найдено 3 подряд идущих условий OR. Рекомендуется замена условий на выражение IN (x, y, z). \n",
      "        (SQL Style Guide. WHERE/ON. Ссылка: https://wiki.tele2.ru/pages/viewpage.action?pageId=139127857&preview=/139127857/139128786/SQL%20StyleGuide.pdf)\n",
      "        \n"
     ]
    },
    {
     "name": "stdout",
     "output_type": "stream",
     "text": [
      "WITH all_users_mc AS (\n",
      "    SELECT t.subs_id,\n",
      "           t.msisdn,\n",
      "           t.transaction_id,\n",
      "           t.transaction_dttm,\n",
      "           t.amount_rub,\n",
      "           t.revenue_rub,\n",
      "           t.update_ts,\n",
      "           serv.valid_from_date,\n",
      "           serv.valid_to_date\n",
      "    FROM prd2_dds_v2.mobile_commerce AS t\n",
      "    JOIN prd2_dds_v2.service_instance AS serv \n",
      "        ON (\n",
      "        t.subs_id = serv.subs_id\n",
      "        AND serv.service_id = 30709\n",
      "        )\n",
      "    WHERE 1 = 1\n",
      "        AND t.transaction_dttm > '2022-09-30 00:00:00'\n",
      "        AND t.dt > 1\n",
      "),\n",
      "\n",
      "ordered_movings AS (\n",
      "    SELECT t.subs_id,\n",
      "           t.start_dttm,\n",
      "           t.start_date,\n",
      "           t.end_dttm,\n",
      "           t.a_number,\n",
      "           t.b_number\n",
      "    FROM prd2_dds_v.usage AS t\n",
      "    WHERE 1 = 1\n",
      "        AND t.start_date BETWEEN DATE'2022-10-01' AND DATE'2022-10-31'\n",
      "        AND t.traffic_type_id = 2\n",
      "        AND (t.b_number = '7757'\n",
      "             OR t.b_number = 11)\n",
      "        AND (t.a_number IN ('312',\n",
      "                            '7757')\n",
      "             OR LENGTH(t.a_number) = 11\n",
      "                 OR t.b_number1 = 11)\n",
      "        AND (t.b_number1 = '7757'\n",
      "             OR t.b_number1 = 11\n",
      "             OR t.b_number1 = 12)\n",
      "),\n",
      "\n",
      "tempo AS (\n",
      "    SELECT t.subs_id,\n",
      "           t.a_number,\n",
      "           t.foo,\n",
      "           t.buzz\n",
      "    FROM buka AS t\n",
      "    WHERE 1 = 1\n",
      "        AND t.foo IS NOT NULL\n",
      "),\n",
      "\n",
      "acdc AS (\n",
      "    SELECT t.foo1,\n",
      "           t.buzz1\n",
      "    FROM tempo AS t\n",
      ")\n",
      "\n",
      "\n",
      "SELECT *\n",
      "FROM ordered_movings\n"
     ]
    }
   ],
   "source": [
    "raw1 = '''\n",
    "WITH ALL_USERS_MC AS (\n",
    "\tSELECT\n",
    "\t\tt.subs_id\n",
    "\t\t, t.msisdn\n",
    "\t\t, t.transaction_id\n",
    "\t\t, t.transaction_dttm\n",
    "\t\t, t.amount_rub\n",
    "\t\t, t.revenue_rub\n",
    "\t\t, t.update_ts\n",
    "\t\t, serv.valid_from_date\n",
    "\t\t, serv.valid_to_date\n",
    "\tFROM prd2_dds_v2.mobile_commerce AS t\n",
    "\tJOIN prd2_dds_v2.service_instance AS serv ON t.subs_id = serv.subs_id\n",
    "\t\tAND serv.service_id = 30709\n",
    "\tWHERE t.transaction_dttm > '2022-09-30 00:00:00' and t.dt > 1 \n",
    "),\n",
    "\n",
    "ORDERED_MOVINGS AS (\n",
    "\tSELECT\n",
    "\t\tt.subs_id\n",
    "\t\t, t.start_dttm\n",
    "\t\t, t.start_date\n",
    "\t\t, t.end_dttm\n",
    "\t\t, t.a_number\n",
    "\t\t, t.b_number\n",
    "\tFROM PRD2_DDS_V.USAGE AS t\n",
    "\tWHERE t.start_date BETWEEN DATE'2022-10-01' AND DATE'2022-10-31'\n",
    "\t\tAND t.traffic_type_id = 2\n",
    "\t\tAND (t.b_number = '7757' OR t.b_number = 11)\n",
    "\t\tAND (t.a_number IN ('312', '7757') OR Length(t.a_number) = 11 OR t.b_number1 = 11)\n",
    "        AND (t.b_number1 = '7757' OR t.b_number1 = 11 OR t.b_number1 = 12))\n",
    ",\n",
    "\n",
    "tempo as (\n",
    "select t.subs_id, t.a_number, t.foo, t.buzz\n",
    "from buka as t\n",
    "where t.foo is not null\n",
    "),\n",
    "\n",
    "acdc as (\n",
    "select t.foo1, t.buzz1\n",
    "from tempo as t\n",
    "\n",
    ")\n",
    "select * from ORDERED_MOVINGS\n",
    "'''\n",
    "sql = HandlerSQL()\n",
    "sql.run(raw1)"
   ]
  },
  {
   "cell_type": "code",
   "execution_count": 21,
   "id": "c24ad825-0a54-49bb-961a-2c38a78c4caf",
   "metadata": {
    "execution": {
     "iopub.execute_input": "2023-01-19T11:52:33.278872Z",
     "iopub.status.busy": "2023-01-19T11:52:33.277006Z",
     "iopub.status.idle": "2023-01-19T11:52:33.338701Z",
     "shell.execute_reply": "2023-01-19T11:52:33.337568Z",
     "shell.execute_reply.started": "2023-01-19T11:52:33.278812Z"
    },
    "tags": []
   },
   "outputs": [
    {
     "name": "stderr",
     "output_type": "stream",
     "text": [
      "\n",
      "        CodeStyle Warning in or_in_a_row_warn(): Найдено 1 подряд идущих условий OR. Рекомендуется замена условий на выражение IN (x, y, z). \n",
      "        (SQL Style Guide. WHERE/ON. Ссылка: https://wiki.tele2.ru/pages/viewpage.action?pageId=139127857&preview=/139127857/139128786/SQL%20StyleGuide.pdf)\n",
      "        \n"
     ]
    },
    {
     "name": "stdout",
     "output_type": "stream",
     "text": [
      "WITH ordered_movings AS (\n",
      "    SELECT t.subs_id,\n",
      "           t.start_dttm,\n",
      "           t.start_date,\n",
      "           t.end_dttm,\n",
      "           t.a_number,\n",
      "           t.b_number\n",
      "    FROM prd2_dds_v.usage AS t\n",
      "    WHERE 1 = 1\n",
      "        AND t.start_date BETWEEN DATE'2022-10-01' AND DATE'2022-10-31'\n",
      "        AND t.traffic_type_id = 2\n",
      "        AND (t.b_number = '7757'\n",
      "             OR t.b_number = 11)\n",
      "        AND (t.a_number IN ('312',\n",
      "                            '7757')\n",
      "             OR LENGTH(t.a_number) = 11)\n",
      "        AND (t.b_number1 = '7757'\n",
      "        OR t.b_number1 = 11\n",
      ")\n",
      "\n",
      "\n",
      "SELECT *\n",
      "FROM ordered_movings\n"
     ]
    }
   ],
   "source": [
    "raw1 = '''\n",
    "WITH ORDERED_MOVINGS AS (\n",
    "\tSELECT\n",
    "\t\tt.subs_id\n",
    "\t\t, t.start_dttm\n",
    "\t\t, t.start_date\n",
    "\t\t, t.end_dttm\n",
    "\t\t, t.a_number\n",
    "\t\t, t.b_number\n",
    "\tFROM PRD2_DDS_V.USAGE AS t\n",
    "\tWHERE t.start_date BETWEEN DATE'2022-10-01' AND DATE'2022-10-31'\n",
    "\t\tAND t.traffic_type_id = 2\n",
    "\t\tAND (t.b_number = '7757' OR t.b_number = 11)\n",
    "\t\tAND (t.a_number IN ('312', '7757') OR Length(t.a_number) = 11)\n",
    "        AND (t.b_number1 = '7757' OR t.b_number1 = 11)\n",
    "        )\n",
    "\n",
    "select * from ORDERED_MOVINGS\n",
    "'''\n",
    "sql = HandlerSQL()\n",
    "sql.run(raw1)"
   ]
  },
  {
   "cell_type": "code",
   "execution_count": null,
   "id": "a6e0393b-ba0b-4ff1-9889-17cfecebb1a0",
   "metadata": {},
   "outputs": [],
   "source": []
  }
 ],
 "metadata": {
  "kernelspec": {
   "display_name": "Geo",
   "language": "python",
   "name": "geo_python"
  },
  "language_info": {
   "codemirror_mode": {
    "name": "ipython",
    "version": 3
   },
   "file_extension": ".py",
   "mimetype": "text/x-python",
   "name": "python",
   "nbconvert_exporter": "python",
   "pygments_lexer": "ipython3",
   "version": "3.9.15"
  }
 },
 "nbformat": 4,
 "nbformat_minor": 5
}
