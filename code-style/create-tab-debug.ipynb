{
 "cells": [
  {
   "cell_type": "code",
   "execution_count": 48,
   "id": "311c60f5-563e-4749-a858-90c8b518fedc",
   "metadata": {
    "execution": {
     "iopub.execute_input": "2023-01-11T09:54:55.404276Z",
     "iopub.status.busy": "2023-01-11T09:54:55.403646Z",
     "iopub.status.idle": "2023-01-11T09:54:55.435917Z",
     "shell.execute_reply": "2023-01-11T09:54:55.435082Z",
     "shell.execute_reply.started": "2023-01-11T09:54:55.404242Z"
    },
    "tags": []
   },
   "outputs": [
    {
     "name": "stdout",
     "output_type": "stream",
     "text": [
      "The autoreload extension is already loaded. To reload it, use:\n",
      "  %reload_ext autoreload\n"
     ]
    }
   ],
   "source": [
    "%load_ext autoreload\n",
    "%autoreload 2\n",
    "\n",
    "from SQLParser import *\n",
    "import SQLFunctions as funcs\n",
    "from SQLParserError import SQLParserError\n",
    "import warnings"
   ]
  },
  {
   "cell_type": "code",
   "execution_count": 111,
   "id": "0101196a-6012-4882-b7b4-a22d3c74c376",
   "metadata": {
    "execution": {
     "iopub.execute_input": "2023-01-11T14:23:07.922865Z",
     "iopub.status.busy": "2023-01-11T14:23:07.921976Z",
     "iopub.status.idle": "2023-01-11T14:23:07.954774Z",
     "shell.execute_reply": "2023-01-11T14:23:07.954042Z",
     "shell.execute_reply.started": "2023-01-11T14:23:07.922835Z"
    },
    "tags": []
   },
   "outputs": [],
   "source": [
    "sql = SQLParser()\n",
    "raw = '''\n",
    "\n",
    "CREATE MULTISET TABLE PRD_DM.MC_FORECAST_RETURN_REVENUE \n",
    "    (\n",
    "    REPORT_DATE DATE Format 'YY/MM/DD',\n",
    "    RETURN_CURRENT_MONTH_DATE DECIMAL(18,6),\n",
    "    RETURN_CURRENT_MONTH_LAST_YEAR_DATE DECIMAL(18,6),\n",
    "    RETURN_CURRENT_MONTH_LAST_YEAR DECIMAL(18,6),\n",
    "    RETURN_CURRENT_YEAR DECIMAL(18,6),\n",
    "    RETURN_LAST_YEAR_LAST_DATE DECIMAL(18,6),\n",
    "    RETURN_LAST_YEAR DECIMAL(18,6),\n",
    "    REVENUE_CURRENT_MONTH_DATE DECIMAL(18,6),\n",
    "    REVENUE_CURRENT_MONTH_LAST_YEAR_DATE DECIMAL(18,6),\n",
    "    REVENUE_CURRENT_MONTH_LAST_YEAR DECIMAL(18,6),\n",
    "    REVENUE_CURRENT_YEAR DECIMAL(18,6),\n",
    "    REVENUE_LAST_YEAR_LAST_DATE DECIMAL(18,6),\n",
    "    REVENUE_LAST_YEAR DECIMAL(18,6)\n",
    "\t)\n",
    "PRIMARY INDEX ( REPORT_DATE );\n",
    "\n",
    "INSERT INTO PRD_DM.MC_FORECAST_RETURN_REVENUE\n",
    "SELECT * FROM UAT_DM.MC_FORECAST_RETURN_REVENUE;\n",
    "\n",
    "CREATE MULTISET TABLE amount_per_day_usage\n",
    "     (\n",
    "      first_day_of_month DATE Format 'YY/MM/DD',\n",
    "      REPORT_DATE DATE Format 'YY/MM/DD',\n",
    "      SUBS_ID DECIMAL(12,0),\n",
    "      BSEGMENT VARCHAR(20) CHARACTER SET Unicode CaseSpecific,\n",
    "      rated_amount_sum DECIMAL(18,6)\n",
    "\t  )\n",
    "PRIMARY INDEX ( SUBS_ID )\n",
    "ON COMMIT PRESERVE ROWS;\n",
    "\n",
    " CREATE MULTISET VOLATILE TABLE amount_per_day_usage\n",
    "     (\n",
    "      first_day_of_month2 DATE Format 'YY/MM/DD',\n",
    "      REPORT_DATE2 DATE Format 'YY/MM/DD',\n",
    "      SUBS_ID2 DECIMAL(12,0),\n",
    "      BSEGMENT2 VARCHAR(20) CHARACTER SET Unicode CaseSpecific,\n",
    "      rated_amount_sum2 DECIMAL(18,6)\n",
    "\t  )\n",
    "PRIMARY INDEX ( SUBS_ID )\n",
    "ON COMMIT PRESERVE ROWS;\n",
    "\n",
    "CREATE MULTISET VOLATILE TABLE amount_per_day_usage\n",
    "     (\n",
    "      first_day_of_month1 DATE Format 'YY/MM/DD',\n",
    "      REPORT_DATE1 DATE Format 'YY/MM/DD',\n",
    "      SUBS_ID1 DECIMAL(12,0),\n",
    "      BSEGMENT1 VARCHAR(20) CHARACTER SET Unicode CaseSpecific,\n",
    "      rated_amount_sum1 DECIMAL(18,6)\n",
    "\t  )\n",
    "PRIMARY INDEX ( SUBS_ID )\n",
    "ON COMMIT PRESERVE ROWS;\n",
    "\n",
    "'''"
   ]
  },
  {
   "cell_type": "code",
   "execution_count": 50,
   "id": "2878d79c-72d9-4a76-8215-40a6d6062f1e",
   "metadata": {
    "collapsed": true,
    "execution": {
     "iopub.execute_input": "2023-01-11T09:55:00.437115Z",
     "iopub.status.busy": "2023-01-11T09:55:00.436488Z",
     "iopub.status.idle": "2023-01-11T09:55:00.509511Z",
     "shell.execute_reply": "2023-01-11T09:55:00.508610Z",
     "shell.execute_reply.started": "2023-01-11T09:55:00.437075Z"
    },
    "jupyter": {
     "outputs_hidden": true
    },
    "tags": []
   },
   "outputs": [
    {
     "name": "stdout",
     "output_type": "stream",
     "text": [
      "Start run_code_style() function\n",
      "1 - functions_upper_case_sub() - done\n",
      "2 - where_clause_sub() - done\n",
      "3 - where_and_or_rule_sub - done\n",
      "4 - Window functions were not found. Return raw.\n",
      "5 - create_table_sub() - done\n",
      "6 - join_rule_sub() - done\n",
      "7 - join_and_or_rule_sub() - done\n",
      "All substitutions are well done\n",
      "All warnings are well done\n",
      "\n",
      "CREATE multiset TABLE prd_dm.mc_forecast_return_revenue (\n",
      "    report_date DATE format 'YY/MM/DD',\n",
      "    return_current_month_date decimal(18, 6),\n",
      "    return_current_month_last_year_date decimal(18, 6),\n",
      "    return_current_month_last_year decimal(18, 6),\n",
      "    return_current_year decimal(18, 6),\n",
      "    return_last_year_last_date decimal(18, 6),\n",
      "    return_last_year decimal(18, 6),\n",
      "    revenue_current_month_date decimal(18, 6),\n",
      "    revenue_current_month_last_year_date decimal(18, 6),\n",
      "    revenue_current_month_last_year decimal(18, 6),\n",
      "    revenue_current_year decimal(18, 6),\n",
      "    revenue_last_year_last_date decimal(18, 6),\n",
      "    revenue_last_year decimal(18, 6)\n",
      "    )\n",
      "PRIMARY INDEX (report_date);\n",
      "\n",
      "\n",
      "INSERT INTO prd_dm.mc_forecast_return_revenue\n",
      "SELECT *\n",
      "FROM uat_dm.mc_forecast_return_revenue;\n",
      "\n",
      "\n",
      "CREATE multiset TABLE amount_per_day_usage (\n",
      "    first_day_of_month DATE format 'YY/MM/DD',\n",
      "    report_date DATE format 'YY/MM/DD',\n",
      "    subs_id decimal(12, 0),\n",
      "    bsegment varchar(20) CHARACTER\n",
      "    SET unicode casespecific,\n",
      "    rated_amount_sum decimal(18, 6)\n",
      "    )\n",
      "PRIMARY INDEX (subs_id) ON\n",
      "COMMIT PRESERVE ROWS;\n",
      "\n",
      "\n",
      "CREATE multiset VOLATILE TABLE amount_per_day_usage (\n",
      "    first_day_of_month DATE format 'YY/MM/DD',\n",
      "    report_date DATE format 'YY/MM/DD',\n",
      "    subs_id decimal(12, 0),\n",
      "    bsegment varchar(20) CHARACTER\n",
      "    SET unicode casespecific,\n",
      "    rated_amount_sum decimal(18, 6)\n",
      "    )\n",
      "PRIMARY INDEX (subs_id) ON\n",
      "COMMIT PRESERVE ROWS;\n",
      "\n",
      "\n",
      "CREATE multiset VOLATILE TABLE amount_per_day_usage (\n",
      "    first_day_of_month1 DATE format 'YY/MM/DD',\n",
      "    report_date1 DATE format 'YY/MM/DD',\n",
      "    subs_id1 decimal(12, 0),\n",
      "    bsegment1 varchar(20) CHARACTER\n",
      "    SET unicode casespecific,\n",
      "    rated_amount_sum1 decimal(18, 6)\n",
      "    )\n",
      "PRIMARY INDEX (subs_id) ON\n",
      "COMMIT PRESERVE ROWS;\n"
     ]
    }
   ],
   "source": [
    "sql.run_code_style(raw)"
   ]
  },
  {
   "cell_type": "code",
   "execution_count": 112,
   "id": "a3810d1b-5272-4371-a324-efa9fd5f8166",
   "metadata": {
    "execution": {
     "iopub.execute_input": "2023-01-11T14:23:15.361611Z",
     "iopub.status.busy": "2023-01-11T14:23:15.360714Z",
     "iopub.status.idle": "2023-01-11T14:23:15.422727Z",
     "shell.execute_reply": "2023-01-11T14:23:15.422019Z",
     "shell.execute_reply.started": "2023-01-11T14:23:15.361581Z"
    },
    "tags": []
   },
   "outputs": [
    {
     "name": "stdout",
     "output_type": "stream",
     "text": [
      "\n",
      "CREATE multiset TABLE prd_dm.mc_forecast_return_revenue (report_date DATE format 'YY/MM/DD',\n",
      "                                                                                 return_current_month_date decimal(18, 6),\n",
      "                                                                                                           return_current_month_last_year_date decimal(18, 6),\n",
      "                                                                                                                                               return_current_month_last_year decimal(18, 6),\n",
      "                                                                                                                                                                              return_current_year decimal(18, 6),\n",
      "                                                                                                                                                                                                  return_last_year_last_date decimal(18, 6),\n",
      "                                                                                                                                                                                                                             return_last_year decimal(18, 6),\n",
      "                                                                                                                                                                                                                                              revenue_current_month_date decimal(18, 6),\n",
      "                                                                                                                                                                                                                                                                         revenue_current_month_last_year_date decimal(18, 6),\n",
      "                                                                                                                                                                                                                                                                                                              revenue_current_month_last_year decimal(18, 6),\n",
      "                                                                                                                                                                                                                                                                                                                                              revenue_current_year decimal(18, 6),\n",
      "                                                                                                                                                                                                                                                                                                                                                                   revenue_last_year_last_date decimal(18, 6),\n",
      "                                                                                                                                                                                                                                                                                                                                                                                               revenue_last_year decimal(18, 6)) PRIMARY INDEX (report_date);\n",
      "\n",
      "\n",
      "INSERT INTO prd_dm.mc_forecast_return_revenue\n",
      "SELECT *\n",
      "FROM uat_dm.mc_forecast_return_revenue;\n",
      "\n",
      "\n",
      "CREATE multiset TABLE amount_per_day_usage (first_day_of_month DATE format 'YY/MM/DD',\n",
      "                                                                           report_date DATE format 'YY/MM/DD',\n",
      "                                                                                                   subs_id decimal(12, 0),\n",
      "                                                                                                           bsegment varchar(20) CHARACTER\n",
      "                                            SET unicode casespecific,\n",
      "                                                rated_amount_sum decimal(18, 6)) PRIMARY INDEX (subs_id) ON\n",
      "COMMIT PRESERVE ROWS;\n",
      "\n",
      "\n",
      "CREATE multiset VOLATILE TABLE amount_per_day_usage (first_day_of_month2 DATE format 'YY/MM/DD',\n",
      "                                                                                     report_date2 DATE format 'YY/MM/DD',\n",
      "                                                                                                              subs_id2 decimal(12, 0),\n",
      "                                                                                                                       bsegment2 varchar(20) CHARACTER\n",
      "                                                     SET unicode casespecific,\n",
      "                                                         rated_amount_sum2 decimal(18, 6)) PRIMARY INDEX (subs_id) ON\n",
      "COMMIT PRESERVE ROWS;\n",
      "\n",
      "\n",
      "CREATE multiset VOLATILE TABLE amount_per_day_usage (first_day_of_month1 DATE format 'YY/MM/DD',\n",
      "                                                                                     report_date1 DATE format 'YY/MM/DD',\n",
      "                                                                                                              subs_id1 decimal(12, 0),\n",
      "                                                                                                                       bsegment1 varchar(20) CHARACTER\n",
      "                                                     SET unicode casespecific,\n",
      "                                                         rated_amount_sum1 decimal(18, 6)) PRIMARY INDEX (subs_id) ON\n",
      "COMMIT PRESERVE ROWS;\n"
     ]
    }
   ],
   "source": [
    "d = sql.default_string(raw)\n",
    "print(d)"
   ]
  },
  {
   "cell_type": "code",
   "execution_count": 123,
   "id": "c174a487-136d-43fc-b3b7-4f193f78c20d",
   "metadata": {
    "execution": {
     "iopub.execute_input": "2023-01-11T14:37:27.503841Z",
     "iopub.status.busy": "2023-01-11T14:37:27.502918Z",
     "iopub.status.idle": "2023-01-11T14:37:27.532716Z",
     "shell.execute_reply": "2023-01-11T14:37:27.531895Z",
     "shell.execute_reply.started": "2023-01-11T14:37:27.503795Z"
    },
    "tags": []
   },
   "outputs": [
    {
     "name": "stdout",
     "output_type": "stream",
     "text": [
      "\n",
      "CREATE multiset TABLE prd_dm.mc_forecast_return_revenue (\n",
      "    report_date DATE format 'YY/MM/DD',\n",
      "    return_current_month_date decimal(18, 6),\n",
      "    return_current_month_last_year_date decimal(18, 6),\n",
      "    return_current_month_last_year decimal(18, 6),\n",
      "    return_current_year decimal(18, 6),\n",
      "    return_last_year_last_date decimal(18, 6),\n",
      "    return_last_year decimal(18, 6),\n",
      "    revenue_current_month_date decimal(18, 6),\n",
      "    revenue_current_month_last_year_date decimal(18, 6),\n",
      "    revenue_current_month_last_year decimal(18, 6),\n",
      "    revenue_current_year decimal(18, 6),\n",
      "    revenue_last_year_last_date decimal(18, 6),\n",
      "    revenue_last_year decimal(18, 6)\n",
      "    )\n",
      "PRIMARY INDEX (report_date);\n",
      "\n",
      "\n",
      "INSERT INTO prd_dm.mc_forecast_return_revenue\n",
      "SELECT *\n",
      "FROM uat_dm.mc_forecast_return_revenue;\n",
      "\n",
      "\n",
      "CREATE multiset TABLE amount_per_day_usage (\n",
      "    first_day_of_month DATE format 'YY/MM/DD',\n",
      "    report_date DATE format 'YY/MM/DD',\n",
      "    subs_id decimal(12, 0),\n",
      "    bsegment varchar(20) CHARACTER SET unicode casespecific,\n",
      "    rated_amount_sum decimal(18, 6)\n",
      "    )\n",
      "PRIMARY INDEX (subs_id) ON\n",
      "COMMIT PRESERVE ROWS;\n",
      "\n",
      "\n",
      "CREATE multiset VOLATILE TABLE amount_per_day_usage (\n",
      "    first_day_of_month2 DATE format 'YY/MM/DD',\n",
      "    report_date2 DATE format 'YY/MM/DD',\n",
      "    subs_id2 decimal(12, 0),\n",
      "    bsegment2 varchar(20) CHARACTER SET unicode casespecific,\n",
      "    rated_amount_sum2 decimal(18, 6)\n",
      "    )\n",
      "PRIMARY INDEX (subs_id) ON\n",
      "COMMIT PRESERVE ROWS;\n",
      "\n",
      "\n",
      "CREATE multiset VOLATILE TABLE amount_per_day_usage (\n",
      "    first_day_of_month1 DATE format 'YY/MM/DD',\n",
      "    report_date1 DATE format 'YY/MM/DD',\n",
      "    subs_id1 decimal(12, 0),\n",
      "    bsegment1 varchar(20) CHARACTER SET unicode casespecific,\n",
      "    rated_amount_sum1 decimal(18, 6)\n",
      "    )\n",
      "PRIMARY INDEX (subs_id) ON\n",
      "COMMIT PRESERVE ROWS;\n"
     ]
    }
   ],
   "source": [
    "print(create_table_sub(d))"
   ]
  },
  {
   "cell_type": "code",
   "execution_count": 122,
   "id": "b1c78ed8-1376-40af-aaf0-30cf10f521c3",
   "metadata": {
    "execution": {
     "iopub.execute_input": "2023-01-11T14:37:21.800893Z",
     "iopub.status.busy": "2023-01-11T14:37:21.800469Z",
     "iopub.status.idle": "2023-01-11T14:37:21.838415Z",
     "shell.execute_reply": "2023-01-11T14:37:21.837711Z",
     "shell.execute_reply.started": "2023-01-11T14:37:21.800859Z"
    },
    "tags": []
   },
   "outputs": [],
   "source": [
    "    def create_table_sub(raw):\n",
    "        '''\n",
    "        Функция исправляет отступы при создании таблиц в терадате. \n",
    "        '''\n",
    "        assert isinstance(raw, str), 'Аргумент raw должен быть типа string'\n",
    "                \n",
    "        if 'CREATE' in raw:\n",
    "            \n",
    "            script_by_rows = [tup for tup in raw.split('\\n')]\n",
    "            \n",
    "            create_keywords = ['CREATE multiset TABLE', 'CREATE multiset VOLATILE TABLE', 'CREATE MULTISET VOLATILE TABLE']\n",
    "            create_end = ['INSERT', 'CREATE', ]\n",
    "            \n",
    "            create_groups = []\n",
    "            counter = 0\n",
    "        \n",
    "            for ind in range(0, len(script_by_rows)):\n",
    "            \n",
    "                # если строка начинается с create_keywords, то запоминаем ее индекс\n",
    "                if script_by_rows[ind].startswith(tuple(create_keywords)) and counter == 0:\n",
    "                    counter = ind\n",
    "                \n",
    "                # если впереди другие операторы (не create_keywords) и счетчик не равен 0, то записываем диапазон\n",
    "                if ';' in script_by_rows[ind] and counter != 0:\n",
    "                    create_groups.append(script_by_rows[counter:ind+1])\n",
    "                    counter = 0\n",
    "            #print(create_groups)\n",
    "            spaces = 4 * ' '\n",
    "            for group in create_groups:\n",
    "                for ind in range(0, len(group)):\n",
    "                    if len(group[ind]) > 0:\n",
    "                        re_val = group[ind].replace(')', '\\)').replace('(', '\\(')\n",
    "                        pattern = re.compile(f'{re_val}')\n",
    "                        if '(' in group[ind] and group[ind].startswith(tuple(create_keywords)):\n",
    "                            right_val = group[ind].strip().replace('(', '(\\n' + spaces)\n",
    "                            raw = pattern.sub(right_val, raw, 1)\n",
    "                        elif '))' in group[ind] and (';' in group[ind] or ' INDEX ' in group[ind]):\n",
    "                            right_val = spaces + group[ind].strip().replace(')) ', ')\\n' + spaces + ')\\n')\n",
    "                            raw = pattern.sub(right_val, raw, 1)\n",
    "                        elif 'COMMIT PRESERVE ROWS;' in group[ind]:\n",
    "                            right_val = group[ind].strip()\n",
    "                            raw = pattern.sub(right_val, raw, 1)\n",
    "                        elif 'SET unicode' in group[ind] and 'CHARACTER' in group[ind-1]:\n",
    "                            right_val = spaces + group[ind-1].strip() + ' ' + group[ind].strip()\n",
    "                            raw = pattern.sub(right_val, raw, 1)\n",
    "                            \n",
    "                            re_val = spaces + group[ind-1].strip().replace(')', '\\)').replace('(', '\\(')\n",
    "                            pattern = re.compile(f'{re_val}' + '\\n')\n",
    "                            right_val = ''\n",
    "                            raw = pattern.sub(right_val, raw, 1)\n",
    "                        else:\n",
    "                            re_val = group[ind].replace(')', '\\)').replace('(', '\\(')\n",
    "                            pattern = re.compile(f'{re_val}')\n",
    "                            right_val = spaces + group[ind].strip()\n",
    "                            raw = pattern.sub(right_val, raw, 1)\n",
    "        return raw"
   ]
  },
  {
   "cell_type": "code",
   "execution_count": 9,
   "id": "c6edc984-1a09-4bec-9237-44bd505131b9",
   "metadata": {
    "execution": {
     "iopub.execute_input": "2023-01-11T09:16:45.857112Z",
     "iopub.status.busy": "2023-01-11T09:16:45.855975Z",
     "iopub.status.idle": "2023-01-11T09:16:45.891591Z",
     "shell.execute_reply": "2023-01-11T09:16:45.890790Z",
     "shell.execute_reply.started": "2023-01-11T09:16:45.857072Z"
    },
    "tags": []
   },
   "outputs": [
    {
     "data": {
      "text/plain": [
       "\"\\nCREATE multiset TABLE prd_dm.mc_forecast_return_revenue (report_date DATE format 'YY/MM/DD',\\n                                                                                 return_current_month_date decimal(18, 6),\\n                                                                                                           return_current_month_last_year_date decimal(18, 6),\\n                                                                                                                                               return_current_month_last_year decimal(18, 6),\\n                                                                                                                                                                              return_current_year decimal(18, 6),\\n                                                                                                                                                                                                  return_last_year_last_date decimal(18, 6),\\n                                                                                                                                                                                                                             return_last_year decimal(18, 6),\\n                                                                                                                                                                                                                                              revenue_current_month_date decimal(18, 6),\\n                                                                                                                                                                                                                                                                         revenue_current_month_last_year_date decimal(18, 6),\\n                                                                                                                                                                                                                                                                                                              revenue_current_month_last_year decimal(18, 6),\\n                                                                                                                                                                                                                                                                                                                                              revenue_current_year decimal(18, 6),\\n                                                                                                                                                                                                                                                                                                                                                                   revenue_last_year_last_date decimal(18, 6),\\n                                                                                                                                                                                                                                                                                                                                                                                               revenue_last_year decimal(18, 6)) PRIMARY INDEX (report_date);\\n\\n\\nINSERT INTO prd_dm.mc_forecast_return_revenue\\nSELECT *\\nFROM uat_dm.mc_forecast_return_revenue;\\n\\n\\nCREATE multiset TABLE amount_per_day_usage (first_day_of_month DATE format 'YY/MM/DD',\\n                                                                           report_date DATE format 'YY/MM/DD',\\n                                                                                                   subs_id decimal(12, 0),\\n                                                                                                           bsegment varchar(20) CHARACTER\\n                                            SET unicode casespecific,\\n                                                rated_amount_sum decimal(18, 6)) PRIMARY INDEX (subs_id) ON\\nCOMMIT PRESERVE ROWS;\\n\\n\\nCREATE multiset VOLATILE TABLE amount_per_day_usage (first_day_of_month DATE format 'YY/MM/DD',\\n                                                                                    report_date DATE format 'YY/MM/DD',\\n                                                                                                            subs_id decimal(12, 0),\\n                                                                                                                    bsegment varchar(20) CHARACTER\\n                                                     SET unicode casespecific,\\n                                                         rated_amount_sum decimal(18, 6)) PRIMARY INDEX (subs_id) ON\\nCOMMIT PRESERVE ROWS;\""
      ]
     },
     "execution_count": 9,
     "metadata": {},
     "output_type": "execute_result"
    }
   ],
   "source": [
    "t = 'bsegment varchar(20) CHARACTER'\n",
    "g = 'SET unicode casespecific,'\n",
    "t.replace()"
   ]
  },
  {
   "cell_type": "code",
   "execution_count": 91,
   "id": "2ace42ea-1df8-4bee-b23f-a6c7c2ab81fd",
   "metadata": {
    "execution": {
     "iopub.execute_input": "2023-01-11T13:31:02.321004Z",
     "iopub.status.busy": "2023-01-11T13:31:02.320108Z",
     "iopub.status.idle": "2023-01-11T13:31:02.349997Z",
     "shell.execute_reply": "2023-01-11T13:31:02.349323Z",
     "shell.execute_reply.started": "2023-01-11T13:31:02.320971Z"
    },
    "tags": []
   },
   "outputs": [
    {
     "data": {
      "text/plain": [
       "False"
      ]
     },
     "execution_count": 91,
     "metadata": {},
     "output_type": "execute_result"
    }
   ],
   "source": [
    "'set' in 'tes'"
   ]
  }
 ],
 "metadata": {
  "kernelspec": {
   "display_name": "Geo",
   "language": "python",
   "name": "geo_python"
  },
  "language_info": {
   "codemirror_mode": {
    "name": "ipython",
    "version": 3
   },
   "file_extension": ".py",
   "mimetype": "text/x-python",
   "name": "python",
   "nbconvert_exporter": "python",
   "pygments_lexer": "ipython3",
   "version": "3.9.15"
  }
 },
 "nbformat": 4,
 "nbformat_minor": 5
}
