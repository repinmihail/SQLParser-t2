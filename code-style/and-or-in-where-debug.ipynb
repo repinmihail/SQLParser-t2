{
 "cells": [
  {
   "cell_type": "code",
   "execution_count": 1,
   "id": "e4f39c42-0031-4d8c-957b-d0f35829fc6f",
   "metadata": {
    "execution": {
     "iopub.execute_input": "2023-01-19T06:15:14.835084Z",
     "iopub.status.busy": "2023-01-19T06:15:14.834888Z",
     "iopub.status.idle": "2023-01-19T06:15:14.879638Z",
     "shell.execute_reply": "2023-01-19T06:15:14.878595Z",
     "shell.execute_reply.started": "2023-01-19T06:15:14.835061Z"
    },
    "tags": []
   },
   "outputs": [],
   "source": [
    "%load_ext autoreload\n",
    "%autoreload 2\n",
    "from SQLParser import SQLParser, WithStatementStyle, HandlerSQL\n",
    "import re"
   ]
  },
  {
   "cell_type": "code",
   "execution_count": 2,
   "id": "7030aa71-6452-4a6d-887d-3bf4b8a0faee",
   "metadata": {
    "execution": {
     "iopub.execute_input": "2023-01-19T06:15:14.895967Z",
     "iopub.status.busy": "2023-01-19T06:15:14.895769Z",
     "iopub.status.idle": "2023-01-19T06:15:14.925132Z",
     "shell.execute_reply": "2023-01-19T06:15:14.924222Z",
     "shell.execute_reply.started": "2023-01-19T06:15:14.895949Z"
    },
    "tags": []
   },
   "outputs": [],
   "source": [
    "sql = WithStatementStyle()"
   ]
  },
  {
   "cell_type": "code",
   "execution_count": 3,
   "id": "1677c796-d55f-424b-9fed-38624809436b",
   "metadata": {
    "execution": {
     "iopub.execute_input": "2023-01-19T06:15:14.927571Z",
     "iopub.status.busy": "2023-01-19T06:15:14.927016Z",
     "iopub.status.idle": "2023-01-19T06:15:14.963322Z",
     "shell.execute_reply": "2023-01-19T06:15:14.962367Z",
     "shell.execute_reply.started": "2023-01-19T06:15:14.927524Z"
    },
    "tags": []
   },
   "outputs": [],
   "source": [
    "raw1 = '''\n",
    "WITH ORDERED_MOVINGS AS (\n",
    "\tSELECT\n",
    "\t\tt.subs_id\n",
    "\t\t, t.start_dttm\n",
    "\t\t, t.start_date\n",
    "\t\t, t.end_dttm\n",
    "\t\t, t.a_number\n",
    "\t\t, t.b_number\n",
    "\tFROM PRD2_DDS_V.USAGE AS t\n",
    "\tWHERE t.start_date BETWEEN DATE'2022-10-01' AND DATE'2022-10-31'\n",
    "\t\tAND t.traffic_type_id = 2\n",
    "\t\tAND (t.b_number = '7757' OR t.b_number = 11)\n",
    "\t\tAND (t.a_number IN ('312', '7757') OR Length(t.a_number) = 11)\n",
    "        AND (t.b_number1 = '7757' OR t.b_number1 = 11)\n",
    "        )\n",
    "\n",
    "select * from ORDERED_MOVINGS\n",
    "'''"
   ]
  },
  {
   "cell_type": "code",
   "execution_count": 4,
   "id": "289ff1c8-f031-429e-b334-94e1aab55c5a",
   "metadata": {
    "execution": {
     "iopub.execute_input": "2023-01-19T06:15:15.952057Z",
     "iopub.status.busy": "2023-01-19T06:15:15.950838Z",
     "iopub.status.idle": "2023-01-19T06:15:15.993465Z",
     "shell.execute_reply": "2023-01-19T06:15:15.992545Z",
     "shell.execute_reply.started": "2023-01-19T06:15:15.952002Z"
    },
    "tags": []
   },
   "outputs": [],
   "source": [
    "d = sql.default_string(raw1)"
   ]
  },
  {
   "cell_type": "code",
   "execution_count": 7,
   "id": "8f4ec296-c27b-4147-b342-b9b84dc55ac0",
   "metadata": {
    "execution": {
     "iopub.execute_input": "2023-01-19T06:16:14.548058Z",
     "iopub.status.busy": "2023-01-19T06:16:14.547307Z",
     "iopub.status.idle": "2023-01-19T06:16:14.587789Z",
     "shell.execute_reply": "2023-01-19T06:16:14.586782Z",
     "shell.execute_reply.started": "2023-01-19T06:16:14.548003Z"
    },
    "tags": []
   },
   "outputs": [],
   "source": [
    "def where_and_or_rule(raw):\n",
    "    assert isinstance(raw, str), 'raw must be type of string'\n",
    "    \n",
    "    script_by_rows = [tup for tup in raw.split('\\n') if len(tup) > 0]\n",
    "    where_keywords = ['WHERE ', 'WHERE '] # в tuple нужно передать больше одного значения\n",
    "    where_end_group_by = ['GROUP BY ', 'ORDER BY ']    \n",
    "    \n",
    "    where_groups = []\n",
    "    counter = 0\n",
    "    for ind in range(0, len(script_by_rows)-1):\n",
    "        \n",
    "        # если строка начинается с where, то запоминаем ее индекс\n",
    "        if script_by_rows[ind].startswith(tuple(where_keywords)):\n",
    "            counter = ind\n",
    "            continue\n",
    "        \n",
    "        # если впереди group by, то записываем группу и обнуляем счетчик\n",
    "        if script_by_rows[ind+1].startswith(tuple(where_end_group_by)) :\n",
    "            where_groups.append(script_by_rows[counter:ind+1])\n",
    "            counter = 0\n",
    "            continue\n",
    "        \n",
    "        # если кол-во строк равно индексу (с поправкой) и счетчик не равен 0 (значит запрос заканчивается на выражении where), то записываем группу\n",
    "        if len(script_by_rows)-2 == ind and counter != 0:\n",
    "            where_groups.append(script_by_rows[counter:])\n",
    "            counter = 0\n",
    "    \n",
    "    counter = 0\n",
    "    and_groups = []\n",
    "    for group in where_groups:\n",
    "        for ind in range(0, len(group)-1):\n",
    "            if 'AND (' in group[ind] and counter == 0:\n",
    "                counter = ind\n",
    "            if 'AND (' in group[ind+1] and counter != 0:\n",
    "                and_groups.append(group[counter:ind+1])\n",
    "                counter = 0\n",
    "            if len(group)-2 == ind and counter != 0:\n",
    "                and_groups.append(group[counter:])\n",
    "    \n",
    "    for group in and_groups:\n",
    "        for ind in range(0, len(group)):\n",
    "            if 'AND (' in group[ind]:\n",
    "                re_val = group[ind].replace('(', '\\(').replace(')', '\\)')\n",
    "                pattern = re.compile(f'{re_val}')\n",
    "                spaces = 8 * ' '\n",
    "                right_val = group[ind].strip().replace('(', '(\\n' + spaces)\n",
    "                raw = pattern.sub(right_val, raw)\n",
    "            if len(group) - 1 > ind > 0:\n",
    "                re_val = group[ind].replace('(', '\\(').replace(')', '\\)')\n",
    "                pattern = re.compile(f'{re_val}')\n",
    "                spaces = 8 * ' '\n",
    "                right_val = spaces + group[ind].strip()\n",
    "                raw = pattern.sub(right_val, raw, 1)\n",
    "            if len(group) - 1 == ind:\n",
    "                #print(group[ind], 'last')\n",
    "                re_val = group[ind].replace('(', '\\(').replace(')', '\\)')\n",
    "                pattern = re.compile(f'{re_val}')\n",
    "                spaces = 4 * ' '\n",
    "                start_spaces = 8 * ' '\n",
    "                right_val = start_spaces + group[ind][:-1].strip() + '\\n' + spaces + ')'\n",
    "                raw = pattern.sub(right_val, raw, 1)\n",
    "            \n",
    "    return raw"
   ]
  },
  {
   "cell_type": "code",
   "execution_count": null,
   "id": "51dbe222-16f3-42ce-94ca-852ff27caa7f",
   "metadata": {},
   "outputs": [],
   "source": []
  },
  {
   "cell_type": "code",
   "execution_count": 8,
   "id": "2d1a0c4e-3f99-40e4-b8cc-1c8c03321505",
   "metadata": {
    "execution": {
     "iopub.execute_input": "2023-01-19T06:16:15.723368Z",
     "iopub.status.busy": "2023-01-19T06:16:15.722592Z",
     "iopub.status.idle": "2023-01-19T06:16:15.770215Z",
     "shell.execute_reply": "2023-01-19T06:16:15.768397Z",
     "shell.execute_reply.started": "2023-01-19T06:16:15.723308Z"
    },
    "tags": []
   },
   "outputs": [
    {
     "name": "stdout",
     "output_type": "stream",
     "text": [
      "\n",
      "SELECT t.subs_id ,\n",
      "       t.start_dttm ,\n",
      "       t.start_date ,\n",
      "       t.end_dttm ,\n",
      "       t.a_number ,\n",
      "       t.b_number\n",
      "FROM prd2_dds_v.usage AS t\n",
      "WHERE t.start_date BETWEEN DATE'2022-10-01' AND DATE'2022-10-31'\n",
      "    AND t.traffic_type_id = 2\n",
      "AND (\n",
      "        t.b_number = '7757'\n",
      "        OR t.b_numbe = 11\n",
      "    )\n",
      "AND (\n",
      "        t.a_number IN (\n",
      "        '312',\n",
      "        '7757')\n",
      "        OR length(t.a_number) = 11\n",
      "    )\n"
     ]
    }
   ],
   "source": [
    "print(where_and_or_rule(d))"
   ]
  },
  {
   "cell_type": "code",
   "execution_count": 79,
   "id": "20c66a5e-b3fe-429c-ac6c-32e13d777dc6",
   "metadata": {
    "execution": {
     "iopub.execute_input": "2023-01-18T19:50:45.376096Z",
     "iopub.status.busy": "2023-01-18T19:50:45.373949Z",
     "iopub.status.idle": "2023-01-18T19:50:45.489641Z",
     "shell.execute_reply": "2023-01-18T19:50:45.488731Z",
     "shell.execute_reply.started": "2023-01-18T19:50:45.376009Z"
    },
    "tags": []
   },
   "outputs": [
    {
     "name": "stderr",
     "output_type": "stream",
     "text": [
      "\n",
      "        CodeStyle Warning in or_in_a_row_warn(): Найдено 1 подряд идущих условий OR. Рекомендуется замена условий на выражение IN (x, y, z). \n",
      "        (SQL Style Guide. WHERE/ON. Ссылка: https://wiki.tele2.ru/pages/viewpage.action?pageId=139127857&preview=/139127857/139128786/SQL%20StyleGuide.pdf)\n",
      "        \n"
     ]
    },
    {
     "name": "stdout",
     "output_type": "stream",
     "text": [
      "WITH all_users_mc AS (\n",
      "    SELECT t.subs_id,\n",
      "           t.msisdn,\n",
      "           t.transaction_id,\n",
      "           t.transaction_dttm,\n",
      "           t.amount_rub,\n",
      "           t.revenue_rub,\n",
      "           t.update_ts,\n",
      "           serv.valid_from_date,\n",
      "           serv.valid_to_date\n",
      "    FROM prd2_dds_v2.mobile_commerce AS t\n",
      "    JOIN prd2_dds_v2.service_instance AS serv \n",
      "        ON (\n",
      "        t.subs_id = serv.subs_id\n",
      "        AND serv.service_id = 30709\n",
      "        )\n",
      "    WHERE 1 = 1\n",
      "        AND t.transaction_dttm > '2022-09-30 00:00:00'\n",
      "        AND t.dt > 1\n",
      "),\n",
      "\n",
      "ordered_movings AS (\n",
      "    SELECT t.subs_id,\n",
      "           t.start_dttm,\n",
      "           t.start_date,\n",
      "           t.end_dttm,\n",
      "           t.a_number,\n",
      "           t.b_number\n",
      "    FROM prd2_dds_v.usage AS t\n",
      "    WHERE 1 = 1\n",
      "        AND t.start_date BETWEEN DATE'2022-10-01' AND DATE'2022-10-31'\n",
      "        AND t.traffic_type_id = 2\n",
      "            AND (\n",
      "    t.b_number = '7757'\n",
      "    OR t.b_numbe = 11\n",
      "        )\n",
      "    AND (\n",
      "    t.a_number IN (\n",
      "    '312',\n",
      "    '7757')\n",
      "    OR LENGTH(t.a_number) = 11\n",
      ")\n",
      "),\n",
      "\n",
      "tempo AS (\n",
      "    SELECT t.subs_id,\n",
      "           t.a_number,\n",
      "           t.foo,\n",
      "           t.buzz\n",
      "    FROM buka AS t\n",
      "    WHERE 1 = 1\n",
      "        AND t.foo IS NOT NULL\n",
      "),\n",
      "\n",
      "acdc AS (\n",
      "    SELECT t.foo1,\n",
      "           t.buzz1\n",
      "    FROM tempo AS t\n",
      ")\n",
      "\n",
      "\n",
      "SELECT *\n",
      "FROM ordered_movings\n"
     ]
    }
   ],
   "source": [
    "sql.run_code_style_for_with(t)"
   ]
  },
  {
   "cell_type": "code",
   "execution_count": 63,
   "id": "630dcd1e-bb16-4693-8a50-43f64982fd2b",
   "metadata": {
    "execution": {
     "iopub.execute_input": "2023-01-18T16:28:36.847822Z",
     "iopub.status.busy": "2023-01-18T16:28:36.846154Z",
     "iopub.status.idle": "2023-01-18T16:28:36.884434Z",
     "shell.execute_reply": "2023-01-18T16:28:36.883479Z",
     "shell.execute_reply.started": "2023-01-18T16:28:36.847767Z"
    },
    "tags": []
   },
   "outputs": [
    {
     "name": "stdout",
     "output_type": "stream",
     "text": [
      "    SELECT t.subs_id,\n",
      "            t.start_dttm,\n",
      "            t.start_date,\n",
      "            t.end_dttm,\n",
      "            t.a_number,\n",
      "            t.b_number\n",
      "     FROM prd2_dds_v.usage AS t\n",
      "     WHERE t.start_date BETWEEN DATE'2022-10-01' AND DATE'2022-10-31'\n",
      "         AND t.traffic_type_id = 2\n",
      "         AND (t.b_number = '7757'\n",
      "              OR t.b_numbe = 11)\n",
      "         AND (t.a_number IN ('312',\n",
      "                             '7757')\n",
      "              OR length(t.a_number) = 11)\n"
     ]
    }
   ],
   "source": [
    "print(sql.raw_bodies[1])"
   ]
  },
  {
   "cell_type": "code",
   "execution_count": 64,
   "id": "7645a3b7-1a0b-4c47-846e-4ee3fef96674",
   "metadata": {
    "execution": {
     "iopub.execute_input": "2023-01-18T16:28:45.768168Z",
     "iopub.status.busy": "2023-01-18T16:28:45.767403Z",
     "iopub.status.idle": "2023-01-18T16:28:45.806457Z",
     "shell.execute_reply": "2023-01-18T16:28:45.804811Z",
     "shell.execute_reply.started": "2023-01-18T16:28:45.768114Z"
    },
    "tags": []
   },
   "outputs": [
    {
     "data": {
      "text/plain": [
       "[['    SELECT t.subs_id,',\n",
       "  '            t.msisdn,',\n",
       "  '            t.transaction_id,',\n",
       "  '            t.transaction_dttm,',\n",
       "  '            t.amount_rub,',\n",
       "  '            t.revenue_rub,',\n",
       "  '            t.update_ts,',\n",
       "  '            serv.valid_from_date,',\n",
       "  '            serv.valid_to_date',\n",
       "  '     FROM prd2_dds_v2.mobile_commerce AS t',\n",
       "  '     JOIN prd2_dds_v2.service_instance AS serv ON t.subs_id = serv.subs_id',\n",
       "  '     AND serv.service_id = 30709',\n",
       "  \"     WHERE t.transaction_dttm > '2022-09-30 00:00:00'\",\n",
       "  '         AND t.dt > 1 '],\n",
       " ['    SELECT t.subs_id,',\n",
       "  '            t.start_dttm,',\n",
       "  '            t.start_date,',\n",
       "  '            t.end_dttm,',\n",
       "  '            t.a_number,',\n",
       "  '            t.b_number',\n",
       "  '     FROM prd2_dds_v.usage AS t',\n",
       "  \"     WHERE t.start_date BETWEEN DATE'2022-10-01' AND DATE'2022-10-31'\",\n",
       "  '         AND t.traffic_type_id = 2',\n",
       "  \"         AND (t.b_number = '7757'\",\n",
       "  '              OR t.b_numbe = 11)',\n",
       "  \"         AND (t.a_number IN ('312',\",\n",
       "  \"                             '7757')\",\n",
       "  '              OR length(t.a_number) = 11)'],\n",
       " ['    SELECT t.subs_id,',\n",
       "  '            t.a_number,',\n",
       "  '            t.foo,',\n",
       "  '            t.buzz',\n",
       "  '     FROM buka AS t',\n",
       "  '     WHERE t.foo IS NOT NULL '],\n",
       " ['    SELECT t.foo1,',\n",
       "  '            t.buzz1',\n",
       "  '     FROM tempo AS t)',\n",
       "  'SELECT *',\n",
       "  'FROM ordered_movings']]"
      ]
     },
     "execution_count": 64,
     "metadata": {},
     "output_type": "execute_result"
    }
   ],
   "source": [
    "sql.inside_with"
   ]
  },
  {
   "cell_type": "code",
   "execution_count": 85,
   "id": "368cdbe5-fe93-4393-b3ea-c8b89ed580b7",
   "metadata": {
    "execution": {
     "iopub.execute_input": "2023-01-18T19:55:29.216083Z",
     "iopub.status.busy": "2023-01-18T19:55:29.215069Z",
     "iopub.status.idle": "2023-01-18T19:55:29.261662Z",
     "shell.execute_reply": "2023-01-18T19:55:29.260387Z",
     "shell.execute_reply.started": "2023-01-18T19:55:29.216024Z"
    },
    "tags": []
   },
   "outputs": [
    {
     "ename": "AttributeError",
     "evalue": "'WithStatementStyle' object has no attribute 'full_code'",
     "output_type": "error",
     "traceback": [
      "\u001b[0;31m---------------------------------------------------------------------------\u001b[0m",
      "\u001b[0;31mAttributeError\u001b[0m                            Traceback (most recent call last)",
      "\u001b[0;32m/tmp/ipykernel_29502/3561552333.py\u001b[0m in \u001b[0;36m<module>\u001b[0;34m\u001b[0m\n\u001b[0;32m----> 1\u001b[0;31m \u001b[0mprint\u001b[0m\u001b[0;34m(\u001b[0m\u001b[0msql\u001b[0m\u001b[0;34m.\u001b[0m\u001b[0mfull_code\u001b[0m\u001b[0;34m[\u001b[0m\u001b[0;36m1\u001b[0m\u001b[0;34m]\u001b[0m\u001b[0;34m)\u001b[0m\u001b[0;34m\u001b[0m\u001b[0;34m\u001b[0m\u001b[0m\n\u001b[0m",
      "\u001b[0;31mAttributeError\u001b[0m: 'WithStatementStyle' object has no attribute 'full_code'"
     ]
    }
   ],
   "source": [
    "print(sql.full_code[1])"
   ]
  },
  {
   "cell_type": "code",
   "execution_count": null,
   "id": "973d3b2d-e101-494d-9a19-a22de60926e0",
   "metadata": {},
   "outputs": [],
   "source": []
  },
  {
   "cell_type": "code",
   "execution_count": null,
   "id": "56e39655-76e9-4404-b1d4-9c3e577f6342",
   "metadata": {},
   "outputs": [],
   "source": []
  },
  {
   "cell_type": "code",
   "execution_count": null,
   "id": "f619665a-37a0-458a-9fbd-f9b3f2888948",
   "metadata": {},
   "outputs": [],
   "source": []
  },
  {
   "cell_type": "code",
   "execution_count": 54,
   "id": "651c4a6f-7050-4b77-a932-99493cae8c8e",
   "metadata": {
    "execution": {
     "iopub.execute_input": "2023-01-18T15:48:53.986241Z",
     "iopub.status.busy": "2023-01-18T15:48:53.984753Z",
     "iopub.status.idle": "2023-01-18T15:48:54.021443Z",
     "shell.execute_reply": "2023-01-18T15:48:54.020577Z",
     "shell.execute_reply.started": "2023-01-18T15:48:53.986182Z"
    },
    "tags": []
   },
   "outputs": [
    {
     "data": {
      "text/plain": [
       "[['    SELECT t.subs_id,',\n",
       "  '            t.start_dttm,',\n",
       "  '            t.start_date,',\n",
       "  '            t.end_dttm,',\n",
       "  '            t.a_number,',\n",
       "  '            t.b_number',\n",
       "  '     FROM prd2_dds_v.usage AS t',\n",
       "  '     WHERE 1 = 1',\n",
       "  \"         AND t.start_date BETWEEN DATE'2022-10-01' AND DATE'2022-10-31'\",\n",
       "  '         AND t.traffic_type_id = 2',\n",
       "  \"         AND (t.b_number = '7757'\",\n",
       "  '              OR length(t.a_number) = 11)',\n",
       "  \"         AND (t.a_number IN ('312',\",\n",
       "  \"                             '7757')\",\n",
       "  '              OR length(t.a_number) = 11) )',\n",
       "  'SELECT *',\n",
       "  'FROM tempo']]"
      ]
     },
     "execution_count": 54,
     "metadata": {},
     "output_type": "execute_result"
    }
   ],
   "source": [
    "sql.inside_with"
   ]
  },
  {
   "cell_type": "code",
   "execution_count": 52,
   "id": "ac52571f-97f2-4901-9488-4eea15289d77",
   "metadata": {
    "execution": {
     "iopub.execute_input": "2023-01-18T15:48:22.887256Z",
     "iopub.status.busy": "2023-01-18T15:48:22.885733Z",
     "iopub.status.idle": "2023-01-18T15:48:22.927966Z",
     "shell.execute_reply": "2023-01-18T15:48:22.926892Z",
     "shell.execute_reply.started": "2023-01-18T15:48:22.887167Z"
    },
    "tags": []
   },
   "outputs": [
    {
     "data": {
      "text/plain": [
       "['    SELECT t.subs_id,',\n",
       " '            t.start_dttm,',\n",
       " '            t.start_date,',\n",
       " '            t.end_dttm,',\n",
       " '            t.a_number,',\n",
       " '            t.b_number',\n",
       " '     FROM prd2_dds_v.usage AS t',\n",
       " '     WHERE 1 = 1',\n",
       " \"         AND t.start_date BETWEEN DATE'2022-10-01' AND DATE'2022-10-31'\",\n",
       " '         AND t.traffic_type_id = 2',\n",
       " \"         AND (t.b_number = '7757'\",\n",
       " '              OR length(t.a_number) = 11)',\n",
       " \"         AND (t.a_number IN ('312',\",\n",
       " \"                             '7757')\",\n",
       " '              OR length(t.a_number = 11 ']"
      ]
     },
     "execution_count": 52,
     "metadata": {},
     "output_type": "execute_result"
    }
   ],
   "source": [
    "sql.correct_last_block[0]"
   ]
  },
  {
   "cell_type": "code",
   "execution_count": 65,
   "id": "e1f6a6f5-8a58-489e-9b8c-1eb55d937511",
   "metadata": {
    "execution": {
     "iopub.execute_input": "2023-01-18T16:33:20.107745Z",
     "iopub.status.busy": "2023-01-18T16:33:20.106936Z",
     "iopub.status.idle": "2023-01-18T16:33:20.153783Z",
     "shell.execute_reply": "2023-01-18T16:33:20.152005Z",
     "shell.execute_reply.started": "2023-01-18T16:33:20.107683Z"
    },
    "tags": []
   },
   "outputs": [
    {
     "data": {
      "text/plain": [
       "['    SELECT t.foo1,', '            t.buzz1', '     FROM tempo AS t']"
      ]
     },
     "execution_count": 65,
     "metadata": {},
     "output_type": "execute_result"
    }
   ],
   "source": [
    "sql.correct_last_block[0]"
   ]
  },
  {
   "cell_type": "code",
   "execution_count": null,
   "id": "8975eb16-0fe3-4941-ab27-3742b7f37e52",
   "metadata": {},
   "outputs": [],
   "source": [
    "sql."
   ]
  }
 ],
 "metadata": {
  "kernelspec": {
   "display_name": "Geo",
   "language": "python",
   "name": "geo_python"
  },
  "language_info": {
   "codemirror_mode": {
    "name": "ipython",
    "version": 3
   },
   "file_extension": ".py",
   "mimetype": "text/x-python",
   "name": "python",
   "nbconvert_exporter": "python",
   "pygments_lexer": "ipython3",
   "version": "3.9.15"
  }
 },
 "nbformat": 4,
 "nbformat_minor": 5
}
