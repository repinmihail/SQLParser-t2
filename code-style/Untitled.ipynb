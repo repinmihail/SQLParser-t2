{
 "cells": [
  {
   "cell_type": "code",
   "execution_count": 1,
   "id": "2db9f9d4-4fc4-48c5-9ee6-e07c47f12b64",
   "metadata": {
    "execution": {
     "iopub.execute_input": "2023-01-27T13:29:10.640797Z",
     "iopub.status.busy": "2023-01-27T13:29:10.639474Z",
     "iopub.status.idle": "2023-01-27T13:29:10.656416Z",
     "shell.execute_reply": "2023-01-27T13:29:10.655301Z",
     "shell.execute_reply.started": "2023-01-27T13:29:10.640759Z"
    },
    "tags": []
   },
   "outputs": [],
   "source": [
    "from SQLParser import *"
   ]
  },
  {
   "cell_type": "code",
   "execution_count": 8,
   "id": "eb950df3-b254-42f9-b889-057ed60297ae",
   "metadata": {
    "execution": {
     "iopub.execute_input": "2023-01-27T13:39:01.981468Z",
     "iopub.status.busy": "2023-01-27T13:39:01.980155Z",
     "iopub.status.idle": "2023-01-27T13:39:01.986773Z",
     "shell.execute_reply": "2023-01-27T13:39:01.985903Z",
     "shell.execute_reply.started": "2023-01-27T13:39:01.981432Z"
    },
    "tags": []
   },
   "outputs": [],
   "source": [
    "sql = HandlerSQL()\n",
    "raw = '''\n",
    "CREATE MULTISET TABLE UAT_DM.IY_AD_HOC2 AS\n",
    "(SELECT REPORT_DATE\n",
    "\t\t,REPORT_MONTH\n",
    "\t\t,SUBS_ID\n",
    "\t\t,Sum(DATA_VOLUME_BUCKET + DATA_VOLUME_NO_BUCKET)/ (1024**3) AS total_vol_GB\n",
    "\t\t,(Sum( VOICE_DURATION_BUCKET + VOICE_DURATION_NO_BUCKET + VOICE_DURATION_INCOMING)) / 60 AS voice_dur_min        \n",
    "\t\t,Sum(MESSAGE_COUNT_BUCKET + MESSAGE_COUNT_NO_BUCKET) AS all_cnt\n",
    "FROM PRD2_DDS_V.NE_SUBS_REVENUE_DATE\n",
    "WHERE 1=1\n",
    "\tAND (REPORT_DATE BETWEEN DATE'2022-04-01' AND DATE '2022-09-30')\n",
    "\tAND NE_REGION_ID IN (32, 82)\n",
    "\tAND SUBS_REGION_ID NOT IN (32, 82)\n",
    "GROUP BY REPORT_DATE\n",
    "\t\t,REPORT_MONTH\n",
    "\t\t,SUBS_ID\n",
    ")\t\t\n",
    "WITH NO DATA\n",
    "PRIMARY INDEX (SUBS_ID)\n",
    "\n",
    "'''"
   ]
  },
  {
   "cell_type": "code",
   "execution_count": 9,
   "id": "2770d655-1253-425c-a13d-d5ad953206f3",
   "metadata": {
    "execution": {
     "iopub.execute_input": "2023-01-27T13:39:02.768767Z",
     "iopub.status.busy": "2023-01-27T13:39:02.767796Z",
     "iopub.status.idle": "2023-01-27T13:39:02.825007Z",
     "shell.execute_reply": "2023-01-27T13:39:02.824321Z",
     "shell.execute_reply.started": "2023-01-27T13:39:02.768734Z"
    },
    "tags": []
   },
   "outputs": [
    {
     "name": "stderr",
     "output_type": "stream",
     "text": [
      "\n",
      "        CodeStyle Warning in create_table_warn(): Использование CREATE TABLE AS SELECT … WITH NO DATA в финальной версии скрипта не допускается. \n",
      "        (SQL Style Guide. Общие конструкции. Ссылка: https://wiki.tele2.ru/pages/viewpage.action?pageId=139127857&preview=/139127857/139128786/SQL%20StyleGuide.pdf)\n",
      "        \n",
      "\n",
      "        CodeStyle Warning in column_name_rule_warn(): Если в запросе участвуют несколько таблиц, то при указании наименования столбца необходимо явно указывать \n",
      "        какой таблице принадлежит столбец. Проверьте строки ['SELECT report_date,', 'report_month,', 'subs_id,', 'SUM(data_volume_bucket + data_volume_no_bucket) / (1024**3) AS total_vol_gb,', '(SUM(voice_duration_bucket + voice_duration_no_bucket + voice_duration_incoming)) / 60 AS voice_dur_min,', 'SUM(message_count_bucket + message_count_no_bucket) AS all_cnt', \"AND (report_date BETWEEN DATE'2022-04-01' AND DATE '2022-09-30')\"]. (SQL Style Guide. Подзапросы. Ссылка: https://wiki.tele2.ru/pages/viewpage.action?pageId=139127857&preview=/139127857/139128786/SQL%20StyleGuide.pdf)\n",
      "        \n",
      "\n",
      "        CodeStyle Warning in row_max_symbols_warn(): Максимальное количество символов в строке – не более 80. (SQL Style Guide. Общие конструкции. \n",
      "        Ссылка: https://wiki.tele2.ru/pages/viewpage.action?pageId=139127857&preview=/139127857/139128786/SQL%20StyleGuide.pdf). \n",
      "        Перечень строк с ошибками сохранен в объекте row_max_symbols_df_global.\n",
      "        \n",
      "\n",
      "        CodeStyle Warning in create_table_warn(): Использование CREATE TABLE AS SELECT … WITH NO DATA в финальной версии скрипта не допускается. \n",
      "        (SQL Style Guide. Общие конструкции. Ссылка: https://wiki.tele2.ru/pages/viewpage.action?pageId=139127857&preview=/139127857/139128786/SQL%20StyleGuide.pdf)\n",
      "        \n",
      "\n",
      "        CodeStyle Warning in column_name_rule_warn(): Если в запросе участвуют несколько таблиц, то при указании наименования столбца необходимо явно указывать \n",
      "        какой таблице принадлежит столбец. Проверьте строки ['SELECT report_date,', 'report_month,', 'subs_id,', 'SUM(data_volume_bucket + data_volume_no_bucket) / (1024**3) AS total_vol_gb,', '(SUM(voice_duration_bucket + voice_duration_no_bucket + voice_duration_incoming)) / 60 AS voice_dur_min,', 'SUM(message_count_bucket + message_count_no_bucket) AS all_cnt', \"AND (report_date BETWEEN DATE'2022-04-01' AND DATE '2022-09-30')\"]. (SQL Style Guide. Подзапросы. Ссылка: https://wiki.tele2.ru/pages/viewpage.action?pageId=139127857&preview=/139127857/139128786/SQL%20StyleGuide.pdf)\n",
      "        \n",
      "\n",
      "        CodeStyle Warning in row_max_symbols_warn(): Максимальное количество символов в строке – не более 80. (SQL Style Guide. Общие конструкции. \n",
      "        Ссылка: https://wiki.tele2.ru/pages/viewpage.action?pageId=139127857&preview=/139127857/139128786/SQL%20StyleGuide.pdf). \n",
      "        Перечень строк с ошибками сохранен в объекте row_max_symbols_df_global.\n",
      "        \n"
     ]
    },
    {
     "name": "stdout",
     "output_type": "stream",
     "text": [
      "\n",
      "\n",
      "\n",
      "SELECT report_date,\n",
      "       report_month,\n",
      "       subs_id,\n",
      "       SUM(data_volume_bucket + data_volume_no_bucket) / (1024**3) AS total_vol_gb,\n",
      "       (SUM(voice_duration_bucket + voice_duration_no_bucket + voice_duration_incoming)) / 60 AS voice_dur_min,\n",
      "       SUM(message_count_bucket + message_count_no_bucket) AS all_cnt\n",
      "FROM prd2_dds_v.ne_subs_revenue_date\n",
      "WHERE 1 = 1\n",
      "    AND (report_date BETWEEN DATE'2022-04-01' AND DATE '2022-09-30')\n",
      "    AND ne_region_id IN (32,\n",
      "                         82)\n",
      "    AND subs_region_id NOT IN (32,\n",
      "                               82)\n",
      "GROUP BY report_date,\n",
      "         report_month,\n",
      "         subs_id WITH NO DATA PRIMARY INDEX (subs_id\n"
     ]
    }
   ],
   "source": [
    "sql.run(raw)"
   ]
  }
 ],
 "metadata": {
  "kernelspec": {
   "display_name": "Geo",
   "language": "python",
   "name": "geo_python"
  },
  "language_info": {
   "codemirror_mode": {
    "name": "ipython",
    "version": 3
   },
   "file_extension": ".py",
   "mimetype": "text/x-python",
   "name": "python",
   "nbconvert_exporter": "python",
   "pygments_lexer": "ipython3",
   "version": "3.9.15"
  }
 },
 "nbformat": 4,
 "nbformat_minor": 5
}
