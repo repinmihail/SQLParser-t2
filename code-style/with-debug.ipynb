{
 "cells": [
  {
   "cell_type": "code",
   "execution_count": 15,
   "id": "9a94ae59-35de-4df0-be15-e5ca165c5f8a",
   "metadata": {
    "execution": {
     "iopub.execute_input": "2023-01-18T20:01:14.385412Z",
     "iopub.status.busy": "2023-01-18T20:01:14.384172Z",
     "iopub.status.idle": "2023-01-18T20:01:14.419542Z",
     "shell.execute_reply": "2023-01-18T20:01:14.418889Z",
     "shell.execute_reply.started": "2023-01-18T20:01:14.385354Z"
    },
    "tags": []
   },
   "outputs": [
    {
     "name": "stdout",
     "output_type": "stream",
     "text": [
      "The autoreload extension is already loaded. To reload it, use:\n",
      "  %reload_ext autoreload\n"
     ]
    }
   ],
   "source": [
    "%load_ext autoreload\n",
    "%autoreload 2\n",
    "\n",
    "from SQLParser import *\n",
    "import SQLFunctions as funcs\n",
    "from SQLParserError import SQLParserError\n",
    "import warnings"
   ]
  },
  {
   "cell_type": "code",
   "execution_count": 16,
   "id": "3ffd1034-d0d0-45fa-b953-1b1aa67c5bb7",
   "metadata": {
    "collapsed": true,
    "execution": {
     "iopub.execute_input": "2023-01-18T20:01:15.213622Z",
     "iopub.status.busy": "2023-01-18T20:01:15.212892Z",
     "iopub.status.idle": "2023-01-18T20:01:15.323888Z",
     "shell.execute_reply": "2023-01-18T20:01:15.322997Z",
     "shell.execute_reply.started": "2023-01-18T20:01:15.213566Z"
    },
    "jupyter": {
     "outputs_hidden": true
    },
    "tags": []
   },
   "outputs": [
    {
     "name": "stderr",
     "output_type": "stream",
     "text": [
      "\n",
      "        CodeStyle Warning in or_in_a_row_warn(): Найдено 1 подряд идущих условий OR. Рекомендуется замена условий на выражение IN (x, y, z). \n",
      "        (SQL Style Guide. WHERE/ON. Ссылка: https://wiki.tele2.ru/pages/viewpage.action?pageId=139127857&preview=/139127857/139128786/SQL%20StyleGuide.pdf)\n",
      "        \n"
     ]
    },
    {
     "name": "stdout",
     "output_type": "stream",
     "text": [
      "WITH all_users_mc AS (\n",
      "    SELECT t.subs_id,\n",
      "           t.msisdn,\n",
      "           t.transaction_id,\n",
      "           t.transaction_dttm,\n",
      "           t.amount_rub,\n",
      "           t.revenue_rub,\n",
      "           t.update_ts,\n",
      "           serv.valid_from_date,\n",
      "           serv.valid_to_date\n",
      "    FROM prd2_dds_v2.mobile_commerce AS t\n",
      "    JOIN prd2_dds_v2.service_instance AS serv \n",
      "        ON (\n",
      "        t.subs_id = serv.subs_id\n",
      "        AND serv.service_id = 30709\n",
      "        )\n",
      "    WHERE 1 = 1\n",
      "        AND t.transaction_dttm > '2022-09-30 00:00:00'\n",
      "        AND t.dt > 1\n",
      "),\n",
      "\n",
      "ordered_movings AS (\n",
      "    SELECT t.subs_id,\n",
      "           t.start_dttm,\n",
      "           t.start_date,\n",
      "           t.end_dttm,\n",
      "           t.a_number,\n",
      "           t.b_number\n",
      "    FROM prd2_dds_v.usage AS t\n",
      "    WHERE 1 = 1\n",
      "        AND t.start_date BETWEEN DATE'2022-10-01' AND DATE'2022-10-31'\n",
      "        AND t.traffic_type_id = 2\n",
      "            AND (\n",
      "    t.b_number = '7757'\n",
      "    OR t.b_numbe = 11\n",
      "        )\n",
      "    AND (\n",
      "    t.a_number IN (\n",
      "    '312',\n",
      "    '7757')\n",
      "    OR LENGTH(t.a_number) = 11\n",
      ")\n",
      "),\n",
      "\n",
      "tempo AS (\n",
      "    SELECT t.subs_id,\n",
      "           t.a_number,\n",
      "           t.foo,\n",
      "           t.buzz\n",
      "    FROM buka AS t\n",
      "    WHERE 1 = 1\n",
      "        AND t.foo IS NOT NULL\n",
      "),\n",
      "\n",
      "acdc AS (\n",
      "    SELECT t.foo1,\n",
      "           t.buzz1\n",
      "    FROM tempo AS t\n",
      ")\n",
      "\n",
      "\n",
      "SELECT *\n",
      "FROM ordered_movings\n"
     ]
    }
   ],
   "source": [
    "raw1 = '''\n",
    "WITH ALL_USERS_MC AS (\n",
    "\tSELECT\n",
    "\t\tt.subs_id\n",
    "\t\t, t.msisdn\n",
    "\t\t, t.transaction_id\n",
    "\t\t, t.transaction_dttm\n",
    "\t\t, t.amount_rub\n",
    "\t\t, t.revenue_rub\n",
    "\t\t, t.update_ts\n",
    "\t\t, serv.valid_from_date\n",
    "\t\t, serv.valid_to_date\n",
    "\tFROM prd2_dds_v2.mobile_commerce AS t\n",
    "\tJOIN prd2_dds_v2.service_instance AS serv ON t.subs_id = serv.subs_id\n",
    "\t\tAND serv.service_id = 30709\n",
    "\tWHERE t.transaction_dttm > '2022-09-30 00:00:00' and t.dt > 1 \n",
    "),\n",
    "\n",
    "ORDERED_MOVINGS AS (\n",
    "\tSELECT\n",
    "\t\tt.subs_id\n",
    "\t\t, t.start_dttm\n",
    "\t\t, t.start_date\n",
    "\t\t, t.end_dttm\n",
    "\t\t, t.a_number\n",
    "\t\t, t.b_number\n",
    "\tFROM PRD2_DDS_V.USAGE AS t\n",
    "\tWHERE t.start_date BETWEEN DATE'2022-10-01' AND DATE'2022-10-31'\n",
    "\t\tAND t.traffic_type_id = 2\n",
    "\t\tAND (t.b_number = '7757' OR t.b_numbe = 11)\n",
    "\t\tAND (t.a_number IN ('312', '7757') OR Length(t.a_number) = 11))\n",
    ",\n",
    "\n",
    "tempo as (\n",
    "select t.subs_id, t.a_number, t.foo, t.buzz\n",
    "from buka as t\n",
    "where t.foo is not null\n",
    "),\n",
    "\n",
    "acdc as (\n",
    "select t.foo1, t.buzz1\n",
    "from tempo as t\n",
    "\n",
    ")\n",
    "select * from ORDERED_MOVINGS\n",
    "'''\n",
    "sql = HandlerSQL()\n",
    "sql.run(raw1)"
   ]
  },
  {
   "cell_type": "code",
   "execution_count": null,
   "id": "be5d1d1d-36a4-480d-902d-7b586f55d57b",
   "metadata": {},
   "outputs": [],
   "source": []
  },
  {
   "cell_type": "code",
   "execution_count": 3,
   "id": "492db821-0c18-4874-b3f6-f7151da38176",
   "metadata": {
    "execution": {
     "iopub.execute_input": "2023-01-18T19:16:06.323895Z",
     "iopub.status.busy": "2023-01-18T19:16:06.323682Z",
     "iopub.status.idle": "2023-01-18T19:16:06.377590Z",
     "shell.execute_reply": "2023-01-18T19:16:06.376550Z",
     "shell.execute_reply.started": "2023-01-18T19:16:06.323877Z"
    },
    "tags": []
   },
   "outputs": [
    {
     "name": "stdout",
     "output_type": "stream",
     "text": [
      "WITH all_users_mc AS (\n",
      "    SELECT t.subs_id,\n",
      "           t.start_dttm,\n",
      "           t.start_date,\n",
      "           t.end_dttm,\n",
      "           t.a_number,\n",
      "           t.b_number\n",
      "    FROM prd2_dds_v.usage AS t\n",
      "    WHERE 1 = 1\n",
      "        AND t.start_date BETWEEN DATE'2022-10-01' AND DATE'2022-10-31'\n",
      "        AND t.traffic_type_id = 2\n",
      "            AND (\n",
      "            t.b_number = '7757'\n",
      "            OR t.b_numbe = 11\n",
      "            )\n",
      "    AND (\n",
      "            t.a_number IN (\n",
      "            '312',\n",
      "            '7757')\n",
      "            OR LENGTH(t.a_number = 1\n",
      "    )\n",
      ")\n",
      "\n",
      "\n",
      "SELECT *\n",
      "FROM all_users_mc\n"
     ]
    }
   ],
   "source": [
    "#sql = Handler()\n",
    "raw = '''\n",
    "WITH ALL_USERS_MC AS (\n",
    "\tSELECT\n",
    "\t\tt.subs_id\n",
    "\t\t, t.start_dttm\n",
    "\t\t, t.start_date\n",
    "\t\t, t.end_dttm\n",
    "\t\t, t.a_number\n",
    "\t\t, t.b_number\n",
    "\tFROM PRD2_DDS_V.USAGE AS t\n",
    "\tWHERE t.start_date BETWEEN DATE'2022-10-01' AND DATE'2022-10-31'\n",
    "\t\tAND t.traffic_type_id = 2\n",
    "\t\tAND (t.b_number = '7757' OR t.b_numbe = 11)\n",
    "\t\tAND (t.a_number IN ('312', '7757') OR Length(t.a_number) = 11)) \n",
    "select * from ALL_USERS_MC\n",
    "'''\n",
    "sql = HandlerSQL()\n",
    "sql.run(raw)"
   ]
  },
  {
   "cell_type": "code",
   "execution_count": 4,
   "id": "f20f31c2-7664-4f2e-a437-191220cb6dbc",
   "metadata": {
    "execution": {
     "iopub.execute_input": "2023-01-18T19:16:06.378733Z",
     "iopub.status.busy": "2023-01-18T19:16:06.378529Z",
     "iopub.status.idle": "2023-01-18T19:16:06.434870Z",
     "shell.execute_reply": "2023-01-18T19:16:06.433844Z",
     "shell.execute_reply.started": "2023-01-18T19:16:06.378715Z"
    },
    "tags": []
   },
   "outputs": [
    {
     "name": "stdout",
     "output_type": "stream",
     "text": [
      "WITH all_users_mc AS (\n",
      "    SELECT t.subs_id,\n",
      "           t.msisdn,\n",
      "           t.transaction_id,\n",
      "           t.transaction_dttm,\n",
      "           t.amount_rub,\n",
      "           t.revenue_rub,\n",
      "           t.update_ts,\n",
      "           serv.valid_from_date,\n",
      "           serv.valid_to_date\n",
      "    FROM prd2_dds_v2.mobile_commerce AS t\n",
      "    JOIN prd2_dds_v2.service_instance AS serv \n",
      "        ON (\n",
      "        t.subs_id = serv.subs_id\n",
      "        AND serv.service_id = 30709\n",
      "        )\n",
      "    WHERE 1 = 1\n",
      "        AND t.transaction_dttm > '2022-09-30 00:00:00'\n",
      "        AND t.dt > 1\n",
      ")\n",
      "\n",
      "\n",
      "SELECT *\n",
      "FROM all_users_mc\n"
     ]
    }
   ],
   "source": [
    "raw = '''\n",
    "WITH ALL_USERS_MC AS (\n",
    "\tSELECT\n",
    "\t\tt.subs_id\n",
    "\t\t, t.msisdn\n",
    "\t\t, t.transaction_id\n",
    "\t\t, t.transaction_dttm\n",
    "\t\t, t.amount_rub\n",
    "\t\t, t.revenue_rub\n",
    "\t\t, t.update_ts\n",
    "\t\t, serv.valid_from_date\n",
    "\t\t, serv.valid_to_date\n",
    "\tFROM prd2_dds_v2.mobile_commerce AS t\n",
    "\tJOIN prd2_dds_v2.service_instance AS serv ON t.subs_id = serv.subs_id\n",
    "\t\tAND serv.service_id = 30709\n",
    "\tWHERE t.transaction_dttm > '2022-09-30 00:00:00' and t.dt > 1\n",
    ") \n",
    "select * from ALL_USERS_MC\n",
    "'''\n",
    "sql = HandlerSQL()\n",
    "sql.run(raw)"
   ]
  },
  {
   "cell_type": "markdown",
   "id": "18d4b09e-3ca1-440e-be8c-adfb65a9ed92",
   "metadata": {},
   "source": [
    "Условия для with:\n",
    "- если строка начинается с with -> начало выражения\n",
    "- если в строке есть \"),\"       -> первый with заканчивается, нужно сделать отступ \\n и в следующей строчке, где должен быть AS, сделать отступ после открывающейся скобки \\n\n",
    "- если в строке нет \"),\" и через строчку идет SELECT, то with закончился"
   ]
  },
  {
   "cell_type": "code",
   "execution_count": 5,
   "id": "0356c8fb-bd58-4946-9433-4c74792182fa",
   "metadata": {
    "execution": {
     "iopub.execute_input": "2023-01-18T19:16:06.435807Z",
     "iopub.status.busy": "2023-01-18T19:16:06.435599Z",
     "iopub.status.idle": "2023-01-18T19:16:06.479331Z",
     "shell.execute_reply": "2023-01-18T19:16:06.478358Z",
     "shell.execute_reply.started": "2023-01-18T19:16:06.435789Z"
    },
    "tags": []
   },
   "outputs": [
    {
     "name": "stdout",
     "output_type": "stream",
     "text": [
      "WITH all_users_mc AS\n",
      "    (SELECT t.subs_id ,\n",
      "            t.msisdn ,\n",
      "            t.transaction_id ,\n",
      "            t.transaction_dttm ,\n",
      "            t.amount_rub ,\n",
      "            t.revenue_rub ,\n",
      "            t.update_ts ,\n",
      "            serv.valid_from_date ,\n",
      "            serv.valid_to_date\n",
      "     FROM prd2_dds_v2.mobile_commerce AS t\n",
      "     JOIN prd2_dds_v2.service_instance AS serv ON t.subs_id = serv.subs_id\n",
      "     AND serv.service_id = 30709\n",
      "     WHERE t.transaction_dttm > '2022-09-30 00:00:00'\n",
      "         AND t.dt > 1 ),\n",
      "     ordered_movings AS\n",
      "    (SELECT t.subs_id ,\n",
      "            t.start_dttm ,\n",
      "            t.start_date ,\n",
      "            t.end_dttm ,\n",
      "            t.a_number ,\n",
      "            t.b_number\n",
      "     FROM prd2_dds_v.usage AS t\n",
      "     WHERE t.start_date BETWEEN DATE'2022-10-01' AND DATE'2022-10-31'\n",
      "         AND t.traffic_type_id = 2\n",
      "         AND (t.b_number = '7757'\n",
      "              OR t.b_numbe = 11)\n",
      "         AND (t.a_number IN ('312',\n",
      "                             '7757')\n",
      "              OR length(t.a_number) = 11)),\n",
      "     tempo AS\n",
      "    (SELECT t.subs_id,\n",
      "            t.a_number,\n",
      "            t.foo,\n",
      "            t.buzz\n",
      "     FROM buka AS t\n",
      "     WHERE t.foo IS NOT NULL ),\n",
      "     acdc AS\n",
      "    (SELECT t.foo1,\n",
      "            t.buzz1\n",
      "     FROM tempo AS t)\n",
      "SELECT *\n",
      "FROM ordered_movings\n"
     ]
    }
   ],
   "source": [
    "print(sql.default_string(raw1))"
   ]
  },
  {
   "cell_type": "code",
   "execution_count": 17,
   "id": "8ce6a4f9-9b16-4329-a993-e7b3c958ef61",
   "metadata": {
    "execution": {
     "iopub.execute_input": "2023-01-18T20:01:32.061442Z",
     "iopub.status.busy": "2023-01-18T20:01:32.060672Z",
     "iopub.status.idle": "2023-01-18T20:01:32.114704Z",
     "shell.execute_reply": "2023-01-18T20:01:32.113666Z",
     "shell.execute_reply.started": "2023-01-18T20:01:32.061389Z"
    },
    "tags": []
   },
   "outputs": [],
   "source": [
    "d = sql.default_string(raw1)"
   ]
  },
  {
   "cell_type": "code",
   "execution_count": 18,
   "id": "c3200ee9-779b-4a16-92b7-67ac03e845ad",
   "metadata": {
    "execution": {
     "iopub.execute_input": "2023-01-18T20:01:36.823315Z",
     "iopub.status.busy": "2023-01-18T20:01:36.822466Z",
     "iopub.status.idle": "2023-01-18T20:01:36.866779Z",
     "shell.execute_reply": "2023-01-18T20:01:36.865569Z",
     "shell.execute_reply.started": "2023-01-18T20:01:36.823254Z"
    },
    "tags": []
   },
   "outputs": [],
   "source": [
    "def split_with_statement(raw):\n",
    "    with_split_blocks = [i for i in raw.split('),')]\n",
    "    inside_with = []\n",
    "    name_of_with_block = []\n",
    "    for block in with_split_blocks:\n",
    "        block_by_row = [i for i in block.split('\\n') if len(i) > 0]\n",
    "        name_of_with_block.append(block_by_row[0])\n",
    "        \n",
    "        select_block = []\n",
    "        for sel in block_by_row[1:]:            \n",
    "            if '(SELECT' in sel:\n",
    "                replace_sel = sel.replace('(', '')\n",
    "                select_block.append(replace_sel)\n",
    "            else:\n",
    "                select_block.append(sel)\n",
    "        inside_with.append(select_block)\n",
    "    \n",
    "    correct_last_block = []\n",
    "    last_block = inside_with[-1]\n",
    "    counter = 0\n",
    "    for ind in range(0, len(last_block)-1):\n",
    "        if 'SELECT' in last_block[ind] and counter == 0:\n",
    "            counter = ind\n",
    "            flg = 1\n",
    "                \n",
    "        if 'SELECT' in last_block[ind+1] and flg == 1:\n",
    "            correct_last_block.append(last_block[counter:ind+1])\n",
    "            counter = 0\n",
    "            flg = 0\n",
    "        \n",
    "        if ind == len(last_block)-2:\n",
    "            correct_last_block.append(last_block[counter:ind+2])\n",
    "    \n",
    "    correct_last_block[0][-1] = correct_last_block[0][-1].replace(')', '')\n",
    "    full_code = ['\\n'.join(i) for i in inside_with[:-1] + correct_last_block]\n",
    "    return name_of_with_block, full_code"
   ]
  },
  {
   "cell_type": "code",
   "execution_count": 22,
   "id": "f65d59d2-c3c1-4c2c-81b4-3553d3d3e5a2",
   "metadata": {
    "execution": {
     "iopub.execute_input": "2023-01-18T20:02:32.521000Z",
     "iopub.status.busy": "2023-01-18T20:02:32.519216Z",
     "iopub.status.idle": "2023-01-18T20:02:32.558274Z",
     "shell.execute_reply": "2023-01-18T20:02:32.557383Z",
     "shell.execute_reply.started": "2023-01-18T20:02:32.520937Z"
    },
    "tags": []
   },
   "outputs": [
    {
     "data": {
      "text/plain": [
       "\"    SELECT t.subs_id ,\\n            t.start_dttm ,\\n            t.start_date ,\\n            t.end_dttm ,\\n            t.a_number ,\\n            t.b_number\\n     FROM prd2_dds_v.usage AS t\\n     WHERE t.start_date BETWEEN DATE'2022-10-01' AND DATE'2022-10-31'\\n         AND t.traffic_type_id = 2\\n         AND (t.b_number = '7757'\\n              OR t.b_numbe = 11)\\n         AND (t.a_number IN ('312',\\n                             '7757')\\n              OR length(t.a_number) = 11)\""
      ]
     },
     "execution_count": 22,
     "metadata": {},
     "output_type": "execute_result"
    }
   ],
   "source": [
    "sql.split_with_statement(d)[1][1]"
   ]
  },
  {
   "cell_type": "code",
   "execution_count": 23,
   "id": "7ad2df14-8b1c-4165-8ef3-f3f345966086",
   "metadata": {
    "execution": {
     "iopub.execute_input": "2023-01-18T20:02:39.053733Z",
     "iopub.status.busy": "2023-01-18T20:02:39.052158Z",
     "iopub.status.idle": "2023-01-18T20:02:39.087817Z",
     "shell.execute_reply": "2023-01-18T20:02:39.086956Z",
     "shell.execute_reply.started": "2023-01-18T20:02:39.053674Z"
    },
    "tags": []
   },
   "outputs": [
    {
     "name": "stdout",
     "output_type": "stream",
     "text": [
      "    SELECT t.subs_id ,\n",
      "            t.start_dttm ,\n",
      "            t.start_date ,\n",
      "            t.end_dttm ,\n",
      "            t.a_number ,\n",
      "            t.b_number\n",
      "     FROM prd2_dds_v.usage AS t\n",
      "     WHERE t.start_date BETWEEN DATE'2022-10-01' AND DATE'2022-10-31'\n",
      "         AND t.traffic_type_id = 2\n",
      "         AND (t.b_number = '7757'\n",
      "              OR t.b_numbe = 11)\n",
      "         AND (t.a_number IN ('312',\n",
      "                             '7757')\n",
      "              OR length(t.a_number) = 11)\n"
     ]
    }
   ],
   "source": [
    "print(split_with_statement(d)[1][1])"
   ]
  },
  {
   "cell_type": "code",
   "execution_count": 9,
   "id": "458c2ff1-713a-4df1-91d2-34db903715f3",
   "metadata": {
    "execution": {
     "iopub.execute_input": "2023-01-18T19:16:06.591146Z",
     "iopub.status.busy": "2023-01-18T19:16:06.590925Z",
     "iopub.status.idle": "2023-01-18T19:16:06.629714Z",
     "shell.execute_reply": "2023-01-18T19:16:06.628484Z",
     "shell.execute_reply.started": "2023-01-18T19:16:06.591125Z"
    },
    "tags": []
   },
   "outputs": [
    {
     "name": "stdout",
     "output_type": "stream",
     "text": [
      "    SELECT t.subs_id ,\n",
      "            t.start_dttm ,\n",
      "            t.start_date ,\n",
      "            t.end_dttm ,\n",
      "            t.a_number ,\n",
      "            t.b_number\n",
      "     FROM prd2_dds_v.usage AS t\n",
      "     WHERE t.start_date BETWEEN DATE'2022-10-01' AND DATE'2022-10-31'\n",
      "         AND t.traffic_type_id = 2\n",
      "         AND (t.b_number = '7757'\n",
      "              OR t.b_numbe = 11)\n",
      "         AND (t.a_number IN ('312',\n",
      "                             '7757')\n",
      "              OR length(t.a_number) = 11)\n"
     ]
    }
   ],
   "source": [
    "print([i for i in split_with_statement(d)][1][1])"
   ]
  },
  {
   "cell_type": "code",
   "execution_count": 10,
   "id": "737625b1-24ab-415f-83cd-7e2116747506",
   "metadata": {
    "execution": {
     "iopub.execute_input": "2023-01-18T19:16:06.630711Z",
     "iopub.status.busy": "2023-01-18T19:16:06.630502Z",
     "iopub.status.idle": "2023-01-18T19:16:06.659533Z",
     "shell.execute_reply": "2023-01-18T19:16:06.658202Z",
     "shell.execute_reply.started": "2023-01-18T19:16:06.630693Z"
    },
    "tags": []
   },
   "outputs": [],
   "source": [
    "def indent_for_with_stmnt_sub(raw):\n",
    "    assert isinstance(raw, str), 'Аргумент raw должен быть типа string'\n",
    "    script_by_rows = [tup for tup in raw.split('\\n') if len(tup) > 0]\n",
    "    spaces = 4 * ' '\n",
    "    for row in script_by_rows:\n",
    "        re_val = row.replace(')', '\\)').replace('(', '\\(').replace('*', '\\*')\n",
    "        pattern = re.compile(f'{re_val}')\n",
    "        right_val = spaces + row\n",
    "        raw = pattern.sub(right_val, raw, 1)\n",
    "    return script_by_rows"
   ]
  },
  {
   "cell_type": "code",
   "execution_count": 13,
   "id": "def509e8-389f-4fdb-8cc6-fa0be91b2829",
   "metadata": {
    "execution": {
     "iopub.execute_input": "2023-01-18T19:19:27.132103Z",
     "iopub.status.busy": "2023-01-18T19:19:27.131241Z",
     "iopub.status.idle": "2023-01-18T19:19:27.230275Z",
     "shell.execute_reply": "2023-01-18T19:19:27.228890Z",
     "shell.execute_reply.started": "2023-01-18T19:19:27.132039Z"
    },
    "tags": []
   },
   "outputs": [
    {
     "name": "stderr",
     "output_type": "stream",
     "text": [
      "\n",
      "        CodeStyle Warning in or_in_a_row_warn(): Найдено 1 подряд идущих условий OR. Рекомендуется замена условий на выражение IN (x, y, z). \n",
      "        (SQL Style Guide. WHERE/ON. Ссылка: https://wiki.tele2.ru/pages/viewpage.action?pageId=139127857&preview=/139127857/139128786/SQL%20StyleGuide.pdf)\n",
      "        \n"
     ]
    }
   ],
   "source": [
    "head = split_with_statement(d)[0]\n",
    "raw_bodies = split_with_statement(d)[1]\n",
    "body = []\n",
    "for i in raw_bodies:\n",
    "    #sql = SQLParser()\n",
    "    body.append(sql.run_code_style(i, return_pretty_view=False))\n",
    "with_block = ''.join(\n",
    "    [\n",
    "        a.strip() + ' (' + b + '\\n),' + 2*'\\n'\n",
    "        for a, b in zip(head, body[:-1])\n",
    "    ]\n",
    ")[0:-3] + 2*'\\n'\n",
    "last_select = sql.run_code_style(body[-1], return_pretty_view=False)\n",
    "full = with_block + last_select"
   ]
  },
  {
   "cell_type": "code",
   "execution_count": 14,
   "id": "91e9852b-5e51-4300-b895-7fdd8a9ab26b",
   "metadata": {
    "execution": {
     "iopub.execute_input": "2023-01-18T19:19:37.930267Z",
     "iopub.status.busy": "2023-01-18T19:19:37.929474Z",
     "iopub.status.idle": "2023-01-18T19:19:37.970307Z",
     "shell.execute_reply": "2023-01-18T19:19:37.968502Z",
     "shell.execute_reply.started": "2023-01-18T19:19:37.930214Z"
    },
    "tags": []
   },
   "outputs": [
    {
     "name": "stdout",
     "output_type": "stream",
     "text": [
      "WITH all_users_mc AS (\n",
      "SELECT t.subs_id,\n",
      "       t.msisdn,\n",
      "       t.transaction_id,\n",
      "       t.transaction_dttm,\n",
      "       t.amount_rub,\n",
      "       t.revenue_rub,\n",
      "       t.update_ts,\n",
      "       serv.valid_from_date,\n",
      "       serv.valid_to_date\n",
      "FROM prd2_dds_v2.mobile_commerce AS t\n",
      "JOIN prd2_dds_v2.service_instance AS serv \n",
      "    ON (\n",
      "    t.subs_id = serv.subs_id\n",
      "    AND serv.service_id = 30709\n",
      "    )\n",
      "WHERE 1 = 1\n",
      "    AND t.transaction_dttm > '2022-09-30 00:00:00'\n",
      "    AND t.dt > 1\n",
      "),\n",
      "\n",
      "ordered_movings AS (\n",
      "SELECT t.subs_id,\n",
      "       t.start_dttm,\n",
      "       t.start_date,\n",
      "       t.end_dttm,\n",
      "       t.a_number,\n",
      "       t.b_number\n",
      "FROM prd2_dds_v.usage AS t\n",
      "WHERE 1 = 1\n",
      "    AND t.start_date BETWEEN DATE'2022-10-01' AND DATE'2022-10-31'\n",
      "    AND t.traffic_type_id = 2\n",
      "    AND (\n",
      "        t.b_number = '7757'\n",
      "        OR t.b_numbe = 11\n",
      "    )\n",
      "    AND (\n",
      "        t.a_number IN (\n",
      "        '312',\n",
      "        '7757')\n",
      "        OR LENGTH(t.a_number) = 11\n",
      "    )\n",
      "),\n",
      "\n",
      "tempo AS (\n",
      "SELECT t.subs_id,\n",
      "       t.a_number,\n",
      "       t.foo,\n",
      "       t.buzz\n",
      "FROM buka AS t\n",
      "WHERE 1 = 1\n",
      "    AND t.foo IS NOT NULL\n",
      "),\n",
      "\n",
      "acdc AS (\n",
      "SELECT t.foo1,\n",
      "       t.buzz1\n",
      "FROM tempo AS t\n",
      ")\n",
      "\n",
      "SELECT *\n",
      "FROM ordered_movings\n"
     ]
    }
   ],
   "source": [
    "print(full)"
   ]
  },
  {
   "cell_type": "code",
   "execution_count": 10,
   "id": "34948bd1-b544-41fc-9e15-87192b1c293f",
   "metadata": {
    "execution": {
     "iopub.execute_input": "2023-01-17T14:37:56.690521Z",
     "iopub.status.busy": "2023-01-17T14:37:56.689790Z",
     "iopub.status.idle": "2023-01-17T14:37:56.728029Z",
     "shell.execute_reply": "2023-01-17T14:37:56.726773Z",
     "shell.execute_reply.started": "2023-01-17T14:37:56.690470Z"
    },
    "tags": []
   },
   "outputs": [
    {
     "data": {
      "text/plain": [
       "['WITH all_users_mc AS',\n",
       " '     ordered_movings AS',\n",
       " '     tempo AS',\n",
       " '     acdc AS']"
      ]
     },
     "execution_count": 10,
     "metadata": {},
     "output_type": "execute_result"
    }
   ],
   "source": [
    "head"
   ]
  },
  {
   "cell_type": "code",
   "execution_count": 11,
   "id": "fae15357-2af7-471e-b7ca-ff9590cca081",
   "metadata": {
    "execution": {
     "iopub.execute_input": "2023-01-17T14:38:05.753243Z",
     "iopub.status.busy": "2023-01-17T14:38:05.752447Z",
     "iopub.status.idle": "2023-01-17T14:38:05.803170Z",
     "shell.execute_reply": "2023-01-17T14:38:05.801680Z",
     "shell.execute_reply.started": "2023-01-17T14:38:05.753186Z"
    },
    "tags": []
   },
   "outputs": [
    {
     "data": {
      "text/plain": [
       "[\"    SELECT t.subs_id ,\\n            t.msisdn ,\\n            t.transaction_id ,\\n            t.transaction_dttm ,\\n            t.amount_rub ,\\n            t.revenue_rub ,\\n            t.update_ts ,\\n            serv.valid_from_date ,\\n            serv.valid_to_date\\n     FROM prd2_dds_v2.mobile_commerce AS t\\n     JOIN prd2_dds_v2.service_instance AS serv ON t.subs_id = serv.subs_id\\n     AND serv.service_id = 30709\\n     WHERE t.transaction_dttm > '2022-09-30 00:00:00' \",\n",
       " \"    SELECT t.subs_id ,\\n            t.start_dttm ,\\n            t.start_date ,\\n            t.end_dttm ,\\n            t.a_number ,\\n            t.b_number\\n     FROM prd2_dds_v.usage AS t\\n     WHERE t.start_date BETWEEN DATE'2022-10-01' AND DATE'2022-10-31'\\n         AND t.traffic_type_id = 2\\n         AND (t.b_number = '7757'\\n              OR length(t.b_number) = 11)\\n         AND (t.a_number IN ('312',\\n                             '7757')\\n              OR length(t.a_number) = 11)\",\n",
       " '    SELECT t.subs_id,\\n            t.a_number,\\n            t.foo,\\n            t.buzz\\n     FROM buka AS t\\n     WHERE t.foo IS NOT NULL ',\n",
       " '    SELECT t.foo1,\\n            t.buzz1\\n     FROM tempo AS t',\n",
       " 'SELECT *\\nFROM ordered_movings']"
      ]
     },
     "execution_count": 11,
     "metadata": {},
     "output_type": "execute_result"
    }
   ],
   "source": [
    "raw_bodies"
   ]
  },
  {
   "cell_type": "code",
   "execution_count": 9,
   "id": "0fa7effa-bd5a-4e6e-b6be-d39c5761de75",
   "metadata": {
    "execution": {
     "iopub.execute_input": "2023-01-17T14:37:40.441122Z",
     "iopub.status.busy": "2023-01-17T14:37:40.440325Z",
     "iopub.status.idle": "2023-01-17T14:37:40.477239Z",
     "shell.execute_reply": "2023-01-17T14:37:40.475962Z",
     "shell.execute_reply.started": "2023-01-17T14:37:40.441058Z"
    },
    "tags": []
   },
   "outputs": [
    {
     "name": "stdout",
     "output_type": "stream",
     "text": [
      "WITH all_users_mc AS (\n",
      "    SELECT t.subs_id,\n",
      "           t.msisdn,\n",
      "           t.transaction_id,\n",
      "           t.transaction_dttm,\n",
      "           t.amount_rub,\n",
      "           t.revenue_rub,\n",
      "           t.update_ts,\n",
      "           serv.valid_from_date,\n",
      "           serv.valid_to_date\n",
      "    FROM prd2_dds_v2.mobile_commerce AS t\n",
      "    JOIN prd2_dds_v2.service_instance AS serv \n",
      "        ON (\n",
      "        t.subs_id = serv.subs_id\n",
      "        AND serv.service_id = 30709\n",
      "        )\n",
      "    WHERE 1 = 1\n",
      "        AND t.transaction_dttm > '2022-09-30 00:00:00'\n",
      "),\n",
      "\n",
      "ordered_movings AS (\n",
      "    SELECT t.subs_id,\n",
      "           t.start_dttm,\n",
      "           t.start_date,\n",
      "           t.end_dttm,\n",
      "           t.a_number,\n",
      "           t.b_number\n",
      "    FROM prd2_dds_v.usage AS t\n",
      "    WHERE 1 = 1\n",
      "        AND t.start_date BETWEEN DATE'2022-10-01' AND DATE'2022-10-31'\n",
      "        AND t.traffic_type_id = 2\n",
      "        AND (t.b_number = '7757'\n",
      "             OR LENGTH(t.b_number) = 11)\n",
      "        AND (t.a_number IN ('312',\n",
      "                            '7757')\n",
      "             OR LENGTH(t.a_number) = 11)\n",
      "),\n",
      "\n",
      "tempo AS (\n",
      "    SELECT t.subs_id,\n",
      "           t.a_number,\n",
      "           t.foo,\n",
      "           t.buzz\n",
      "    FROM buka AS t\n",
      "    WHERE 1 = 1\n",
      "        AND t.foo IS NOT NULL\n",
      "),\n",
      "\n",
      "acdc AS (\n",
      "    SELECT t.foo1,\n",
      "           t.buzz1\n",
      "    FROM tempo AS t\n",
      ")\n",
      "\n",
      "\n",
      "SELECT *\n",
      "FROM ordered_movings\n"
     ]
    }
   ],
   "source": [
    "print(full)"
   ]
  },
  {
   "cell_type": "code",
   "execution_count": null,
   "id": "92a4ec66-de15-4753-802c-2017ea7a00ce",
   "metadata": {
    "execution": {
     "iopub.status.busy": "2023-01-17T10:35:31.852558Z",
     "iopub.status.idle": "2023-01-17T10:35:31.852796Z",
     "shell.execute_reply": "2023-01-17T10:35:31.852693Z",
     "shell.execute_reply.started": "2023-01-17T10:35:31.852682Z"
    },
    "tags": []
   },
   "outputs": [],
   "source": [
    "last_select"
   ]
  },
  {
   "cell_type": "code",
   "execution_count": null,
   "id": "6bd537dd-4952-42b1-b0d1-c1b37cef4b7c",
   "metadata": {
    "execution": {
     "iopub.status.busy": "2023-01-17T10:35:31.853715Z",
     "iopub.status.idle": "2023-01-17T10:35:31.853988Z",
     "shell.execute_reply": "2023-01-17T10:35:31.853877Z",
     "shell.execute_reply.started": "2023-01-17T10:35:31.853853Z"
    },
    "tags": []
   },
   "outputs": [],
   "source": [
    "r = ''.join([a.strip() + ' (' + '\\n' + b + '\\n),' + 2*'\\n' for a, b in zip(head, body[:-1])])[0:-3]"
   ]
  },
  {
   "cell_type": "code",
   "execution_count": null,
   "id": "60b6527c-1c2b-491c-9c06-f601ddcb5070",
   "metadata": {
    "execution": {
     "iopub.status.busy": "2023-01-17T10:35:31.854804Z",
     "iopub.status.idle": "2023-01-17T10:35:31.855087Z",
     "shell.execute_reply": "2023-01-17T10:35:31.854969Z",
     "shell.execute_reply.started": "2023-01-17T10:35:31.854958Z"
    },
    "tags": []
   },
   "outputs": [],
   "source": [
    "print(r + 2*'\\n' + body[-1])"
   ]
  },
  {
   "cell_type": "code",
   "execution_count": null,
   "id": "a6cd5610-a63f-45f3-acaa-8d680f44008a",
   "metadata": {},
   "outputs": [],
   "source": []
  },
  {
   "cell_type": "code",
   "execution_count": null,
   "id": "1dbe2598-12f5-48c1-82cf-6d5986d42b39",
   "metadata": {},
   "outputs": [],
   "source": []
  },
  {
   "cell_type": "code",
   "execution_count": null,
   "id": "1bbea7ce-518e-4c12-af97-ae865c2ec68c",
   "metadata": {},
   "outputs": [],
   "source": []
  },
  {
   "cell_type": "code",
   "execution_count": null,
   "id": "eb2436f3-41c4-4743-af70-9c92774d56b3",
   "metadata": {},
   "outputs": [],
   "source": []
  },
  {
   "cell_type": "code",
   "execution_count": null,
   "id": "160f32f7-19d4-47ca-820a-eca468c0d94a",
   "metadata": {},
   "outputs": [],
   "source": []
  },
  {
   "cell_type": "code",
   "execution_count": null,
   "id": "d51f56a3-05b2-43b5-b208-7cb9141628b6",
   "metadata": {},
   "outputs": [],
   "source": []
  },
  {
   "cell_type": "code",
   "execution_count": null,
   "id": "450186fa-5dbf-4b57-b655-402e255a273a",
   "metadata": {},
   "outputs": [],
   "source": []
  },
  {
   "cell_type": "code",
   "execution_count": null,
   "id": "7cdd5ca3-c001-451a-830e-fb39204aa414",
   "metadata": {},
   "outputs": [],
   "source": []
  },
  {
   "cell_type": "code",
   "execution_count": 66,
   "id": "f0b324f5-c82c-4d67-9a9c-ef9e88335725",
   "metadata": {
    "execution": {
     "iopub.execute_input": "2023-01-19T11:22:43.879398Z",
     "iopub.status.busy": "2023-01-19T11:22:43.878739Z",
     "iopub.status.idle": "2023-01-19T11:22:43.889724Z",
     "shell.execute_reply": "2023-01-19T11:22:43.888161Z",
     "shell.execute_reply.started": "2023-01-19T11:22:43.879345Z"
    },
    "tags": []
   },
   "outputs": [],
   "source": [
    "class A:\n",
    "    def __init__(self):\n",
    "        self.object = 1\n",
    "        self.a = []\n",
    "    \n",
    "    def get_a(self):\n",
    "        self.a = [1,2,3]\n",
    "        return self.a\n",
    "    \n",
    "    def test_(self):\n",
    "        return 0\n",
    "\n",
    "class B(A):\n",
    "    def __init__(self):\n",
    "        super().__init__()\n",
    "        self.a = self.get_a()\n",
    "    #def get(self):\n",
    "    #    self.a = self.get_a()\n",
    "    #    return 1+1\n",
    "\n",
    "class MAIN(B):\n",
    "    def __init__(self):\n",
    "        super().__init__()        "
   ]
  },
  {
   "cell_type": "code",
   "execution_count": 67,
   "id": "d77e260b-e7d1-454e-af5d-3bbd2f0ac458",
   "metadata": {
    "execution": {
     "iopub.execute_input": "2023-01-19T11:22:44.540240Z",
     "iopub.status.busy": "2023-01-19T11:22:44.539547Z",
     "iopub.status.idle": "2023-01-19T11:22:44.549047Z",
     "shell.execute_reply": "2023-01-19T11:22:44.547712Z",
     "shell.execute_reply.started": "2023-01-19T11:22:44.540182Z"
    },
    "tags": []
   },
   "outputs": [
    {
     "data": {
      "text/plain": [
       "[]"
      ]
     },
     "execution_count": 67,
     "metadata": {},
     "output_type": "execute_result"
    }
   ],
   "source": [
    "exA = A()\n",
    "exA.a"
   ]
  },
  {
   "cell_type": "code",
   "execution_count": 68,
   "id": "c8ccea8e-aefe-423c-9c3b-410ea423b422",
   "metadata": {
    "execution": {
     "iopub.execute_input": "2023-01-19T11:22:45.321121Z",
     "iopub.status.busy": "2023-01-19T11:22:45.320558Z",
     "iopub.status.idle": "2023-01-19T11:22:45.329163Z",
     "shell.execute_reply": "2023-01-19T11:22:45.328164Z",
     "shell.execute_reply.started": "2023-01-19T11:22:45.321075Z"
    },
    "tags": []
   },
   "outputs": [
    {
     "data": {
      "text/plain": [
       "[1, 2, 3]"
      ]
     },
     "execution_count": 68,
     "metadata": {},
     "output_type": "execute_result"
    }
   ],
   "source": [
    "exB = B()\n",
    "exB.a"
   ]
  },
  {
   "cell_type": "code",
   "execution_count": 61,
   "id": "13b68dff-51b0-4a0d-8cce-085e3e16d3e7",
   "metadata": {
    "collapsed": true,
    "execution": {
     "iopub.execute_input": "2023-01-19T11:21:51.728731Z",
     "iopub.status.busy": "2023-01-19T11:21:51.727256Z",
     "iopub.status.idle": "2023-01-19T11:21:51.737684Z",
     "shell.execute_reply": "2023-01-19T11:21:51.736305Z",
     "shell.execute_reply.started": "2023-01-19T11:21:51.728674Z"
    },
    "jupyter": {
     "outputs_hidden": true
    },
    "tags": []
   },
   "outputs": [
    {
     "data": {
      "text/plain": [
       "['__class__',\n",
       " '__delattr__',\n",
       " '__dict__',\n",
       " '__dir__',\n",
       " '__doc__',\n",
       " '__eq__',\n",
       " '__format__',\n",
       " '__ge__',\n",
       " '__getattribute__',\n",
       " '__gt__',\n",
       " '__hash__',\n",
       " '__init__',\n",
       " '__init_subclass__',\n",
       " '__le__',\n",
       " '__lt__',\n",
       " '__module__',\n",
       " '__ne__',\n",
       " '__new__',\n",
       " '__reduce__',\n",
       " '__reduce_ex__',\n",
       " '__repr__',\n",
       " '__setattr__',\n",
       " '__sizeof__',\n",
       " '__str__',\n",
       " '__subclasshook__',\n",
       " '__weakref__',\n",
       " 'a',\n",
       " 'get',\n",
       " 'get_a',\n",
       " 'object',\n",
       " 'test_']"
      ]
     },
     "execution_count": 61,
     "metadata": {},
     "output_type": "execute_result"
    }
   ],
   "source": [
    "dir(exB)"
   ]
  },
  {
   "cell_type": "code",
   "execution_count": 69,
   "id": "da726b47-3914-49d7-807e-4352103cab91",
   "metadata": {
    "execution": {
     "iopub.execute_input": "2023-01-19T11:22:59.617092Z",
     "iopub.status.busy": "2023-01-19T11:22:59.616365Z",
     "iopub.status.idle": "2023-01-19T11:22:59.623522Z",
     "shell.execute_reply": "2023-01-19T11:22:59.622055Z",
     "shell.execute_reply.started": "2023-01-19T11:22:59.617034Z"
    },
    "tags": []
   },
   "outputs": [],
   "source": [
    "exMAIN = MAIN()"
   ]
  },
  {
   "cell_type": "code",
   "execution_count": 70,
   "id": "2d95bfc4-16f0-45e3-91a4-7e6afef318f7",
   "metadata": {
    "execution": {
     "iopub.execute_input": "2023-01-19T11:23:00.345867Z",
     "iopub.status.busy": "2023-01-19T11:23:00.345233Z",
     "iopub.status.idle": "2023-01-19T11:23:00.355356Z",
     "shell.execute_reply": "2023-01-19T11:23:00.353679Z",
     "shell.execute_reply.started": "2023-01-19T11:23:00.345813Z"
    },
    "tags": []
   },
   "outputs": [
    {
     "data": {
      "text/plain": [
       "[1, 2, 3]"
      ]
     },
     "execution_count": 70,
     "metadata": {},
     "output_type": "execute_result"
    }
   ],
   "source": [
    "exMAIN.a"
   ]
  },
  {
   "cell_type": "code",
   "execution_count": 59,
   "id": "b5571b11-5d37-416e-a6a0-1b2f847aee24",
   "metadata": {
    "execution": {
     "iopub.execute_input": "2023-01-17T13:31:00.734083Z",
     "iopub.status.busy": "2023-01-17T13:31:00.732466Z",
     "iopub.status.idle": "2023-01-17T13:31:00.767699Z",
     "shell.execute_reply": "2023-01-17T13:31:00.766889Z",
     "shell.execute_reply.started": "2023-01-17T13:31:00.734026Z"
    },
    "tags": []
   },
   "outputs": [
    {
     "data": {
      "text/plain": [
       "0"
      ]
     },
     "execution_count": 59,
     "metadata": {},
     "output_type": "execute_result"
    }
   ],
   "source": [
    "exB = B()\n",
    "exB.object"
   ]
  },
  {
   "cell_type": "code",
   "execution_count": 6,
   "id": "3e3e8804-3172-451d-8eb9-cc71116ab59b",
   "metadata": {
    "collapsed": true,
    "execution": {
     "iopub.execute_input": "2023-01-19T10:28:46.208944Z",
     "iopub.status.busy": "2023-01-19T10:28:46.208330Z",
     "iopub.status.idle": "2023-01-19T10:28:46.216502Z",
     "shell.execute_reply": "2023-01-19T10:28:46.215488Z",
     "shell.execute_reply.started": "2023-01-19T10:28:46.208885Z"
    },
    "jupyter": {
     "outputs_hidden": true
    },
    "tags": []
   },
   "outputs": [
    {
     "data": {
      "text/plain": [
       "['__class__',\n",
       " '__delattr__',\n",
       " '__dict__',\n",
       " '__dir__',\n",
       " '__doc__',\n",
       " '__eq__',\n",
       " '__format__',\n",
       " '__ge__',\n",
       " '__getattribute__',\n",
       " '__gt__',\n",
       " '__hash__',\n",
       " '__init__',\n",
       " '__init_subclass__',\n",
       " '__le__',\n",
       " '__lt__',\n",
       " '__module__',\n",
       " '__ne__',\n",
       " '__new__',\n",
       " '__reduce__',\n",
       " '__reduce_ex__',\n",
       " '__repr__',\n",
       " '__setattr__',\n",
       " '__sizeof__',\n",
       " '__str__',\n",
       " '__subclasshook__',\n",
       " '__weakref__',\n",
       " 'a',\n",
       " 'object',\n",
       " 'test',\n",
       " 'test_']"
      ]
     },
     "execution_count": 6,
     "metadata": {},
     "output_type": "execute_result"
    }
   ],
   "source": [
    "dir(exMAIN)"
   ]
  },
  {
   "cell_type": "code",
   "execution_count": 35,
   "id": "ce38497d-6507-48e3-90be-52b184126f41",
   "metadata": {
    "execution": {
     "iopub.execute_input": "2023-01-17T13:15:32.562502Z",
     "iopub.status.busy": "2023-01-17T13:15:32.561782Z",
     "iopub.status.idle": "2023-01-17T13:15:32.598994Z",
     "shell.execute_reply": "2023-01-17T13:15:32.597429Z",
     "shell.execute_reply.started": "2023-01-17T13:15:32.562447Z"
    },
    "tags": []
   },
   "outputs": [],
   "source": [
    "raw = 'abc'"
   ]
  },
  {
   "cell_type": "code",
   "execution_count": 36,
   "id": "68323dc0-f7ce-42e4-91bc-f48fb4737d9c",
   "metadata": {
    "execution": {
     "iopub.execute_input": "2023-01-17T13:15:36.047504Z",
     "iopub.status.busy": "2023-01-17T13:15:36.046684Z",
     "iopub.status.idle": "2023-01-17T13:15:36.086309Z",
     "shell.execute_reply": "2023-01-17T13:15:36.085270Z",
     "shell.execute_reply.started": "2023-01-17T13:15:36.047448Z"
    },
    "tags": []
   },
   "outputs": [],
   "source": [
    "h = MAIN(arguments.inst1, arguments.inst2, raw)"
   ]
  },
  {
   "cell_type": "code",
   "execution_count": 37,
   "id": "20e9bda1-5622-43eb-90bf-692d07ea49e3",
   "metadata": {
    "execution": {
     "iopub.execute_input": "2023-01-17T13:15:36.827419Z",
     "iopub.status.busy": "2023-01-17T13:15:36.826600Z",
     "iopub.status.idle": "2023-01-17T13:15:36.863459Z",
     "shell.execute_reply": "2023-01-17T13:15:36.862796Z",
     "shell.execute_reply.started": "2023-01-17T13:15:36.827360Z"
    },
    "tags": []
   },
   "outputs": [
    {
     "data": {
      "text/plain": [
       "1"
      ]
     },
     "execution_count": 37,
     "metadata": {},
     "output_type": "execute_result"
    }
   ],
   "source": [
    "h.temp.object"
   ]
  },
  {
   "cell_type": "code",
   "execution_count": 6,
   "id": "dad6e33e-0ee7-4642-9f9d-03fcbff58a83",
   "metadata": {
    "execution": {
     "iopub.execute_input": "2023-01-17T12:03:21.920204Z",
     "iopub.status.busy": "2023-01-17T12:03:21.918334Z",
     "iopub.status.idle": "2023-01-17T12:03:21.958102Z",
     "shell.execute_reply": "2023-01-17T12:03:21.955988Z",
     "shell.execute_reply.started": "2023-01-17T12:03:21.920149Z"
    },
    "tags": []
   },
   "outputs": [
    {
     "name": "stdout",
     "output_type": "stream",
     "text": [
      "User Current Version:- 3.9.15 | packaged by conda-forge | (main, Nov 22 2022, 15:55:03) \n",
      "[GCC 10.4.0]\n"
     ]
    }
   ],
   "source": [
    "import sys\n",
    "print(\"User Current Version:-\", sys.version)"
   ]
  },
  {
   "cell_type": "code",
   "execution_count": null,
   "id": "537d22ed-f48c-40fe-b993-db255297ed9c",
   "metadata": {},
   "outputs": [],
   "source": [
    "    \n",
    "    \n",
    "    def string_for_with(self, raw: str) -> str:\n",
    "        '''\n",
    "        \n",
    "        '''\n",
    "         \n",
    "        '''\n",
    "        Substitutions\n",
    "        '''\n",
    "        \n",
    "        temp = self.default_string(raw)\n",
    "        \n",
    "        self.upper_case = self.functions_upper_case_sub(temp)\n",
    "        self.where_clause = self.where_clause_sub(self.upper_case)\n",
    "        self.where_and_or_rule = self.where_and_or_rule_sub(self.where_clause)\n",
    "        self.window_functions = self.window_functions_sub(self.where_and_or_rule)\n",
    "        self.create_table = self.create_table_sub(self.window_functions)\n",
    "        self.join_rule = self.join_rule_sub(self.create_table)\n",
    "        self.join_and_or_rule = self.join_and_or_rule_sub(self.join_rule)\n",
    "        self.indent_for_with_stmnt = self.indent_for_with_stmnt_sub(self.join_and_or_rule)\n",
    "        \n",
    "        self.count_functions = 0\n",
    "        self.window_funcs_not_found = 0\n",
    "        self.create_table_not_found = 0\n",
    "        \n",
    "        '''\n",
    "        Warnings\n",
    "        '''\n",
    "        self.as_rule_warn(self.join_and_or_rule)\n",
    "        self.create_table_warn(self.join_and_or_rule)\n",
    "        self.column_name_rule_warn(self.join_and_or_rule)\n",
    "        self.group_rules_warn(self.join_and_or_rule)\n",
    "        self.or_in_a_row_warn(self.join_and_or_rule)\n",
    "        self.row_max_symbols_warn(self.join_and_or_rule)\n",
    "        self.warning_wrong_words_warn(self.join_and_or_rule)\n",
    "        \n",
    "        return self.indent_for_with_stmnt"
   ]
  }
 ],
 "metadata": {
  "kernelspec": {
   "display_name": "Geo",
   "language": "python",
   "name": "geo_python"
  },
  "language_info": {
   "codemirror_mode": {
    "name": "ipython",
    "version": 3
   },
   "file_extension": ".py",
   "mimetype": "text/x-python",
   "name": "python",
   "nbconvert_exporter": "python",
   "pygments_lexer": "ipython3",
   "version": "3.9.15"
  }
 },
 "nbformat": 4,
 "nbformat_minor": 5
}
