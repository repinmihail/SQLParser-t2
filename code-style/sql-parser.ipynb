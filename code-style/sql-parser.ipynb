{
 "cells": [
  {
   "cell_type": "code",
   "execution_count": 6,
   "metadata": {
    "execution": {
     "iopub.execute_input": "2023-01-07T09:16:07.497363Z",
     "iopub.status.busy": "2023-01-07T09:16:07.495932Z",
     "iopub.status.idle": "2023-01-07T09:16:07.544058Z",
     "shell.execute_reply": "2023-01-07T09:16:07.543295Z",
     "shell.execute_reply.started": "2023-01-07T09:16:07.497323Z"
    },
    "tags": []
   },
   "outputs": [
    {
     "name": "stdout",
     "output_type": "stream",
     "text": [
      "The autoreload extension is already loaded. To reload it, use:\n",
      "  %reload_ext autoreload\n"
     ]
    }
   ],
   "source": [
    "%load_ext autoreload\n",
    "%autoreload 2\n",
    "import pandas as pd\n",
    "import numpy as np\n",
    "import sqlparse\n",
    "import re\n",
    "from SQLParser import *\n",
    "import SQLFunctions as funcs\n",
    "from SQLParserError import SQLParserError\n",
    "import warnings"
   ]
  },
  {
   "cell_type": "code",
   "execution_count": 7,
   "metadata": {
    "execution": {
     "iopub.execute_input": "2023-01-07T09:16:08.271458Z",
     "iopub.status.busy": "2023-01-07T09:16:08.270471Z",
     "iopub.status.idle": "2023-01-07T09:16:08.301087Z",
     "shell.execute_reply": "2023-01-07T09:16:08.300331Z",
     "shell.execute_reply.started": "2023-01-07T09:16:08.271407Z"
    },
    "tags": []
   },
   "outputs": [],
   "source": [
    "sql = SQLParser()"
   ]
  },
  {
   "cell_type": "code",
   "execution_count": 3,
   "metadata": {
    "execution": {
     "iopub.execute_input": "2022-12-22T14:40:42.491299Z",
     "iopub.status.busy": "2022-12-22T14:40:42.490102Z",
     "iopub.status.idle": "2022-12-22T14:40:42.496709Z",
     "shell.execute_reply": "2022-12-22T14:40:42.495784Z",
     "shell.execute_reply.started": "2022-12-22T14:40:42.491263Z"
    },
    "tags": []
   },
   "outputs": [],
   "source": [
    "raw = '''\n",
    "SELect\n",
    "    t.report_date\n",
    "  , t.gendeR\n",
    ", active\n",
    ", sUm(t.vol) as sum_vol\n",
    ", Count(t.xsdf) as dfv\n",
    ", avg(sdf) as fpl\n",
    ", sum(total_days_per_month) over (partition by subs_id, id order by subs_id, end_of_month rows between 2 preceding and current row) as cum_sum_90d_1\n",
    ", active\n",
    ", sUm(t.vol) as sum_vol\n",
    ", sUm(t.vol) as sum_vol\n",
    ", sUm(t.vol) as sum_vol\n",
    ", sUm(t.vol) as sum_vol\n",
    ", sUm(t.vol) as sum_vol\n",
    ", sum(total_days_per_month) over (partition by subs_id order by subs_id, end_of_month rows between 2 preceding and current row) as cum_sum_90d_2\n",
    ", active\n",
    "  , t.gendeR\n",
    ", sUm(t.vol) as sum_vol\n",
    ", sum(total_days_per_month) over (order by subs_id, end_of_month rows between 2 preceding and current row) as cum_sum_90d_3\n",
    ", active\n",
    "  , t.gendeR\n",
    "FROM active_data_users AS t\n",
    "LEFT JOIN traffic AS trf ON\n",
    "JOIN table as tab on t.subs_id = tab.subs_id or t.report_date = tab.report_date1_\n",
    "and (t.subs_id = trf.subs_id or t.id = trf.id)\n",
    "left join bar on t.num = bar.num and t.dt = bar.dt and (t.foo = tab.foo or t.buzz = tab.buzz)\n",
    "where  t> 3  and  t=0 and (d>t.wef or d>6 or t.vol = 49 or t.vol = 10 or y =13) and f=  12 or t.vol  =   r.top and i in   (1111, 111222, 2222222222, 22222222444444444, 4444444444444555555555555555555)\n",
    "GROUP BY\n",
    "1, 2, 3,4\n",
    ", t.report_date\n",
    ", age_group\n",
    ", t.gender;\n",
    "\n",
    "select * from tab join buzz on a=b where 1=1 and id != 111 or name in (xyz, abc);\n",
    "select * from tabl full outer join foo as f on name  =name where t = 9;\n",
    "\n",
    "select t.var \n",
    "from foo as f\n",
    "join buzz as b\n",
    "    on (\n",
    "        f.id=b.id\n",
    "        and f.dt=b.dt\n",
    "        and xyz.sdfjhfd = c.asdnweionf\n",
    "    )\n",
    "where 1=  1 and b.date >= '2022-10-01' and t.name != 'not in RU'\n",
    "'''"
   ]
  },
  {
   "cell_type": "code",
   "execution_count": 5,
   "metadata": {
    "execution": {
     "iopub.execute_input": "2023-01-07T06:35:42.366213Z",
     "iopub.status.busy": "2023-01-07T06:35:42.365325Z",
     "iopub.status.idle": "2023-01-07T06:35:42.430372Z",
     "shell.execute_reply": "2023-01-07T06:35:42.429722Z",
     "shell.execute_reply.started": "2023-01-07T06:35:42.366182Z"
    },
    "tags": []
   },
   "outputs": [
    {
     "name": "stdout",
     "output_type": "stream",
     "text": [
      "Start run_code_style() function\n",
      "1 - functions_upper_case_sub() - done\n",
      "2 - where_clause_sub() - done\n",
      "3 - where_and_or_rule_sub - done\n",
      "4 - Window functions were not found. Return raw.\n",
      "5 - Create functions were not found. Return raw.\n",
      "6 - join_rule_sub() - done\n",
      "7 - join_and_or_rule_sub() - done\n",
      "All substitutions are well done\n",
      "All warnings are well done\n",
      "\n",
      "SELECT t.year_of_calendar ,\n",
      "       DATEDIFF(usr.end_dttm, usr.start_dttm) AS days_per_trip ,\n",
      "       CASE\n",
      "           WHEN non_flick.connections_per_day IS NOT NULL THEN 1\n",
      "           ELSE 0\n",
      "       END AS flick_flag ,\n",
      "       CASE\n",
      "           WHEN lt.rank_in_month IS NOT NULL THEN 1\n",
      "           ELSE 0\n",
      "       END AS longest_trip_flag\n",
      "FROM MONTH AS t\n",
      "JOIN non_flickers AS non_flick ON usr.subs_id = non_flick.subs_id\n",
      "AND t.calendar_date = non_flick.calendar_date\n",
      "AND connections_per_day IS NOT NULL\n"
     ]
    }
   ],
   "source": [
    "sql.run_code_style(raw)"
   ]
  },
  {
   "cell_type": "code",
   "execution_count": 130,
   "metadata": {
    "execution": {
     "iopub.execute_input": "2022-12-20T14:18:49.961625Z",
     "iopub.status.busy": "2022-12-20T14:18:49.960723Z",
     "iopub.status.idle": "2022-12-20T14:18:50.008701Z",
     "shell.execute_reply": "2022-12-20T14:18:50.007958Z",
     "shell.execute_reply.started": "2022-12-20T14:18:49.961595Z"
    },
    "tags": []
   },
   "outputs": [],
   "source": [
    "raw1 = '''\n",
    "WITH ALL_USERS_MC AS (\n",
    "\tSELECT\n",
    "\t\tt.subs_id\n",
    "\t\t, t.msisdn\n",
    "\t\t, t.transaction_id\n",
    "\t\t, t.transaction_dttm\n",
    "\t\t, t.amount_rub\n",
    "\t\t, t.revenue_rub\n",
    "\t\t, t.update_ts\n",
    "\t\t, serv.valid_from_date\n",
    "\t\t, serv.valid_to_date\n",
    "\tFROM prd2_dds_v2.mobile_commerce AS t\n",
    "\tJOIN prd2_dds_v2.service_instance AS serv ON t.subs_id = serv.subs_id\n",
    "\t\tAND serv.service_id = 30709\n",
    "\tWHERE 1=1\n",
    "\t\tAND t.transaction_dttm > '2022-09-30 00:00:00'\n",
    "),\n",
    "\n",
    "ORDERED_MOVINGS AS (\n",
    "\tSELECT\n",
    "\t\tt.subs_id\n",
    "\t\t, t.start_dttm\n",
    "\t\t, t.start_date\n",
    "\t\t, t.end_dttm\n",
    "\t\t, t.a_number\n",
    "\t\t, t.b_number\n",
    "\t\t, Lag(t.start_dttm, 1, t.start_dttm + INTERVAL '1' SECOND) Over (PARTITION BY t.subs_id, t.start_date ORDER BY t.start_dttm) AS lag_time1\n",
    "\t\t, Lag(t.start_dttm, 2, t.start_dttm + INTERVAL '2' SECOND) Over (PARTITION BY t.subs_id, t.start_date ORDER BY t.start_dttm) AS lag_time2\n",
    "\t\t, Lag(t.start_dttm, 3, t.start_dttm + INTERVAL '3' SECOND) Over (PARTITION BY t.subs_id, t.start_date ORDER BY t.start_dttm) AS lag_time3\n",
    "\tFROM PRD2_DDS_V.USAGE AS t\n",
    "\tWHERE 1=1\n",
    "\t\tAND t.start_date BETWEEN DATE'2022-10-01' AND DATE'2022-10-31'\n",
    "\t\tAND t.subs_id IN (SELECT DISTINCT subs_id FROM all_users_mc)\n",
    "\t\tAND t.traffic_type_id = 2\n",
    "\t\tAND (t.b_number = '7757' OR Length(t.b_number) = 11)\n",
    "\t\tAND (t.a_number IN ('312', '7757') OR Length(t.a_number) = 11)\n",
    ")\n",
    "select * from ORDERED_MOVINGS\n",
    "'''"
   ]
  },
  {
   "cell_type": "code",
   "execution_count": 123,
   "metadata": {
    "collapsed": true,
    "execution": {
     "iopub.execute_input": "2022-12-05T11:22:48.647034Z",
     "iopub.status.busy": "2022-12-05T11:22:48.646072Z",
     "iopub.status.idle": "2022-12-05T11:22:48.713220Z",
     "shell.execute_reply": "2022-12-05T11:22:48.712465Z",
     "shell.execute_reply.started": "2022-12-05T11:22:48.647001Z"
    },
    "jupyter": {
     "outputs_hidden": true
    },
    "tags": []
   },
   "outputs": [
    {
     "name": "stdout",
     "output_type": "stream",
     "text": [
      "WITH all_users_mc AS\n",
      "    (SELECT t.subs_id ,\n",
      "            t.msisdn ,\n",
      "            t.transaction_id ,\n",
      "            t.transaction_dttm ,\n",
      "            t.amount_rub ,\n",
      "            t.revenue_rub ,\n",
      "            t.update_ts ,\n",
      "            serv.valid_from_date ,\n",
      "            serv.valid_to_date\n",
      "     FROM prd2_dds_v2.mobile_commerce AS t\n",
      "     JOIN prd2_dds_v2.service_instance AS serv ON t.subs_id = serv.subs_id\n",
      "     AND serv.service_id = 30709\n",
      "     WHERE 1 = 1\n",
      "         AND t.transaction_dttm > '2022-09-30 00:00:00' ),\n",
      "     ordered_movings AS\n",
      "    (SELECT t.subs_id ,\n",
      "            t.start_dttm ,\n",
      "            t.start_date ,\n",
      "            t.end_dttm ,\n",
      "            t.a_number ,\n",
      "            t.b_number ,\n",
      "            lag(t.start_dttm, 1, t.start_dttm + INTERVAL '1' SECOND) OVER (PARTITION BY t.subs_id,\n",
      "                                                                                        t.start_date\n",
      "                                                                           ORDER BY t.start_dttm) AS lag_time1 ,\n",
      "                                                                          lag(t.start_dttm, 2, t.start_dttm + INTERVAL '2' SECOND) OVER (PARTITION BY t.subs_id,\n",
      "                                                                                                                                                      t.start_date\n",
      "                                                                                                                                         ORDER BY t.start_dttm) AS lag_time2 ,\n",
      "                                                                                                                                        lag(t.start_dttm, 3, t.start_dttm + INTERVAL '3' SECOND) OVER (PARTITION BY t.subs_id,\n",
      "                                                                                                                                                                                                                    t.start_date\n",
      "                                                                                                                                                                                                       ORDER BY t.start_dttm) AS lag_time3\n",
      "     FROM prd2_dds_v.usage AS t\n",
      "     WHERE 1 = 1\n",
      "         AND t.start_date BETWEEN DATE'2022-10-01' AND DATE'2022-10-31'\n",
      "         AND t.subs_id IN\n",
      "             (SELECT DISTINCT subs_id\n",
      "              FROM all_users_mc)\n",
      "         AND t.traffic_type_id = 2\n",
      "         AND (t.b_number = '7757'\n",
      "              OR length(t.b_number) = 11)\n",
      "         AND (t.a_number IN ('312',\n",
      "                             '7757')\n",
      "              OR length(t.a_number) = 11) )\n"
     ]
    }
   ],
   "source": [
    "print(sql.default_string(raw1))"
   ]
  },
  {
   "cell_type": "code",
   "execution_count": 124,
   "metadata": {
    "collapsed": true,
    "execution": {
     "iopub.execute_input": "2022-12-05T11:22:51.726088Z",
     "iopub.status.busy": "2022-12-05T11:22:51.725071Z",
     "iopub.status.idle": "2022-12-05T11:22:51.812906Z",
     "shell.execute_reply": "2022-12-05T11:22:51.812162Z",
     "shell.execute_reply.started": "2022-12-05T11:22:51.726047Z"
    },
    "jupyter": {
     "outputs_hidden": true
    },
    "tags": []
   },
   "outputs": [
    {
     "name": "stdout",
     "output_type": "stream",
     "text": [
      "functions_upper_case_sub\n",
      "whitespaces_sub\n",
      "where_clause_sub\n",
      "where_and_or_rule_sub\n",
      "join_rule_sub\n",
      "join_and_or_rule_sub\n",
      "WITH all_users_mc AS\n",
      "    (SELECT t.subs_id,\n",
      "            t.msisdn,\n",
      "            t.transaction_id,\n",
      "            t.transaction_dttm,\n",
      "            t.amount_rub,\n",
      "            t.revenue_rub,\n",
      "            t.update_ts,\n",
      "            serv.valid_from_date,\n",
      "            serv.valid_to_date\n",
      "     FROM prd2_dds_v2.mobile_commerce AS t\n",
      "     JOIN prd2_dds_v2.service_instance AS serv ON t.subs_id = serv.subs_id\n",
      "     AND serv.service_id = 30709\n",
      "     WHERE 1 = 1\n",
      "         AND t.transaction_dttm > '2022-09-30 00:00:00' ),\n",
      "     ordered_movings AS\n",
      "    (SELECT t.subs_id,\n",
      "            t.start_dttm,\n",
      "            t.start_date,\n",
      "            t.end_dttm,\n",
      "            t.a_number,\n",
      "            t.b_number,\n",
      "            LAG(t.start_dttm, 1, t.start_dttm + INTERVAL '1' SECOND) OVER (PARTITION BY t.subs_id,\n",
      "                                                                                        t.start_date\n",
      "                                                                           ORDER BY t.start_dttm) AS lag_time1,\n",
      "                                                                          LAG(t.start_dttm, 2, t.start_dttm + INTERVAL '2' SECOND) OVER (PARTITION BY t.subs_id,\n",
      "                                                                                                                                                      t.start_date\n",
      "                                                                                                                                         ORDER BY t.start_dttm) AS lag_time2,\n",
      "                                                                                                                                        LAG(t.start_dttm, 3, t.start_dttm + INTERVAL '3' SECOND) OVER (PARTITION BY t.subs_id,\n",
      "                                                                                                                                                                                                                    t.start_date\n",
      "                                                                                                                                                                                                       ORDER BY t.start_dttm) AS lag_time3\n",
      "     FROM prd2_dds_v.USAGE AS t\n",
      "     WHERE 1 = 1\n",
      "         AND t.start_date BETWEEN DATE'2022-10-01' AND DATE'2022-10-31'\n",
      "         AND t.subs_id IN\n",
      "             (SELECT DISTINCT subs_id\n",
      "              FROM all_users_mc)\n",
      "         AND t.traffic_type_id = 2\n",
      "         AND (t.b_number = '7757'\n",
      "              OR LENGTH(t.b_number) = 11)\n",
      "         AND (t.a_number IN ('312',\n",
      "                             '7757')\n",
      "              OR LENGTH(t.a_number) = 11) )\n"
     ]
    }
   ],
   "source": [
    "sql.run_code_style(raw1)"
   ]
  },
  {
   "cell_type": "code",
   "execution_count": 102,
   "metadata": {
    "execution": {
     "iopub.execute_input": "2022-12-20T13:12:15.656782Z",
     "iopub.status.busy": "2022-12-20T13:12:15.655707Z",
     "iopub.status.idle": "2022-12-20T13:12:15.701635Z",
     "shell.execute_reply": "2022-12-20T13:12:15.700983Z",
     "shell.execute_reply.started": "2022-12-20T13:12:15.656738Z"
    },
    "tags": []
   },
   "outputs": [],
   "source": [
    "raw2 = '''\n",
    "\n",
    "CREATE MULTISET TABLE PRD_DM.MC_FORECAST_RETURN_REVENUE \n",
    "    (\n",
    "    REPORT_DATE DATE Format 'YY/MM/DD',\n",
    "    RETURN_CURRENT_MONTH_DATE DECIMAL(18,6),\n",
    "    RETURN_CURRENT_MONTH_LAST_YEAR_DATE DECIMAL(18,6),\n",
    "    RETURN_CURRENT_MONTH_LAST_YEAR DECIMAL(18,6),\n",
    "    RETURN_CURRENT_YEAR DECIMAL(18,6),\n",
    "    RETURN_LAST_YEAR_LAST_DATE DECIMAL(18,6),\n",
    "    RETURN_LAST_YEAR DECIMAL(18,6),\n",
    "    REVENUE_CURRENT_MONTH_DATE DECIMAL(18,6),\n",
    "    REVENUE_CURRENT_MONTH_LAST_YEAR_DATE DECIMAL(18,6),\n",
    "    REVENUE_CURRENT_MONTH_LAST_YEAR DECIMAL(18,6),\n",
    "    REVENUE_CURRENT_YEAR DECIMAL(18,6),\n",
    "    REVENUE_LAST_YEAR_LAST_DATE DECIMAL(18,6),\n",
    "    REVENUE_LAST_YEAR DECIMAL(18,6)\n",
    "\t)\n",
    "PRIMARY INDEX ( REPORT_DATE );\n",
    "\n",
    "INSERT INTO PRD_DM.MC_FORECAST_RETURN_REVENUE\n",
    "SELECT * FROM UAT_DM.MC_FORECAST_RETURN_REVENUE;\n",
    "\n",
    "CREATE MULTISET TABLE amount_per_day_usage\n",
    "     (\n",
    "      first_day_of_month DATE Format 'YY/MM/DD',\n",
    "      REPORT_DATE DATE Format 'YY/MM/DD',\n",
    "      SUBS_ID DECIMAL(12,0),\n",
    "      BSEGMENT VARCHAR(20) CHARACTER SET Unicode CaseSpecific,\n",
    "      rated_amount_sum DECIMAL(18,6)\n",
    "\t  )\n",
    "PRIMARY INDEX ( SUBS_ID )\n",
    "ON COMMIT PRESERVE ROWS;\n",
    "\n",
    " CREATE MULTISET VOLATILE TABLE amount_per_day_usage\n",
    "     (\n",
    "      first_day_of_month DATE Format 'YY/MM/DD',\n",
    "      REPORT_DATE DATE Format 'YY/MM/DD',\n",
    "      SUBS_ID DECIMAL(12,0),\n",
    "      BSEGMENT VARCHAR(20) CHARACTER SET Unicode CaseSpecific,\n",
    "      rated_amount_sum DECIMAL(18,6)\n",
    "\t  )\n",
    "PRIMARY INDEX ( SUBS_ID )\n",
    "ON COMMIT PRESERVE ROWS;\n",
    "\n",
    "'''"
   ]
  },
  {
   "cell_type": "code",
   "execution_count": 131,
   "metadata": {
    "collapsed": true,
    "execution": {
     "iopub.execute_input": "2022-12-20T14:19:03.439136Z",
     "iopub.status.busy": "2022-12-20T14:19:03.438151Z",
     "iopub.status.idle": "2022-12-20T14:19:03.528190Z",
     "shell.execute_reply": "2022-12-20T14:19:03.527474Z",
     "shell.execute_reply.started": "2022-12-20T14:19:03.439092Z"
    },
    "jupyter": {
     "outputs_hidden": true
    },
    "tags": []
   },
   "outputs": [
    {
     "name": "stderr",
     "output_type": "stream",
     "text": [
      "\n",
      "        CodeStyle Warning in row_max_symbols_warn(): Максимальное количество символов в строке – не более 80. (SQL Style Guide. Общие конструкции. \n",
      "        Ссылка: https://wiki.tele2.ru/pages/viewpage.action?pageId=139127857&preview=/139127857/139128786/SQL%20StyleGuide.pdf). \n",
      "        Перечень строк с ошибками сохранен в объекте row_max_symbols_df.\n",
      "        \n"
     ]
    },
    {
     "name": "stdout",
     "output_type": "stream",
     "text": [
      "functions_upper_case_sub\n",
      "where_clause_sub\n",
      "where_and_or_rule_sub\n",
      "join_rule_sub\n",
      "join_and_or_rule_sub\n",
      "WITH all_users_mc AS\n",
      "    (SELECT t.subs_id ,\n",
      "            t.msisdn ,\n",
      "            t.transaction_id ,\n",
      "            t.transaction_dttm ,\n",
      "            t.amount_rub ,\n",
      "            t.revenue_rub ,\n",
      "            t.update_ts ,\n",
      "            serv.valid_from_date ,\n",
      "            serv.valid_to_date\n",
      "     FROM prd2_dds_v2.mobile_commerce AS t\n",
      "     JOIN prd2_dds_v2.service_instance AS serv ON t.subs_id = serv.subs_id\n",
      "     AND serv.service_id = 30709\n",
      "     WHERE 1 = 1\n",
      "         AND t.transaction_dttm > '2022-09-30 00:00:00' ),\n",
      "     ordered_movings AS\n",
      "    (SELECT t.subs_id ,\n",
      "            t.start_dttm ,\n",
      "            t.start_date ,\n",
      "            t.end_dttm ,\n",
      "            t.a_number ,\n",
      "            t.b_number ,\n",
      "            LAG(t.start_dttm, 1, t.start_dttm + INTERVAL '1' SECOND) OVER (PARTITION BY t.subs_id,\n",
      "                                                                                        t.start_date\n",
      "                                                                           ORDER BY t.start_dttm) AS lag_time1 ,\n",
      "                                                                          LAG(t.start_dttm, 2, t.start_dttm + INTERVAL '2' SECOND) OVER (PARTITION BY t.subs_id,\n",
      "                                                                                                                                                      t.start_date\n",
      "                                                                                                                                         ORDER BY t.start_dttm) AS lag_time2 ,\n",
      "                                                                                                                                        LAG(t.start_dttm, 3, t.start_dttm + INTERVAL '3' SECOND) OVER (PARTITION BY t.subs_id,\n",
      "                                                                                                                                                                                                                    t.start_date\n",
      "                                                                                                                                                                                                       ORDER BY t.start_dttm) AS lag_time3\n",
      "     FROM prd2_dds_v.usage AS t\n",
      "     WHERE 1 = 1\n",
      "         AND t.start_date BETWEEN DATE'2022-10-01' AND DATE'2022-10-31'\n",
      "         AND t.subs_id IN\n",
      "             (SELECT DISTINCT subs_id\n",
      "              FROM all_users_mc)\n",
      "         AND t.traffic_type_id = 2\n",
      "         AND (t.b_number = '7757'\n",
      "              OR LENGTH(t.b_number) = 11)\n",
      "         AND (t.a_number IN ('312',\n",
      "                             '7757')\n",
      "              OR LENGTH(t.a_number) = 11) )\n",
      "SELECT *\n",
      "FROM ordered_movings\n"
     ]
    }
   ],
   "source": [
    "sql.run_code_style(raw1)"
   ]
  },
  {
   "cell_type": "code",
   "execution_count": 128,
   "metadata": {
    "execution": {
     "iopub.execute_input": "2022-12-05T11:37:38.397312Z",
     "iopub.status.busy": "2022-12-05T11:37:38.396626Z",
     "iopub.status.idle": "2022-12-05T11:37:38.444052Z",
     "shell.execute_reply": "2022-12-05T11:37:38.443147Z",
     "shell.execute_reply.started": "2022-12-05T11:37:38.397279Z"
    },
    "tags": []
   },
   "outputs": [],
   "source": [
    "raw3 = '''\n",
    "REPLACE PROCEDURE uat_dm.RML_DS_740_PROC (sdate DATE, edate DATE)\n",
    "\n",
    " -- Начало процедуры\n",
    " SQL SECURITY INVOKER\n",
    " BEGIN \n",
    " \n",
    " DECLARE start_date DATE;\n",
    " DECLARE end_date DATE;\n",
    " \n",
    " SET start_date = sdate;\n",
    " SET end_date = edate;\n",
    " \n",
    " WHILE start_date <= end_date\n",
    " DO\n",
    " \n",
    " CREATE MULTISET VOLATILE TABLE amount_per_day_usage\n",
    "     (\n",
    "      first_day_of_month DATE Format 'YY/MM/DD',\n",
    "      REPORT_DATE DATE Format 'YY/MM/DD',\n",
    "      SUBS_ID DECIMAL(12,0),\n",
    "      BSEGMENT VARCHAR(20) CHARACTER SET Unicode CaseSpecific,\n",
    "      rated_amount_sum DECIMAL(18,6)\n",
    "\t  )\n",
    "PRIMARY INDEX ( SUBS_ID )\n",
    "ON COMMIT PRESERVE ROWS;\n",
    " \n",
    " \n",
    "INSERT INTO amount_per_day_usage\n",
    " \tSELECT\n",
    "\t\tTrunc(t.report_date, 'MONTH') AS first_day_of_month\n",
    "\t\t, t.report_date\n",
    "\t\t, t.subs_id\n",
    "\t\t, subs.bsegment\n",
    "\t\t, Sum(t.rated_amount) AS rated_amount_sum\n",
    "\tFROM PRD2_BDS_V2.SUBS_USG_D AS t\n",
    "\tJOIN PRD2_BDS_V.SUBS_CLR_D AS subs \n",
    "\t\tON (t.subs_id = subs.subs_id\n",
    "\t\t\tAND t.report_date = subs.report_date)\n",
    "\tWHERE 1=1\n",
    "\t\tAND t.report_date = :start_date\n",
    "\t\tAND subs.bsegment = 'B2C'\n",
    "\tGROUP BY\n",
    "\t\tTrunc(t.report_date, 'MONTH')\n",
    "\t\t, t.report_date\n",
    "\t\t, t.subs_id\n",
    "\t\t, subs.bsegment;\n",
    " \n",
    " INSERT INTO uat_dm.ds_740_usage\n",
    " SELECT * FROM amount_per_day_usage;\n",
    " \n",
    " SET start_date = start_date + 1;\n",
    " DROP TABLE amount_per_day_usage;\n",
    " END WHILE;\n",
    " END;\n",
    "'''"
   ]
  },
  {
   "cell_type": "code",
   "execution_count": 129,
   "metadata": {
    "collapsed": true,
    "execution": {
     "iopub.execute_input": "2022-12-05T11:37:49.778005Z",
     "iopub.status.busy": "2022-12-05T11:37:49.776890Z",
     "iopub.status.idle": "2022-12-05T11:37:49.861973Z",
     "shell.execute_reply": "2022-12-05T11:37:49.861113Z",
     "shell.execute_reply.started": "2022-12-05T11:37:49.777965Z"
    },
    "jupyter": {
     "outputs_hidden": true
    },
    "tags": []
   },
   "outputs": [
    {
     "name": "stdout",
     "output_type": "stream",
     "text": [
      "functions_upper_case_sub\n",
      "whitespaces_sub\n",
      "where_clause_sub\n",
      "where_and_or_rule_sub\n",
      "join_rule_sub\n",
      "join_and_or_rule_sub\n",
      "\n",
      "REPLACE PROCEDURE uat_dm.rml_ds_740_proc (sdate DATE, edate DATE) -- Начало процедуры\n",
      " SQL SECURITY INVOKER BEGIN DECLARE start_date DATE;\n",
      "\n",
      "DECLARE end_date DATE;\n",
      "\n",
      "\n",
      "SET start_date = sdate;\n",
      "\n",
      "\n",
      "SET end_date = edate;\n",
      "\n",
      "WHILE start_date < = end_date DO\n",
      "CREATE multiset VOLATILE TABLE amount_per_day_usage (first_day_of_month DATE FORMAT 'YY/MM/DD',\n",
      "                                                                                    report_date DATE FORMAT 'YY/MM/DD',\n",
      "                                                                                                            subs_id DECIMAL(12, 0),\n",
      "                                                                                                                    bsegment VARCHAR(20) CHARACTER\n",
      "                                                     SET unicode casespecific,\n",
      "                                                         rated_amount_sum DECIMAL(18, 6)) PRIMARY INDEX (subs_id) ON\n",
      "COMMIT PRESERVE ROWS;\n",
      "\n",
      "\n",
      "INSERT INTO amount_per_day_usage\n",
      "SELECT TRUNC(t.report_date, 'MONTH') AS first_day_of_month,\n",
      "       t.report_date,\n",
      "       t.subs_id,\n",
      "       subs.bsegment,\n",
      "       SUM(t.rated_amount) AS rated_amount_sum\n",
      "FROM prd2_bds_v2.subs_usg_d AS t\n",
      "JOIN prd2_bds_v.subs_clr_d AS subs \n",
      "    ON (\n",
      "     (t.subs_id = subs.subs_id\n",
      "                                           AND t.report_date = subs.report_date\n",
      "        )\n",
      "    )\n",
      "WHERE 1 = 1\n",
      "    AND t.report_date = :start_date\n",
      "    AND subs.bsegment = 'B2C'\n",
      "GROUP BY TRUNC(t.report_date, 'MONTH') ,\n",
      "         t.report_date,\n",
      "         t.subs_id,\n",
      "         subs.bsegment;\n",
      "\n",
      "\n",
      "INSERT INTO uat_dm.ds_740_usage\n",
      "SELECT *\n",
      "FROM amount_per_day_usage;\n",
      "\n",
      "\n",
      "SET start_date = start_date + 1;\n",
      "\n",
      "\n",
      "DROP TABLE amount_per_day_usage;\n",
      "\n",
      "END WHILE;\n",
      "\n",
      "END;\n"
     ]
    }
   ],
   "source": [
    "sql.run_code_style(raw3)"
   ]
  },
  {
   "cell_type": "code",
   "execution_count": 368,
   "metadata": {
    "collapsed": true,
    "execution": {
     "iopub.execute_input": "2022-12-15T14:49:37.090109Z",
     "iopub.status.busy": "2022-12-15T14:49:37.089065Z",
     "iopub.status.idle": "2022-12-15T14:49:37.165187Z",
     "shell.execute_reply": "2022-12-15T14:49:37.164467Z",
     "shell.execute_reply.started": "2022-12-15T14:49:37.090074Z"
    },
    "jupyter": {
     "outputs_hidden": true
    },
    "tags": []
   },
   "outputs": [
    {
     "name": "stdout",
     "output_type": "stream",
     "text": [
      "\n",
      "SELECT t.report_date ,\n",
      "       t.gender,\n",
      "       active,\n",
      "       sum(t.vol) AS sum_vol,\n",
      "       count(t.xsdf) AS dfv,\n",
      "       avg(sdf) AS fpl,\n",
      "       sum(total_days_per_month) OVER (PARTITION BY subs_id,\n",
      "                                                    id\n",
      "                                       ORDER BY subs_id,\n",
      "                                                end_of_month ROWS BETWEEN 2 preceding AND CURRENT ROW) AS cum_sum_90d_1,\n",
      "                                      active,\n",
      "                                      sum(total_days_per_month) OVER (PARTITION BY subs_id\n",
      "                                                                      ORDER BY subs_id,\n",
      "                                                                               end_of_month ROWS BETWEEN 2 preceding AND CURRENT ROW) AS cum_sum_90d_2,\n",
      "                                                                     active,\n",
      "                                                                     sum(total_days_per_month) OVER (PARTITION BY subs_id\n",
      "                                                                                                     ORDER BY subs_id,\n",
      "                                                                                                              end_of_month ROWS BETWEEN 2 preceding AND CURRENT ROW) AS cum_sum_90d_3,\n",
      "                                                                                                    active\n",
      "FROM active_data_users AS t\n",
      "LEFT JOIN traffic AS trf ON\n",
      "JOIN TABLE AS tab ON t.subs_id = tab.subs_id\n",
      "OR t.report_date = tab.report_date1_\n",
      "AND (t.subs_id = trf.subs_id\n",
      "     OR t.id = trf.id)\n",
      "LEFT JOIN bar ON t.num = bar.num\n",
      "AND t.dt = bar.dt\n",
      "AND (t.foo = tab.foo\n",
      "     OR t.buzz = tab.buzz)\n",
      "WHERE t > 3\n",
      "  AND t = 0\n",
      "  AND (d > t.wef\n",
      "       OR d > 6\n",
      "       OR t.vol = 49\n",
      "       OR t.vol = 10\n",
      "       OR y = 13)\n",
      "  AND f = 12\n",
      "  OR t.vol = r.top\n",
      "  AND i in (1111,\n",
      "            111222,\n",
      "            2222222222,\n",
      "            22222222444444444,\n",
      "            4444444444444555555555555555555)\n",
      "GROUP BY 1,\n",
      "         2,\n",
      "         3,\n",
      "         4,\n",
      "         t.report_date,\n",
      "         age_group,\n",
      "         t.gender;\n",
      "\n",
      "\n",
      "SELECT *\n",
      "FROM tab\n",
      "JOIN buzz ON a = b\n",
      "WHERE 1 = 1\n",
      "  AND id != 111\n",
      "  OR name in (xyz,\n",
      "              abc);\n",
      "\n",
      "\n",
      "SELECT *\n",
      "FROM tabl\n",
      "FULL OUTER JOIN foo AS f ON name = name\n",
      "WHERE t = 9;\n",
      "\n",
      "\n",
      "SELECT t.var\n",
      "FROM foo AS f\n",
      "JOIN buzz AS b ON (f.id = b.id\n",
      "                   AND f.dt = b.dt\n",
      "                   AND xyz.sdfjhfd = c.asdnweionf)\n",
      "WHERE 1 = 1\n",
      "  AND b.date >= '2022-10-01'\n",
      "  AND t.name != 'not in RU'\n"
     ]
    }
   ],
   "source": [
    "sql.simple_print_sql(\n",
    "    raw, \n",
    "    reindent=True, \n",
    "    identifier_case='lower', \n",
    "    keyword_case='upper', \n",
    "    #indent_width=4,\n",
    "    use_space_around_operators=True,\n",
    "    #reindent_aligned=True,\n",
    "    wrap_after=1,\n",
    "    comma_first=False\n",
    ")"
   ]
  },
  {
   "cell_type": "code",
   "execution_count": null,
   "metadata": {},
   "outputs": [],
   "source": [
    "sqlparse.format(raw, reindent=True, identifier_case='lower', keyword_case='upper')"
   ]
  },
  {
   "cell_type": "markdown",
   "metadata": {
    "tags": []
   },
   "source": [
    "### DONE&TEST"
   ]
  },
  {
   "cell_type": "code",
   "execution_count": null,
   "metadata": {
    "tags": []
   },
   "outputs": [],
   "source": [
    "sql.print_sql(raw, reindent=True, identifier_case='lower', keyword_case='upper')"
   ]
  },
  {
   "cell_type": "code",
   "execution_count": 7,
   "metadata": {
    "execution": {
     "iopub.execute_input": "2022-12-22T14:41:09.821552Z",
     "iopub.status.busy": "2022-12-22T14:41:09.820375Z",
     "iopub.status.idle": "2022-12-22T14:41:09.905640Z",
     "shell.execute_reply": "2022-12-22T14:41:09.904743Z",
     "shell.execute_reply.started": "2022-12-22T14:41:09.821515Z"
    },
    "tags": []
   },
   "outputs": [],
   "source": [
    "d = sqlparse.format(raw, reindent=True, identifier_case='lower', keyword_case='upper')"
   ]
  },
  {
   "cell_type": "markdown",
   "metadata": {},
   "source": [
    "##### *Название функций пишется заглавными буквами*"
   ]
  },
  {
   "cell_type": "code",
   "execution_count": 8,
   "metadata": {
    "execution": {
     "iopub.execute_input": "2022-12-22T14:41:17.820918Z",
     "iopub.status.busy": "2022-12-22T14:41:17.819671Z",
     "iopub.status.idle": "2022-12-22T14:41:17.873280Z",
     "shell.execute_reply": "2022-12-22T14:41:17.872344Z",
     "shell.execute_reply.started": "2022-12-22T14:41:17.820879Z"
    },
    "tags": []
   },
   "outputs": [],
   "source": [
    "def functions_upper_case(raw):\n",
    "    assert isinstance(raw, str), 'Аргумент raw должен быть типа string'\n",
    "    missing_words = [\n",
    "        'UCASE', 'LCASE', 'MID', 'ROUND', 'FORMAT', 'ASCII', 'datalength', 'ltrim', 'patindex', 'stuff', 'ceiling', 'rand',\n",
    "        'datediff', 'datename', 'datepart', 'getdate', 'getutcdate', 'try_cast', 'try_convert', 'isdate', 'isnumeric', 'lag',\n",
    "        'lead', 'sessionproperty', 'user_name', 'REPLICATE', 'REVERSE', 'SOUNDEX', 'ACOS', 'ASIN', 'ATAN', 'ATN2', 'COS', 'COT',\n",
    "        'DEGREES', 'EXP', 'LOG', 'LOG10', 'PI', 'POWER', 'SQUARE', 'TAN', 'DATEFROMPARTS', 'SYSDATETIME', 'IIF', 'collect_set',\n",
    "        'corr', 'covar_pop', 'covar_samp', 'histogram_numeric', 'ntile', 'percentile', 'percentile_approx', 'regr_avgx', 'dense_rank',\n",
    "        'first_value', 'last_value', 'percent_rank', 'rank', 'row_number', 'isnotnull']\n",
    "    \n",
    "    keywords_up = [key for key, value in sqlparse.keywords.KEYWORDS.items()] + \\\n",
    "        [key for key, value in sqlparse.keywords.KEYWORDS_COMMON.items()] + \\\n",
    "        [key for key, value in sqlparse.keywords.KEYWORDS_HQL.items()] + \\\n",
    "        [key for key, value in sqlparse.keywords.KEYWORDS_MSACCESS.items()] + \\\n",
    "        [key for key, value in sqlparse.keywords.KEYWORDS_ORACLE.items()] + \\\n",
    "        [key for key, value in sqlparse.keywords.KEYWORDS_PLPGSQL.items()] + \\\n",
    "        [i.upper() for i in missing_words]\n",
    "    keywords_low = [i.lower() for i in keywords_up]\n",
    "    assert len(keywords_up) == len(keywords_low), 'len(keywords_up) != len(keywords_low)'\n",
    "    \n",
    "    keyword_mapping = dict(zip(keywords_low, keywords_up))\n",
    "    pattern = re.compile(r'\\b('+'|'.join(keyword_mapping)+r')\\b')\n",
    "    return pattern.sub(lambda m: keyword_mapping[m.group(0)], raw)"
   ]
  },
  {
   "cell_type": "code",
   "execution_count": 24,
   "metadata": {
    "collapsed": true,
    "execution": {
     "iopub.execute_input": "2022-12-01T12:08:17.514643Z",
     "iopub.status.busy": "2022-12-01T12:08:17.513780Z",
     "iopub.status.idle": "2022-12-01T12:08:17.568357Z",
     "shell.execute_reply": "2022-12-01T12:08:17.567628Z",
     "shell.execute_reply.started": "2022-12-01T12:08:17.514615Z"
    },
    "jupyter": {
     "outputs_hidden": true
    },
    "tags": []
   },
   "outputs": [
    {
     "name": "stderr",
     "output_type": "stream",
     "text": [
      "WARNING:__main__:Something is not right.\n",
      "ERROR:__main__:A Major error has happened.\n",
      "CRITICAL:__main__:Fatal error. Cannot continue\n"
     ]
    }
   ],
   "source": [
    "import logging\n",
    "\n",
    "# Gets or creates a logger\n",
    "#logger = logging.getLogger(__name__)  \n",
    "\n",
    "# set log level\n",
    "#logger.setLevel(logging.WARNING)\n",
    "\n",
    "# define file handler and set formatter\n",
    "#file_handler = logging.FileHandler('logfile.log')\n",
    "#formatter    = logging.Formatter('%(asctime)s : %(levelname)s : %(name)s : %(message)s')\n",
    "#file_handler.setFormatter(formatter)\n",
    "\n",
    "# add file handler to logger\n",
    "#logger.addHandler(file_handler)\n",
    "\n",
    "# Logs\n",
    "logger.debug('A debug message')\n",
    "logger.info('An info message')\n",
    "logger.warning('Something is not right.')\n",
    "logger.error('A Major error has happened.')\n",
    "logger.critical('Fatal error. Cannot continue')"
   ]
  },
  {
   "cell_type": "code",
   "execution_count": 9,
   "metadata": {
    "collapsed": true,
    "execution": {
     "iopub.execute_input": "2022-12-22T14:41:20.356442Z",
     "iopub.status.busy": "2022-12-22T14:41:20.355729Z",
     "iopub.status.idle": "2022-12-22T14:41:20.420829Z",
     "shell.execute_reply": "2022-12-22T14:41:20.419913Z",
     "shell.execute_reply.started": "2022-12-22T14:41:20.356404Z"
    },
    "jupyter": {
     "outputs_hidden": true
    },
    "tags": []
   },
   "outputs": [
    {
     "name": "stdout",
     "output_type": "stream",
     "text": [
      "\n",
      "SELECT t.report_date ,\n",
      "       t.gender,\n",
      "       active,\n",
      "       SUM(t.vol) AS sum_vol,\n",
      "       COUNT(t.xsdf) AS dfv,\n",
      "       AVG(sdf) AS fpl,\n",
      "       SUM(total_days_per_month) OVER (PARTITION BY subs_id,\n",
      "                                                    id\n",
      "                                       ORDER BY subs_id,\n",
      "                                                end_of_month ROWS BETWEEN 2 preceding AND CURRENT ROW) AS cum_sum_90d_1,\n",
      "                                      active,\n",
      "                                      SUM(t.vol) AS sum_vol,\n",
      "                                      SUM(t.vol) AS sum_vol,\n",
      "                                      SUM(t.vol) AS sum_vol,\n",
      "                                      SUM(t.vol) AS sum_vol,\n",
      "                                      SUM(t.vol) AS sum_vol,\n",
      "                                      SUM(total_days_per_month) OVER (PARTITION BY subs_id\n",
      "                                                                      ORDER BY subs_id,\n",
      "                                                                               end_of_month ROWS BETWEEN 2 preceding AND CURRENT ROW) AS cum_sum_90d_2,\n",
      "                                                                     active ,\n",
      "                                                                     t.gender,\n",
      "                                                                     SUM(t.vol) AS sum_vol,\n",
      "                                                                     SUM(total_days_per_month) OVER (\n",
      "                                                                                                     ORDER BY subs_id,\n",
      "                                                                                                              end_of_month ROWS BETWEEN 2 preceding AND CURRENT ROW) AS cum_sum_90d_3,\n",
      "                                                                                                    active ,\n",
      "                                                                                                    t.gender\n",
      "FROM active_data_users AS t\n",
      "LEFT JOIN traffic AS trf ON\n",
      "JOIN TABLE AS tab ON t.subs_id = tab.subs_id\n",
      "OR t.report_date = tab.report_date1_\n",
      "AND (t.subs_id = trf.subs_id\n",
      "     OR t.id = trf.id)\n",
      "LEFT JOIN bar ON t.num = bar.num\n",
      "AND t.dt = bar.dt\n",
      "AND (t.foo = tab.foo\n",
      "     OR t.buzz = tab.buzz)\n",
      "WHERE t> 3\n",
      "  AND t=0\n",
      "  AND (d>t.wef\n",
      "       OR d>6\n",
      "       OR t.vol = 49\n",
      "       OR t.vol = 10\n",
      "       OR y =13)\n",
      "  AND f= 12\n",
      "  OR t.vol = r.top\n",
      "  AND i IN (1111,\n",
      "            111222,\n",
      "            2222222222,\n",
      "            22222222444444444,\n",
      "            4444444444444555555555555555555)\n",
      "GROUP BY 1,\n",
      "         2,\n",
      "         3,\n",
      "         4,\n",
      "         t.report_date,\n",
      "         age_group,\n",
      "         t.gender;\n",
      "\n",
      "\n",
      "SELECT *\n",
      "FROM tab\n",
      "JOIN buzz ON a=b\n",
      "WHERE 1=1\n",
      "  AND id != 111\n",
      "  OR name IN (xyz,\n",
      "              abc);\n",
      "\n",
      "\n",
      "SELECT *\n",
      "FROM tabl\n",
      "FULL OUTER JOIN foo AS f ON name =name\n",
      "WHERE t = 9;\n",
      "\n",
      "\n",
      "SELECT t.var\n",
      "FROM foo AS f\n",
      "JOIN buzz AS b ON (f.id=b.id\n",
      "                   AND f.dt=b.dt\n",
      "                   AND xyz.sdfjhfd = c.asdnweionf)\n",
      "WHERE 1= 1\n",
      "  AND b.DATE >= '2022-10-01'\n",
      "  AND t.name != 'NOT IN RU'\n"
     ]
    }
   ],
   "source": [
    "d1 = functions_upper_case(d)\n",
    "print(d1)"
   ]
  },
  {
   "cell_type": "markdown",
   "metadata": {},
   "source": [
    "##### *Для большей совместимости не используйте ключевые слова специфичные только для конкретной СУБД (например, использование SEL в Teradata недопустимо).*"
   ]
  },
  {
   "cell_type": "markdown",
   "metadata": {},
   "source": [
    "##### *Необходимо вставлять пробелы:* \n",
    "- *до и после знака равно, - pattern2*\n",
    "- *после запятых (исключение если далее следует перенос строки), - pattern1*\n",
    "- *до открывающихся и после закрывающихся скобок (не относится к применению функций). - pattern3*"
   ]
  },
  {
   "cell_type": "markdown",
   "metadata": {},
   "source": [
    "1. список ошибок\n",
    "2. список исправленных ошибок - удаленные пробелы\n",
    "3. sub"
   ]
  },
  {
   "cell_type": "markdown",
   "metadata": {},
   "source": [
    "##### *При использовании нескольких условий в операторе WHERE следует первым использовать запись 1 = 1 и далее с новой строки c отступом новое условие начинающегося с AND.*"
   ]
  },
  {
   "cell_type": "code",
   "execution_count": 10,
   "metadata": {
    "execution": {
     "iopub.execute_input": "2022-12-22T14:41:24.803599Z",
     "iopub.status.busy": "2022-12-22T14:41:24.802733Z",
     "iopub.status.idle": "2022-12-22T14:41:24.851202Z",
     "shell.execute_reply": "2022-12-22T14:41:24.850511Z",
     "shell.execute_reply.started": "2022-12-22T14:41:24.803569Z"
    },
    "tags": []
   },
   "outputs": [],
   "source": [
    "def where_clause(raw):\n",
    "    '''\n",
    "    Правило должно следовать после правила о пробелах перед и после \"=\"\n",
    "    '''\n",
    "    assert isinstance(raw, str), 'raw must be type of string'\n",
    "    script_by_rows = [tup for tup in raw.split('\\n')]\n",
    "    wrong_items = []\n",
    "    for row in script_by_rows:\n",
    "        if 'WHERE' in row:\n",
    "            if 'WHERE 1 = 1' not in row:\n",
    "                wrong_items.append(row)\n",
    "    \n",
    "    for i in wrong_items:\n",
    "        pattern = re.compile(f'{i}')\n",
    "        right_values = i.replace('WHERE ', 'WHERE 1 = 1\\n  AND ')\n",
    "        raw = pattern.sub(right_values, raw)\n",
    "    return raw"
   ]
  },
  {
   "cell_type": "code",
   "execution_count": 11,
   "metadata": {
    "collapsed": true,
    "execution": {
     "iopub.execute_input": "2022-12-22T14:41:25.725022Z",
     "iopub.status.busy": "2022-12-22T14:41:25.724319Z",
     "iopub.status.idle": "2022-12-22T14:41:25.768727Z",
     "shell.execute_reply": "2022-12-22T14:41:25.768057Z",
     "shell.execute_reply.started": "2022-12-22T14:41:25.724991Z"
    },
    "jupyter": {
     "outputs_hidden": true
    },
    "tags": []
   },
   "outputs": [
    {
     "name": "stdout",
     "output_type": "stream",
     "text": [
      "\n",
      "SELECT t.report_date ,\n",
      "       t.gender,\n",
      "       active,\n",
      "       SUM(t.vol) AS sum_vol,\n",
      "       COUNT(t.xsdf) AS dfv,\n",
      "       AVG(sdf) AS fpl,\n",
      "       SUM(total_days_per_month) OVER (PARTITION BY subs_id,\n",
      "                                                    id\n",
      "                                       ORDER BY subs_id,\n",
      "                                                end_of_month ROWS BETWEEN 2 preceding AND CURRENT ROW) AS cum_sum_90d_1,\n",
      "                                      active,\n",
      "                                      SUM(t.vol) AS sum_vol,\n",
      "                                      SUM(t.vol) AS sum_vol,\n",
      "                                      SUM(t.vol) AS sum_vol,\n",
      "                                      SUM(t.vol) AS sum_vol,\n",
      "                                      SUM(t.vol) AS sum_vol,\n",
      "                                      SUM(total_days_per_month) OVER (PARTITION BY subs_id\n",
      "                                                                      ORDER BY subs_id,\n",
      "                                                                               end_of_month ROWS BETWEEN 2 preceding AND CURRENT ROW) AS cum_sum_90d_2,\n",
      "                                                                     active ,\n",
      "                                                                     t.gender,\n",
      "                                                                     SUM(t.vol) AS sum_vol,\n",
      "                                                                     SUM(total_days_per_month) OVER (\n",
      "                                                                                                     ORDER BY subs_id,\n",
      "                                                                                                              end_of_month ROWS BETWEEN 2 preceding AND CURRENT ROW) AS cum_sum_90d_3,\n",
      "                                                                                                    active ,\n",
      "                                                                                                    t.gender\n",
      "FROM active_data_users AS t\n",
      "LEFT JOIN traffic AS trf ON\n",
      "JOIN TABLE AS tab ON t.subs_id = tab.subs_id\n",
      "OR t.report_date = tab.report_date1_\n",
      "AND (t.subs_id = trf.subs_id\n",
      "     OR t.id = trf.id)\n",
      "LEFT JOIN bar ON t.num = bar.num\n",
      "AND t.dt = bar.dt\n",
      "AND (t.foo = tab.foo\n",
      "     OR t.buzz = tab.buzz)\n",
      "WHERE 1 = 1\n",
      "  AND t> 3\n",
      "  AND t=0\n",
      "  AND (d>t.wef\n",
      "       OR d>6\n",
      "       OR t.vol = 49\n",
      "       OR t.vol = 10\n",
      "       OR y =13)\n",
      "  AND f= 12\n",
      "  OR t.vol = r.top\n",
      "  AND i IN (1111,\n",
      "            111222,\n",
      "            2222222222,\n",
      "            22222222444444444,\n",
      "            4444444444444555555555555555555)\n",
      "GROUP BY 1,\n",
      "         2,\n",
      "         3,\n",
      "         4,\n",
      "         t.report_date,\n",
      "         age_group,\n",
      "         t.gender;\n",
      "\n",
      "\n",
      "SELECT *\n",
      "FROM tab\n",
      "JOIN buzz ON a=b\n",
      "WHERE 1 = 1\n",
      "  AND 1=1\n",
      "  AND id != 111\n",
      "  OR name IN (xyz,\n",
      "              abc);\n",
      "\n",
      "\n",
      "SELECT *\n",
      "FROM tabl\n",
      "FULL OUTER JOIN foo AS f ON name =name\n",
      "WHERE 1 = 1\n",
      "  AND t = 9;\n",
      "\n",
      "\n",
      "SELECT t.var\n",
      "FROM foo AS f\n",
      "JOIN buzz AS b ON (f.id=b.id\n",
      "                   AND f.dt=b.dt\n",
      "                   AND xyz.sdfjhfd = c.asdnweionf)\n",
      "WHERE 1 = 1\n",
      "  AND 1= 1\n",
      "  AND b.DATE >= '2022-10-01'\n",
      "  AND t.name != 'NOT IN RU'\n"
     ]
    }
   ],
   "source": [
    "d3 = where_clause(d1)\n",
    "print(d3)"
   ]
  },
  {
   "cell_type": "markdown",
   "metadata": {
    "tags": []
   },
   "source": [
    "##### *Условие при использовании JOIN необходимо указывать с помощью ключевого слова ON. Если условие только одно, то допускается написание наравне с оператором JOIN, если условий более одного, то их необходимо перенести на новую строку (совместно с ON) и использовать скобки.*"
   ]
  },
  {
   "cell_type": "code",
   "execution_count": null,
   "metadata": {
    "tags": []
   },
   "outputs": [],
   "source": [
    "pat = re.compile(r\"JOIN(\\s+\\w+_?\\.*\\w+_?\\s+(AS\\s+|as\\s+)?(\\w*)?\\s+(ON|on)\\s+\\w+_?\\.*\\w+_?\\s+\\=\\s+\\w+_?\\.*\\w+_?)\\s+(AND|and\\s+\\w+_?\\.*\\w+_?\\s+\\=\\s+\\w+_?\\.*\\w+_?)\")\n",
    "patt = re.compile(r\"JOIN.*ON.*\\nAND.*\\n\")"
   ]
  },
  {
   "cell_type": "code",
   "execution_count": null,
   "metadata": {
    "tags": []
   },
   "outputs": [],
   "source": [
    "bool(re.search(pat, d3))"
   ]
  },
  {
   "cell_type": "code",
   "execution_count": null,
   "metadata": {
    "tags": []
   },
   "outputs": [],
   "source": [
    "bool(re.search(patt, d3))"
   ]
  },
  {
   "cell_type": "code",
   "execution_count": 12,
   "metadata": {
    "execution": {
     "iopub.execute_input": "2022-12-22T14:41:31.354671Z",
     "iopub.status.busy": "2022-12-22T14:41:31.354304Z",
     "iopub.status.idle": "2022-12-22T14:41:31.409033Z",
     "shell.execute_reply": "2022-12-22T14:41:31.408385Z",
     "shell.execute_reply.started": "2022-12-22T14:41:31.354646Z"
    },
    "tags": []
   },
   "outputs": [],
   "source": [
    "def join_rule(raw):\n",
    "    assert isinstance(raw, str), 'raw must be type of string'\n",
    "    \n",
    "    script_by_rows = [tup for tup in raw.split('\\n')]\n",
    "    \n",
    "    join_keywords = ['JOIN', 'LEFT', 'RIGHT', 'INNER', 'FULL', 'OUTER', 'CROSS']\n",
    "    join_end = ['WHERE', 'ORDER BY', 'GROUP BY'] \n",
    "    \n",
    "    join_groups = []\n",
    "    counter = 0\n",
    "    for ind in range(0, len(script_by_rows)-1):\n",
    "        \n",
    "        # если строка начинается с join, то запоминаем ее индекс\n",
    "        if script_by_rows[ind].startswith(tuple(join_keywords)) and counter == 0:\n",
    "            counter = ind\n",
    "            # если следующая строка так же join, то записываем текущую строку и обнуляем счетчик\n",
    "            if script_by_rows[ind+1].startswith(tuple(join_keywords)):\n",
    "                join_groups.append(script_by_rows[counter:ind+1])\n",
    "                counter = 0\n",
    "                continue\n",
    "        \n",
    "        # если следующая строка join и счетчик не 0, то записываем диапазон строк, счетчик = 0\n",
    "        if script_by_rows[ind+1].startswith(tuple(join_keywords)) and counter != 0:\n",
    "            join_groups.append(script_by_rows[counter:ind+1])\n",
    "            counter = 0\n",
    "            \n",
    "        # если впереди другие операторы (не join) и счетчик не равен 0 (значит join заканчивается), то записываем диапазон\n",
    "        if script_by_rows[ind+1].startswith(tuple(join_end)) and counter != 0:\n",
    "            join_groups.append(script_by_rows[counter:ind+1])\n",
    "            counter = 0\n",
    "    \n",
    "    for group in join_groups:\n",
    "        if len(group) > 1:\n",
    "            #print(group)\n",
    "            for ind in range(0, len(group)):\n",
    "                try:\n",
    "                    if 'ON (' in group[ind]:\n",
    "                        count_spaces = 4 * ' '\n",
    "                        re_val = group[ind].replace('(', '\\(')\n",
    "                        pattern = re.compile(f'{re_val}')\n",
    "                        right_val = group[ind].replace('ON (', '\\n' + count_spaces + 'ON (\\n' + count_spaces * 2)\n",
    "                        raw = pattern.sub(right_val, raw)\n",
    "                        \n",
    "                        for i in range(1, len(group)):\n",
    "                            count_spaces = 4 * ' '\n",
    "                            if ')' in group[i]:\n",
    "                                re_val = group[i].replace(')', '\\)')\n",
    "                                pattern = re.compile(f'{re_val}')\n",
    "                                right_val = count_spaces * 2 + group[i].strip().replace(')', '\\n' + count_spaces + ')')\n",
    "                            else:\n",
    "                                re_val = group[i]#.strip()\n",
    "                                pattern = re.compile(f'{re_val}')\n",
    "                                right_val = count_spaces * 2 + group[i].strip()\n",
    "                            raw = pattern.sub(right_val, raw)\n",
    "                    else:\n",
    "                        if '(' in group[ind]:\n",
    "                            re_val = group[ind].replace('(', '\\(')\n",
    "                            pattern = re.compile(f'{re_val}')\n",
    "                        elif ')' in group[ind]:\n",
    "                            re_val = group[ind].replace(')', '\\)')\n",
    "                            pattern = re.compile(f'{re_val}')\n",
    "                        else:\n",
    "                            pattern = re.compile(f'{group[ind]}')\n",
    "                        \n",
    "                        if group[ind].startswith(tuple(join_keywords)):\n",
    "                            count_spaces = 4 * ' '\n",
    "                            right_values1 = group[ind].replace('ON', '\\n' + count_spaces + 'ON (\\n' + count_spaces)\n",
    "                            raw = pattern.sub(right_values1, raw)\n",
    "                        \n",
    "                        if 'AND ' in group[ind] or 'OR ' in group[ind]:\n",
    "                            if ind == len(group) - 1:\n",
    "                                if 'AND ' in group[ind]:\n",
    "                                    count_space = 4 * ' '\n",
    "                                    right_val = group[ind].replace('AND', count_space + 'AND')\n",
    "                                    right_val = right_val + '\\n' + count_space + ')'\n",
    "                                    raw = pattern.sub(right_val, raw)\n",
    "                                if 'OR ' in group[ind]:\n",
    "                                    count_space = 4 * ' '\n",
    "                                    right_val = group[ind].replace('OR', count_space + 'OR')\n",
    "                                    right_val = right_val + '\\n' + count_space + ')'\n",
    "                                    raw = pattern.sub(right_val, raw)\n",
    "                            else:\n",
    "                                if 'AND' in group[ind]:\n",
    "                                    count_space = 4 * ' '\n",
    "                                    right_val = group[ind].replace('AND', count_space + 'AND')\n",
    "                                    raw = pattern.sub(right_val, raw)\n",
    "                                if 'OR' in group[ind]:\n",
    "                                    count_space = 4 * ' '\n",
    "                                    right_val = group[ind].replace('OR', count_space + 'OR')\n",
    "                                    raw = pattern.sub(right_val, raw)\n",
    "                except:\n",
    "                    raise SQLParserError(\"Something went wrong in \" '{!r}'.format(group[ind]))\n",
    "    return raw"
   ]
  },
  {
   "cell_type": "code",
   "execution_count": 13,
   "metadata": {
    "collapsed": true,
    "execution": {
     "iopub.execute_input": "2022-12-22T14:41:32.048742Z",
     "iopub.status.busy": "2022-12-22T14:41:32.047806Z",
     "iopub.status.idle": "2022-12-22T14:41:32.092846Z",
     "shell.execute_reply": "2022-12-22T14:41:32.092163Z",
     "shell.execute_reply.started": "2022-12-22T14:41:32.048701Z"
    },
    "jupyter": {
     "outputs_hidden": true
    },
    "tags": []
   },
   "outputs": [
    {
     "name": "stdout",
     "output_type": "stream",
     "text": [
      "\n",
      "SELECT t.report_date ,\n",
      "       t.gender,\n",
      "       active,\n",
      "       SUM(t.vol) AS sum_vol,\n",
      "       COUNT(t.xsdf) AS dfv,\n",
      "       AVG(sdf) AS fpl,\n",
      "       SUM(total_days_per_month) OVER (PARTITION BY subs_id,\n",
      "                                                    id\n",
      "                                       ORDER BY subs_id,\n",
      "                                                end_of_month ROWS BETWEEN 2 preceding AND CURRENT ROW) AS cum_sum_90d_1,\n",
      "                                      active,\n",
      "                                      SUM(t.vol) AS sum_vol,\n",
      "                                      SUM(t.vol) AS sum_vol,\n",
      "                                      SUM(t.vol) AS sum_vol,\n",
      "                                      SUM(t.vol) AS sum_vol,\n",
      "                                      SUM(t.vol) AS sum_vol,\n",
      "                                      SUM(total_days_per_month) OVER (PARTITION BY subs_id\n",
      "                                                                      ORDER BY subs_id,\n",
      "                                                                               end_of_month ROWS BETWEEN 2 preceding AND CURRENT ROW) AS cum_sum_90d_2,\n",
      "                                                                     active ,\n",
      "                                                                     t.gender,\n",
      "                                                                     SUM(t.vol) AS sum_vol,\n",
      "                                                                     SUM(total_days_per_month) OVER (\n",
      "                                                                                                     ORDER BY subs_id,\n",
      "                                                                                                              end_of_month ROWS BETWEEN 2 preceding AND CURRENT ROW) AS cum_sum_90d_3,\n",
      "                                                                                                    active ,\n",
      "                                                                                                    t.gender\n",
      "FROM active_data_users AS t\n",
      "LEFT JOIN traffic AS trf ON\n",
      "JOIN TABLE AS tab \n",
      "    ON (\n",
      "     t.subs_id = tab.subs_id\n",
      "    OR t.report_date = tab.report_date1_\n",
      "    AND (t.subs_id = trf.subs_id\n",
      "         OR t.id = trf.id)\n",
      "    )\n",
      "LEFT JOIN bar \n",
      "    ON (\n",
      "     t.num = bar.num\n",
      "    AND t.dt = bar.dt\n",
      "    AND (t.foo = tab.foo\n",
      "         OR t.buzz = tab.buzz)\n",
      "    )\n",
      "WHERE 1 = 1\n",
      "  AND t> 3\n",
      "  AND t=0\n",
      "  AND (d>t.wef\n",
      "       OR d>6\n",
      "       OR t.vol = 49\n",
      "       OR t.vol = 10\n",
      "       OR y =13)\n",
      "  AND f= 12\n",
      "  OR t.vol = r.top\n",
      "  AND i IN (1111,\n",
      "            111222,\n",
      "            2222222222,\n",
      "            22222222444444444,\n",
      "            4444444444444555555555555555555)\n",
      "GROUP BY 1,\n",
      "         2,\n",
      "         3,\n",
      "         4,\n",
      "         t.report_date,\n",
      "         age_group,\n",
      "         t.gender;\n",
      "\n",
      "\n",
      "SELECT *\n",
      "FROM tab\n",
      "JOIN buzz ON a=b\n",
      "WHERE 1 = 1\n",
      "  AND 1=1\n",
      "  AND id != 111\n",
      "  OR name IN (xyz,\n",
      "              abc);\n",
      "\n",
      "\n",
      "SELECT *\n",
      "FROM tabl\n",
      "FULL OUTER JOIN foo AS f ON name =name\n",
      "WHERE 1 = 1\n",
      "  AND t = 9;\n",
      "\n",
      "\n",
      "SELECT t.var\n",
      "FROM foo AS f\n",
      "JOIN buzz AS b \n",
      "    ON (\n",
      "        f.id=b.id\n",
      "        AND f.dt=b.dt\n",
      "        AND xyz.sdfjhfd = c.asdnweionf\n",
      "    )\n",
      "WHERE 1 = 1\n",
      "  AND 1= 1\n",
      "  AND b.DATE >= '2022-10-01'\n",
      "  AND t.name != 'NOT IN RU'\n"
     ]
    }
   ],
   "source": [
    "d4 = join_rule(d3)\n",
    "print(d4)"
   ]
  },
  {
   "cell_type": "code",
   "execution_count": 14,
   "metadata": {
    "execution": {
     "iopub.execute_input": "2022-12-22T14:41:41.779358Z",
     "iopub.status.busy": "2022-12-22T14:41:41.778939Z",
     "iopub.status.idle": "2022-12-22T14:41:41.835541Z",
     "shell.execute_reply": "2022-12-22T14:41:41.834589Z",
     "shell.execute_reply.started": "2022-12-22T14:41:41.779330Z"
    },
    "tags": []
   },
   "outputs": [],
   "source": [
    "def window_functions_sub(raw):\n",
    "    '''\n",
    "    Функция исправляет отступы в оконных функциях. Количество отступов можно регулировать. \n",
    "    '''\n",
    "    assert isinstance(raw, str), 'Аргумент raw должен быть типа string'\n",
    "    \n",
    "    script_by_rows = [tup for tup in raw.split('\\n')]\n",
    "    \n",
    "    wind_keywords = ['SELECT', 'SELECT']\n",
    "    wind_end = ['FROM']\n",
    "    \n",
    "    wind_groups = []\n",
    "    counter = 0\n",
    "    find_window = []\n",
    "    # разметка скрипта, выбор только тех частей, где могут быть оконные функции\n",
    "    for ind in range(0, len(script_by_rows)-1):\n",
    "        \n",
    "        # если строка начинается с as_keywords, то запоминаем ее индекс\n",
    "        if script_by_rows[ind].startswith(tuple(wind_keywords)) and counter == 0:\n",
    "            counter = ind\n",
    "            \n",
    "        # если впереди другие операторы (не as_keywords) и счетчик не равен 0, то записываем диапазон\n",
    "        if script_by_rows[ind+1].startswith(tuple(wind_end)) and counter != 0:\n",
    "            wind_groups.append(script_by_rows[counter:ind+1])\n",
    "            counter = 0\n",
    "    \n",
    "    # в select ищем оконную функцию по ключевой комбинации \") OVER (\"\n",
    "    for group in wind_groups:\n",
    "        if len(group) > 1:\n",
    "            #print(group)\n",
    "            counter = 0\n",
    "            for ind in range(0, len(group)):\n",
    "                if ') OVER (' in group[ind]:\n",
    "                    counter = ind\n",
    "                    find_window = group[counter:]\n",
    "                    #print(d)\n",
    "                    break\n",
    "    only_window = []\n",
    "    counter = 0\n",
    "    for j in range(0, len(find_window)-1):\n",
    "        #print(d[j])\n",
    "        if ') OVER (' in find_window[j+1]:\n",
    "            only_window.append(find_window[counter:j+1])\n",
    "            counter = j+1\n",
    "            #print(group[ind])\n",
    "        if j == len(find_window) - 2:\n",
    "            #print(d[j+1])\n",
    "            only_window.append(find_window[counter:j+2])\n",
    "    \n",
    "    # отступы\n",
    "    func_indent = ' ' * 7\n",
    "    part_indent = ' ' * 52\n",
    "    main_sort_indent = ' ' * 39\n",
    "    post_sort_indent = ' ' * 48\n",
    "    other_fields_indent = ' ' * 7\n",
    "    \n",
    "    \n",
    "    # функция под замену скобок в паттернах\n",
    "    for wind in only_window:\n",
    "        #print(wind)\n",
    "        as_flag = 0\n",
    "        order_flag = 0\n",
    "        for ind in range(0, len(wind)):\n",
    "            #print(f'wind: {ind} :', wind[ind])\n",
    "            if ')' in wind[ind] or '(' in wind[ind]:\n",
    "                re_val = wind[ind].replace(')', '\\)').replace('(', '\\(')\n",
    "                pattern = re.compile(f'{re_val}')\n",
    "                right_val = wind[ind].strip()\n",
    "            else:\n",
    "                re_val = wind[ind]\n",
    "                pattern = re.compile(f'{re_val}')\n",
    "                right_val = wind[ind].strip()\n",
    "\n",
    "            if ') OVER (' in wind[ind]:\n",
    "                re_val = wind[ind].replace(')', '\\)').replace('(', '\\(')\n",
    "                pattern = re.compile(f'{re_val}')\n",
    "                right_val = func_indent + wind[ind].strip()\n",
    "                raw = pattern.sub(right_val, raw)\n",
    "            \n",
    "            if 'ORDER BY' in wind[ind]:\n",
    "                re_val = wind[ind].replace(')', '\\)').replace('(', '\\(')\n",
    "                pattern = re.compile(f'{re_val}')\n",
    "                right_val = main_sort_indent + wind[ind].strip()\n",
    "                #print(right_val)\n",
    "                raw = pattern.sub(right_val, raw, 1)\n",
    "                order_flag = 1\n",
    "            \n",
    "            if as_flag == 1:\n",
    "                re_val = wind[ind].replace(')', '\\)').replace('(', '\\(')\n",
    "                pattern = re.compile(f'{re_val}')\n",
    "                right_val = other_fields_indent + wind[ind].strip()\n",
    "                #print(right_val)\n",
    "                raw = pattern.sub(right_val, raw, 1)\n",
    "            \n",
    "            if order_flag == 1 and ') AS ' in wind[ind] and '(' not in wind[ind]: # есть ли функции в этом выражении\n",
    "                re_val = wind[ind].replace(')', '\\)').replace('(', '\\(')\n",
    "                pattern = re.compile(f'{re_val}')\n",
    "                right_val = post_sort_indent + wind[ind].strip()\n",
    "                #print(right_val)\n",
    "                raw = pattern.sub(right_val, raw, 1)\n",
    "                as_flag = 1\n",
    "    return raw"
   ]
  },
  {
   "cell_type": "code",
   "execution_count": 15,
   "metadata": {
    "execution": {
     "iopub.execute_input": "2022-12-22T14:41:42.549930Z",
     "iopub.status.busy": "2022-12-22T14:41:42.548785Z",
     "iopub.status.idle": "2022-12-22T14:41:42.597969Z",
     "shell.execute_reply": "2022-12-22T14:41:42.597125Z",
     "shell.execute_reply.started": "2022-12-22T14:41:42.549893Z"
    },
    "tags": []
   },
   "outputs": [
    {
     "name": "stdout",
     "output_type": "stream",
     "text": [
      "\n",
      "SELECT t.report_date ,\n",
      "       t.gender,\n",
      "       active,\n",
      "       SUM(t.vol) AS sum_vol,\n",
      "       COUNT(t.xsdf) AS dfv,\n",
      "       AVG(sdf) AS fpl,\n",
      "       SUM(total_days_per_month) OVER (PARTITION BY subs_id,\n",
      "                                                    id\n",
      "                                       ORDER BY subs_id,\n",
      "                                                end_of_month ROWS BETWEEN 2 preceding AND CURRENT ROW) AS cum_sum_90d_1,\n",
      "       active,\n",
      "       SUM(t.vol) AS sum_vol,\n",
      "       SUM(t.vol) AS sum_vol,\n",
      "       SUM(t.vol) AS sum_vol,\n",
      "       SUM(t.vol) AS sum_vol,\n",
      "       SUM(t.vol) AS sum_vol,\n",
      "       SUM(total_days_per_month) OVER (PARTITION BY subs_id\n",
      "                                       ORDER BY subs_id,\n",
      "                                                end_of_month ROWS BETWEEN 2 preceding AND CURRENT ROW) AS cum_sum_90d_2,\n",
      "       active ,\n",
      "       t.gender,\n",
      "       SUM(t.vol) AS sum_vol,\n",
      "       SUM(total_days_per_month) OVER (\n",
      "                                       ORDER BY subs_id,\n",
      "                                                end_of_month ROWS BETWEEN 2 preceding AND CURRENT ROW) AS cum_sum_90d_3,\n",
      "       active ,\n",
      "       t.gender\n",
      "FROM active_data_users AS t\n",
      "LEFT JOIN traffic AS trf ON\n",
      "JOIN TABLE AS tab \n",
      "    ON (\n",
      "     t.subs_id = tab.subs_id\n",
      "    OR t.report_date = tab.report_date1_\n",
      "    AND (t.subs_id = trf.subs_id\n",
      "         OR t.id = trf.id)\n",
      "    )\n",
      "LEFT JOIN bar \n",
      "    ON (\n",
      "     t.num = bar.num\n",
      "    AND t.dt = bar.dt\n",
      "    AND (t.foo = tab.foo\n",
      "         OR t.buzz = tab.buzz)\n",
      "    )\n",
      "WHERE 1 = 1\n",
      "  AND t> 3\n",
      "  AND t=0\n",
      "  AND (d>t.wef\n",
      "       OR d>6\n",
      "       OR t.vol = 49\n",
      "       OR t.vol = 10\n",
      "       OR y =13)\n",
      "  AND f= 12\n",
      "  OR t.vol = r.top\n",
      "  AND i IN (1111,\n",
      "            111222,\n",
      "            2222222222,\n",
      "            22222222444444444,\n",
      "            4444444444444555555555555555555)\n",
      "GROUP BY 1,\n",
      "         2,\n",
      "         3,\n",
      "         4,\n",
      "         t.report_date,\n",
      "         age_group,\n",
      "         t.gender;\n",
      "\n",
      "\n",
      "SELECT *\n",
      "FROM tab\n",
      "JOIN buzz ON a=b\n",
      "WHERE 1 = 1\n",
      "  AND 1=1\n",
      "  AND id != 111\n",
      "  OR name IN (xyz,\n",
      "              abc);\n",
      "\n",
      "\n",
      "SELECT *\n",
      "FROM tabl\n",
      "FULL OUTER JOIN foo AS f ON name =name\n",
      "WHERE 1 = 1\n",
      "  AND t = 9;\n",
      "\n",
      "\n",
      "SELECT t.var\n",
      "FROM foo AS f\n",
      "JOIN buzz AS b \n",
      "    ON (\n",
      "        f.id=b.id\n",
      "        AND f.dt=b.dt\n",
      "        AND xyz.sdfjhfd = c.asdnweionf\n",
      "    )\n",
      "WHERE 1 = 1\n",
      "  AND 1= 1\n",
      "  AND b.DATE >= '2022-10-01'\n",
      "  AND t.name != 'NOT IN RU'\n"
     ]
    }
   ],
   "source": [
    "print(window_functions_sub(d4))\n",
    "#window_functions_sub(d4)"
   ]
  },
  {
   "cell_type": "code",
   "execution_count": null,
   "metadata": {
    "tags": []
   },
   "outputs": [],
   "source": [
    "def create_table_sub(raw):\n",
    "    '''\n",
    "    Функция исправляет отступы при создании таблиц в терадате. \n",
    "    '''\n",
    "    assert isinstance(raw, str), 'Аргумент raw должен быть типа string'\n",
    "    \n",
    "    script_by_rows = [tup for tup in raw.split('\\n')]\n",
    "    \n",
    "    create_keywords = ['CREATE multiset TABLE', 'CREATE multiset VOLATILE TABLE', 'CREATE MULTISET VOLATILE TABLE']\n",
    "    create_end = ['INSERT', 'CREATE', ]\n",
    "    \n",
    "    create_groups = []\n",
    "    counter = 0\n",
    "    \n",
    "    for ind in range(0, len(script_by_rows)):\n",
    "        \n",
    "        # если строка начинается с create_keywords, то запоминаем ее индекс\n",
    "        if script_by_rows[ind].startswith(tuple(create_keywords)) and counter == 0:\n",
    "            counter = ind\n",
    "            \n",
    "        # если впереди другие операторы (не create_keywords) и счетчик не равен 0, то записываем диапазон\n",
    "        #if script_by_rows[ind+1].startswith(tuple(create_end)) and counter != 0:\n",
    "        if ';' in script_by_rows[ind] and counter != 0:\n",
    "            create_groups.append(script_by_rows[counter:ind+1])\n",
    "            counter = 0\n",
    "    \n",
    "    spaces = 4 * ' '\n",
    "    for group in create_groups:\n",
    "            for ind in range(0, len(group)-1):\n",
    "                if len(group[ind]) > 0:\n",
    "                    re_val = group[ind].replace(')', '\\)').replace('(', '\\(')\n",
    "                    pattern = re.compile(f'{re_val}')\n",
    "                    \n",
    "                    if '(' in group[ind] and group[ind].startswith(tuple(create_keywords)):\n",
    "                        right_val = group[ind].strip().replace('(', '(\\n' + spaces)\n",
    "                        raw = pattern.sub(right_val, raw, 1)\n",
    "                        #print(row)\n",
    "                        continue\n",
    "                    if '))' in group[ind+1] and (';' in group[ind+1] or 'ON' in group[ind]):\n",
    "                        #print(row)\n",
    "                        right_val = spaces + group[ind+1].strip().replace(')) ', ')\\n' + spaces + ')\\n')\n",
    "                        raw = pattern.sub(right_val, raw, 1)\n",
    "                        continue\n",
    "                        #print(row)\n",
    "                    right_val = spaces + group[ind].strip()\n",
    "                    raw = pattern.sub(right_val, raw, 1)\n",
    "    return raw"
   ]
  },
  {
   "cell_type": "code",
   "execution_count": null,
   "metadata": {
    "tags": []
   },
   "outputs": [],
   "source": [
    "print(create_table_sub(d4))\n",
    "#create_table_sub(d4)"
   ]
  },
  {
   "cell_type": "code",
   "execution_count": 95,
   "metadata": {
    "execution": {
     "iopub.execute_input": "2022-12-20T12:53:58.006344Z",
     "iopub.status.busy": "2022-12-20T12:53:58.005370Z",
     "iopub.status.idle": "2022-12-20T12:53:58.052138Z",
     "shell.execute_reply": "2022-12-20T12:53:58.051397Z",
     "shell.execute_reply.started": "2022-12-20T12:53:58.006303Z"
    },
    "tags": []
   },
   "outputs": [
    {
     "name": "stdout",
     "output_type": "stream",
     "text": [
      "\n",
      "CREATE multiset TABLE prd_dm.mc_forecast_return_revenue (\n",
      "    report_date DATE FORMAT 'YY/MM/DD',\n",
      "    return_current_month_date DECIMAL(18, 6),\n",
      "    return_current_month_last_year_date DECIMAL(18, 6),\n",
      "    return_current_month_last_year DECIMAL(18, 6),\n",
      "    return_current_year DECIMAL(18, 6),\n",
      "    return_last_year_last_date DECIMAL(18, 6),\n",
      "    return_last_year DECIMAL(18, 6),\n",
      "    revenue_current_month_date DECIMAL(18, 6),\n",
      "    revenue_current_month_last_year_date DECIMAL(18, 6),\n",
      "    revenue_current_month_last_year DECIMAL(18, 6),\n",
      "    revenue_current_year DECIMAL(18, 6),\n",
      "    revenue_last_year_last_date DECIMAL(18, 6),\n",
      "    revenue_last_year DECIMAL(18, 6)\n",
      "    )\n",
      "PRIMARY INDEX (report_date);\n",
      "\n",
      "\n",
      "INSERT INTO prd_dm.mc_forecast_return_revenue\n",
      "SELECT *\n",
      "FROM uat_dm.mc_forecast_return_revenue;\n",
      "\n",
      "\n",
      "CREATE multiset TABLE amount_per_day_usage (\n",
      "    first_day_of_month DATE FORMAT 'YY/MM/DD',\n",
      "                                                                           report_date DATE FORMAT 'YY/MM/DD',\n",
      "    subs_id DECIMAL(12, 0),\n",
      "    bsegment VARCHAR(20) CHARACTER\n",
      "                                            SET unicode casespecific,\n",
      "    rated_amount_sum DECIMAL(18, 6)) PRIMARY INDEX (subs_id) ON\n",
      "COMMIT PRESERVE ROWS;\n"
     ]
    }
   ],
   "source": [
    "print(create_table_sub(d4))"
   ]
  },
  {
   "cell_type": "code",
   "execution_count": 74,
   "metadata": {
    "execution": {
     "iopub.execute_input": "2022-12-20T12:44:13.056848Z",
     "iopub.status.busy": "2022-12-20T12:44:13.055592Z",
     "iopub.status.idle": "2022-12-20T12:44:13.105398Z",
     "shell.execute_reply": "2022-12-20T12:44:13.104537Z",
     "shell.execute_reply.started": "2022-12-20T12:44:13.056797Z"
    },
    "tags": []
   },
   "outputs": [
    {
     "name": "stdout",
     "output_type": "stream",
     "text": [
      "\n",
      "\n",
      "CREATE MULTISET TABLE PRD_DM.MC_FORECAST_RETURN_REVENUE \n",
      "    (\n",
      "    REPORT_DATE DATE Format 'YY/MM/DD',\n",
      "    RETURN_CURRENT_MONTH_DATE DECIMAL(18,6),\n",
      "    RETURN_CURRENT_MONTH_LAST_YEAR_DATE DECIMAL(18,6),\n",
      "    RETURN_CURRENT_MONTH_LAST_YEAR DECIMAL(18,6),\n",
      "    RETURN_CURRENT_YEAR DECIMAL(18,6),\n",
      "    RETURN_LAST_YEAR_LAST_DATE DECIMAL(18,6),\n",
      "    RETURN_LAST_YEAR DECIMAL(18,6),\n",
      "    REVENUE_CURRENT_MONTH_DATE DECIMAL(18,6),\n",
      "    REVENUE_CURRENT_MONTH_LAST_YEAR_DATE DECIMAL(18,6),\n",
      "    REVENUE_CURRENT_MONTH_LAST_YEAR DECIMAL(18,6),\n",
      "    REVENUE_CURRENT_YEAR DECIMAL(18,6),\n",
      "    REVENUE_LAST_YEAR_LAST_DATE DECIMAL(18,6),\n",
      "    REVENUE_LAST_YEAR DECIMAL(18,6)\n",
      "\t)\n",
      "PRIMARY INDEX ( REPORT_DATE );\n",
      "\n",
      "INSERT INTO PRD_DM.MC_FORECAST_RETURN_REVENUE\n",
      "SELECT * FROM UAT_DM.MC_FORECAST_RETURN_REVENUE;\n",
      "\n",
      "CREATE MULTISET TABLE amount_per_day_usage\n",
      "     (\n",
      "      first_day_of_month DATE Format 'YY/MM/DD',\n",
      "      REPORT_DATE DATE Format 'YY/MM/DD',\n",
      "      SUBS_ID DECIMAL(12,0),\n",
      "      BSEGMENT VARCHAR(20) CHARACTER SET Unicode CaseSpecific,\n",
      "      rated_amount_sum DECIMAL(18,6)\n",
      "\t  )\n",
      "PRIMARY INDEX ( SUBS_ID )\n",
      "ON COMMIT PRESERVE ROWS;\n",
      "\n",
      "\n"
     ]
    }
   ],
   "source": [
    "print(raw2)"
   ]
  },
  {
   "cell_type": "markdown",
   "metadata": {},
   "source": [
    "##### *Если внутри условия AND используется условие OR, то следует писать каждое с новой строки с дополнительным отступом, замыкающую скобку писать наравне с открывающим оператором AND.*\n",
    "Нужно рассмотреть 2 случая:\n",
    "- использование внутри JOIN\n",
    "- использование внутри WHERE"
   ]
  },
  {
   "cell_type": "markdown",
   "metadata": {
    "tags": []
   },
   "source": [
    "##### WHERE case"
   ]
  },
  {
   "cell_type": "code",
   "execution_count": null,
   "metadata": {
    "tags": []
   },
   "outputs": [],
   "source": [
    "def where_and_or_rule(raw):\n",
    "    assert isinstance(raw, str), 'raw must be type of string'\n",
    "    \n",
    "    script_by_rows = [tup for tup in raw.split('\\n')]#''.join((raw, '\\n\\n')).split('\\n')] тест конструкции\n",
    "    \n",
    "    where_keywords = ['WHERE', 'WHERE'] # в tuple нужно передать больше одного значения\n",
    "    where_end_group_by = ['GROUP BY', 'ORDER BY']    \n",
    "    \n",
    "    where_groups = []\n",
    "    counter = 0\n",
    "    for ind in range(0, len(script_by_rows)-1):\n",
    "        \n",
    "        # если строка начинается с where, то запоминаем ее индекс\n",
    "        if script_by_rows[ind].startswith(tuple(where_keywords)):\n",
    "            counter = ind\n",
    "            continue\n",
    "        \n",
    "        # если строка является концом выражения - впереди group by - то записываем группу и обнуляем счетчик\n",
    "        if script_by_rows[ind].startswith(tuple(where_end_group_by)):\n",
    "            where_groups.append(script_by_rows[counter:ind])\n",
    "            counter = 0\n",
    "            continue\n",
    "        \n",
    "        # если впереди 2 каретки и счетчик не равен 0 (значит запрос заканчивается на выражении where), то записываем группу\n",
    "        if (len(script_by_rows[ind]) + len(script_by_rows[ind+1]) == 0) and counter != 0:\n",
    "            where_groups.append(script_by_rows[counter:ind])\n",
    "            counter = 0\n",
    "    \n",
    "    for group in where_groups:\n",
    "        for ind in range(1, len(group)):\n",
    "            if '(' in group[ind]:\n",
    "                re_val = group[ind].replace('(', '\\(')\n",
    "                pattern = re.compile(f'{re_val}')\n",
    "                count_spaces = len(group[ind+1]) - len(group[ind+1].lstrip())\n",
    "                right_val = group[ind].replace('(', '(\\n' + ' ' * count_spaces)\n",
    "                raw = pattern.sub(right_val, raw)\n",
    "            if ')' in group[ind]:\n",
    "                re_val = group[ind].replace(')', '\\)')\n",
    "                pattern = re.compile(f'{re_val}')\n",
    "                count_spaces = len(group[ind-1]) - len(group[ind-1].lstrip())\n",
    "                right_val = group[ind].replace(')', '\\n' + ' ' * count_spaces + ')')\n",
    "                raw = pattern.sub(right_val, raw)\n",
    "    return raw"
   ]
  },
  {
   "cell_type": "code",
   "execution_count": null,
   "metadata": {
    "tags": []
   },
   "outputs": [],
   "source": [
    "d5 = where_and_or_rule(d4)\n",
    "print(d5)"
   ]
  },
  {
   "cell_type": "markdown",
   "metadata": {},
   "source": [
    "JOIN case"
   ]
  },
  {
   "cell_type": "code",
   "execution_count": null,
   "metadata": {
    "tags": []
   },
   "outputs": [],
   "source": [
    "def join_and_or_rule(raw):\n",
    "    assert isinstance(raw, str), 'raw must be type of string'\n",
    "    \n",
    "    script_by_rows = [tup for tup in raw.split('\\n')]#''.join((raw, '\\n\\n')).split('\\n')]\n",
    "    \n",
    "    join_keywords = ['JOIN', 'LEFT', 'RIGHT', 'INNER', 'FULL', 'OUTER', 'CROSS']\n",
    "    join_end = ['WHERE', 'ORDER BY', 'GROUP BY']    \n",
    "    \n",
    "    join_groups = []\n",
    "    counter = 0\n",
    "    for ind in range(0, len(script_by_rows)-1):\n",
    "        \n",
    "        # если строка начинается с join, то запоминаем ее индекс\n",
    "        if script_by_rows[ind].startswith(tuple(join_keywords)) and counter == 0:\n",
    "            counter = ind\n",
    "            # если следующая строка так же join, то записываем текущую строку и обнуляем счетчик\n",
    "            if script_by_rows[ind+1].startswith(tuple(join_keywords)):\n",
    "                join_groups.append(script_by_rows[counter:ind+1])\n",
    "                counter = 0\n",
    "                continue\n",
    "        \n",
    "        # если следующая строка join и счетчик не 0, то записываем диапазон строк, счетчик = 0\n",
    "        if script_by_rows[ind+1].startswith(tuple(join_keywords)) and counter != 0:\n",
    "            join_groups.append(script_by_rows[counter:ind+1])\n",
    "            counter = 0\n",
    "            \n",
    "        # если впереди другие операторы (не join) и счетчик не равен 0 (значит join заканчивается), то записываем диапазон\n",
    "        if script_by_rows[ind+1].startswith(tuple(join_end)) and counter != 0:\n",
    "            join_groups.append(script_by_rows[counter:ind+1])\n",
    "            counter = 0\n",
    "    \n",
    "    for group in join_groups:\n",
    "        for ind in range(0, len(group)):\n",
    "            if '(' in group[ind] and ('AND' in group[ind] or 'OR' in group[ind]):\n",
    "                re_val = group[ind].replace('(', '\\(')\n",
    "                pattern = re.compile(f'{re_val}')\n",
    "                #count_spaces = len(group[ind+1]) - len(group[ind+1].lstrip())\n",
    "                count_spaces = 8 * ' '\n",
    "                right_val = group[ind].replace('(', '(\\n' + count_spaces)\n",
    "                raw = pattern.sub(right_val, raw)\n",
    "            if ')' in group[ind] and ('AND' in group[ind] or 'OR' in group[ind]):\n",
    "                re_val = group[ind].replace(')', '\\)')\n",
    "                pattern = re.compile(f'{re_val}')\n",
    "                #count_spaces = len(group[ind-1]) - len(group[ind-1].lstrip())\n",
    "                count_spaces = 8 * ' '\n",
    "                right_val = group[ind].replace(')', '\\n' + count_spaces + ')')\n",
    "                raw = pattern.sub(right_val, raw)\n",
    "    return raw"
   ]
  },
  {
   "cell_type": "code",
   "execution_count": null,
   "metadata": {
    "tags": []
   },
   "outputs": [],
   "source": [
    "d6 = join_and_or_rule(d5)\n",
    "print(d6)"
   ]
  },
  {
   "cell_type": "markdown",
   "metadata": {},
   "source": [
    "##### *Для указания нового наименования таблиц/столбцов необходимо явно прописывать ключевое слово AS. AS необходимо обязательно применять при использовании функций.*\n",
    "- AS может быть в наименовании столбца в SELECT:\n",
    "    - В SELECT не может быть пробелов, если там нет AS или функции\n",
    "    - При использовании функции AS обязателен\n",
    "- AS может быть в FROM:\n",
    "    - AS должен быть, если в запросе есть JOIN\n",
    "- AS должен быть в JOIN\n",
    "    - 1 JOIN == 1 AS"
   ]
  },
  {
   "cell_type": "code",
   "execution_count": null,
   "metadata": {
    "tags": []
   },
   "outputs": [],
   "source": [
    "def as_rule(raw):\n",
    "    assert isinstance(raw, str), 'raw must be type of string'\n",
    "    \n",
    "    missing_words = [\n",
    "        'UCASE', 'LCASE', 'MID', 'ROUND', 'FORMAT', 'ASCII', 'datalength', 'ltrim', 'patindex', 'stuff', 'ceiling', 'rand',\n",
    "        'datediff', 'datename', 'datepart', 'getdate', 'getutcdate', 'try_cast', 'try_convert', 'isdate', 'isnumeric', 'lag',\n",
    "        'lead', 'sessionproperty', 'user_name', 'REPLICATE', 'REVERSE', 'SOUNDEX', 'ACOS', 'ASIN', 'ATAN', 'ATN2', 'COS', 'COT',\n",
    "        'DEGREES', 'EXP', 'LOG', 'LOG10', 'PI', 'POWER', 'SQUARE', 'TAN', 'DATEFROMPARTS', 'SYSDATETIME', 'IIF', 'collect_set',\n",
    "        'corr', 'covar_pop', 'covar_samp', 'histogram_numeric', 'ntile', 'percentile', 'percentile_approx', 'regr_avgx', 'dense_rank',\n",
    "        'first_value', 'last_value', 'percent_rank', 'rank', 'row_number', 'isnotnull']\n",
    "    \n",
    "    keywords_up = [key for key, value in sqlparse.keywords.KEYWORDS.items()] + \\\n",
    "        [key for key, value in sqlparse.keywords.KEYWORDS_COMMON.items()] + \\\n",
    "        [key for key, value in sqlparse.keywords.KEYWORDS_HQL.items()] + \\\n",
    "        [key for key, value in sqlparse.keywords.KEYWORDS_MSACCESS.items()] + \\\n",
    "        [key for key, value in sqlparse.keywords.KEYWORDS_ORACLE.items()] + \\\n",
    "        [key for key, value in sqlparse.keywords.KEYWORDS_PLPGSQL.items()] + \\\n",
    "        [i.upper() for i in missing_words]\n",
    "    \n",
    "    \n",
    "    script_by_rows = [tup for tup in raw.split('\\n')]\n",
    "    \n",
    "    as_keywords = ['SELECT', 'FROM', 'JOIN', 'LEFT', 'RIGHT', 'INNER', 'FULL', 'OUTER', 'CROSS']\n",
    "    as_end = ['WHERE', 'ORDER BY', 'GROUP BY', 'HAVING']\n",
    "    as_positions = ['FROM', 'JOIN', 'LEFT', 'RIGHT', 'INNER', 'FULL', 'OUTER', 'CROSS']\n",
    "    \n",
    "    as_groups = []\n",
    "    counter = 0\n",
    "    \n",
    "    # разметка скрипта, выбор только тех частей, где может быть выражение AS\n",
    "    for ind in range(0, len(script_by_rows)-1):\n",
    "        \n",
    "        # если строка начинается с as_keywords, то запоминаем ее индекс\n",
    "        if script_by_rows[ind].startswith(tuple(as_keywords)) and counter == 0:\n",
    "            counter = ind\n",
    "            # если следующая строка так же as_keywords - записываем текущую строку и обнуляем счетчик\n",
    "            if script_by_rows[ind+1].startswith(tuple(as_keywords)):\n",
    "                as_groups.append(script_by_rows[counter:ind+1])\n",
    "                counter = 0\n",
    "                continue\n",
    "        \n",
    "        # если следующая начинается с as_keywords, и счетчик не 0, то записываем диапазон строк, счетчик = 0\n",
    "        if script_by_rows[ind+1].startswith(tuple(as_keywords)) and counter != 0:\n",
    "            as_groups.append(script_by_rows[counter:ind+1])\n",
    "            counter = 0\n",
    "            \n",
    "        # если впереди другие операторы (не as_keywords) и счетчик не равен 0, то записываем диапазон\n",
    "        if script_by_rows[ind+1].startswith(tuple(as_end)) and counter != 0:\n",
    "            as_groups.append(script_by_rows[counter:ind+1])\n",
    "            counter = 0\n",
    "\n",
    "    # выделение строк запросов для определения кол-ва join-ов в запросе и их принадлежности к конкретному запросу\n",
    "    # опираемся на ключевое слова SELECT, как разграничитель запросов\n",
    "    cnt = 0\n",
    "    select_group = []\n",
    "    for group_index in range(1, len(as_groups)):\n",
    "        for m in as_groups[group_index-1]:\n",
    "            if 'SELECT' in m and cnt == 0:\n",
    "                cnt = group_index            \n",
    "        for n in as_groups[group_index]:\n",
    "            if 'SELECT' in n and cnt >= 1:\n",
    "                select_group.append(as_groups[cnt-1:group_index])\n",
    "                cnt = 0\n",
    "        if group_index == len(as_groups)-1 and cnt != 0:\n",
    "            select_group.append(as_groups[cnt-1:group_index+1])\n",
    "    \n",
    "    # реализация правил\n",
    "    functions = [i.upper() for i in funcs.all_func]\n",
    "    for query in select_group:\n",
    "        #print(query)\n",
    "        for row in range(0, len(query)):\n",
    "            #print(query[row])\n",
    "            for keyword in query[row]:\n",
    "                string = keyword.strip()\n",
    "                #print(string)\n",
    "                if string.startswith(tuple(functions)) and 'AS' not in string:\n",
    "                    raise SQLParserError(\"CodeStyleError: Invalid code style in the 'AS' statement: \"\n",
    "                                        '{!r}'.format(string))\n",
    "                if string.startswith(tuple(as_positions)) and len(query) > 2 and 'AS' not in string:\n",
    "                    raise SQLParserError(\"CodeStyleError: Invalid code style in the 'AS' statement: \"\n",
    "                                        '{!r}'.format(string))\n",
    "    \n",
    "    return"
   ]
  },
  {
   "cell_type": "code",
   "execution_count": null,
   "metadata": {
    "tags": []
   },
   "outputs": [],
   "source": [
    "as_rule(d6)"
   ]
  },
  {
   "cell_type": "markdown",
   "metadata": {},
   "source": [
    "##### *Если в запросе участвуют несколько таблиц, то при указании наименования столбца необходимо явно указывать какой таблице принадлежит столбец.*\n",
    "- В запросе участвуют несколько таблиц, когда присутствует join\n",
    "    - Если есть join, то в каждой строчке запроса должна быть точка, кроме тех строк, где только знаки пунктуации, ключевые слова, конструкции IN, WHERE 1=1"
   ]
  },
  {
   "cell_type": "code",
   "execution_count": 318,
   "metadata": {
    "execution": {
     "iopub.execute_input": "2022-11-28T14:08:55.436477Z",
     "iopub.status.busy": "2022-11-28T14:08:55.435965Z",
     "iopub.status.idle": "2022-11-28T14:08:55.489707Z",
     "shell.execute_reply": "2022-11-28T14:08:55.489059Z",
     "shell.execute_reply.started": "2022-11-28T14:08:55.436444Z"
    },
    "tags": []
   },
   "outputs": [],
   "source": [
    "def column_name_rule(raw):\n",
    "    assert isinstance(raw, str), 'raw must be type of string'\n",
    "    \n",
    "    script_by_rows = [tup for tup in raw.split('\\n')]\n",
    "    \n",
    "    point_keywords = ['SELECT', 'FROM', 'JOIN', 'LEFT', 'RIGHT', 'INNER', 'FULL', 'OUTER', 'CROSS', 'WHERE', 'ORDER BY', 'GROUP BY', 'HAVING']\n",
    "    point_end = ['WHERE', 'ORDER BY', 'GROUP BY', 'HAVING']\n",
    "    exclude_point_positions = ['FROM', 'JOIN', 'LEFT', 'RIGHT', 'INNER', 'FULL', 'OUTER', 'CROSS']\n",
    "    \n",
    "    point_groups = []\n",
    "    counter = 0\n",
    "    \n",
    "    # разметка скрипта, выбор только тех частей, где может быть выражение AS\n",
    "    for ind in range(0, len(script_by_rows)-1):\n",
    "        \n",
    "        # если строка начинается с point_keywords, то запоминаем ее индекс\n",
    "        if script_by_rows[ind].startswith(tuple(point_keywords)) and counter == 0:\n",
    "            counter = ind\n",
    "            # если следующая строка так же point_keywords - записываем текущую строку и обнуляем счетчик\n",
    "            if script_by_rows[ind+1].startswith(tuple(point_keywords)):\n",
    "                point_groups.append(script_by_rows[counter:ind+1])\n",
    "                counter = 0\n",
    "                #continue\n",
    "        \n",
    "        # если следующая начинается с point_keywords, и счетчик не 0, то записываем диапазон строк, счетчик = 0\n",
    "        if script_by_rows[ind+1].startswith(tuple(point_keywords)) and counter != 0:\n",
    "            point_groups.append(script_by_rows[counter:ind+1])\n",
    "            counter = 0\n",
    "\n",
    "    # выделение строк запросов для определения кол-ва join-ов в запросе и их принадлежности к конкретному запросу\n",
    "    # опираемся на ключевое слова SELECT, как разграничитель запросов\n",
    "    cnt = 0\n",
    "    select_group = []\n",
    "    for group_index in range(1, len(point_groups)):\n",
    "        for m in point_groups[group_index-1]:\n",
    "            if 'SELECT' in m and cnt == 0:\n",
    "                cnt = group_index            \n",
    "        for n in point_groups[group_index]:\n",
    "            if 'SELECT' in n and cnt >= 1:\n",
    "                select_group.append(point_groups[cnt-1:group_index])\n",
    "                cnt = 0\n",
    "        if group_index == len(point_groups)-1 and cnt != 0:\n",
    "            select_group.append(point_groups[cnt-1:group_index+1])\n",
    "    \n",
    "    # выделяем выражения IN, чтобы исключить их из проверки на наличие точки\n",
    "    in_stmnt = []\n",
    "    in_cnt = 0\n",
    "    for query in select_group:\n",
    "        if len(query) > 2:\n",
    "            for row in range(0, len(query)):\n",
    "                for keyword_ind in range(0, len(query[row])):\n",
    "                    if ' IN (' in query[row][keyword_ind].strip():\n",
    "                        in_cnt = keyword_ind\n",
    "                    if ')' in query[row][keyword_ind].strip() and in_cnt != 0:\n",
    "                        in_stmnt.append(query[row][in_cnt:keyword_ind+1])\n",
    "                        in_cnt = 0\n",
    "\n",
    "    #print(select_group)\n",
    "    exceptions = ['ON (', ')', 'WHERE', 'AND (', 'OR (', 'WHERE 1 = 1']\n",
    "    to_warnings = []\n",
    "    for query in select_group:\n",
    "        #print(query)\n",
    "        if len(query) > 2:\n",
    "            for row in range(0, len(query)):\n",
    "                #print(query[row])\n",
    "                for keyword in query[row]:\n",
    "                    no_spaces_string = keyword.strip()\n",
    "                    if no_spaces_string not in exceptions \\\n",
    "                        and not no_spaces_string.startswith(tuple(exclude_point_positions)) \\\n",
    "                        and ' *' not in no_spaces_string:\n",
    "                        if '.' not in no_spaces_string and keyword not in tuple(sum(in_stmnt, [])) and len(no_spaces_string) > 0:\n",
    "                            to_warnings.append(no_spaces_string)\n",
    "                                \n",
    "    if len(to_warnings) > 0:\n",
    "        return warnings.warn(f'Please, check this rows for table alias {to_warnings}', category=SyntaxWarning)"
   ]
  },
  {
   "cell_type": "code",
   "execution_count": 319,
   "metadata": {
    "execution": {
     "iopub.execute_input": "2022-11-28T14:08:56.019644Z",
     "iopub.status.busy": "2022-11-28T14:08:56.018776Z",
     "iopub.status.idle": "2022-11-28T14:08:56.088596Z",
     "shell.execute_reply": "2022-11-28T14:08:56.087555Z",
     "shell.execute_reply.started": "2022-11-28T14:08:56.019610Z"
    },
    "tags": []
   },
   "outputs": [
    {
     "ename": "SyntaxWarning",
     "evalue": "Please, check this rows for table alias ['active,', 'AVG(sdf) AS fpl', 'AND t > 3', 'AND t = 0', 'OR d > 6', 'OR y = 13', 'AND f = 12', 'GROUP BY 1,', '2,', '3,', '4,', 'age_group,', 'AND id != 111', 'AND t = 9;']",
     "output_type": "error",
     "traceback": [
      "\u001b[0;31m---------------------------------------------------------------------------\u001b[0m",
      "\u001b[0;31mSyntaxWarning\u001b[0m                             Traceback (most recent call last)",
      "\u001b[0;32m/tmp/ipykernel_177/239937320.py\u001b[0m in \u001b[0;36m<module>\u001b[0;34m\u001b[0m\n\u001b[0;32m----> 1\u001b[0;31m \u001b[0mcolumn_name_rule\u001b[0m\u001b[0;34m(\u001b[0m\u001b[0md6\u001b[0m\u001b[0;34m)\u001b[0m\u001b[0;34m\u001b[0m\u001b[0;34m\u001b[0m\u001b[0m\n\u001b[0m",
      "\u001b[0;32m/tmp/ipykernel_177/1087061613.py\u001b[0m in \u001b[0;36mcolumn_name_rule\u001b[0;34m(raw)\u001b[0m\n\u001b[1;32m     73\u001b[0m \u001b[0;34m\u001b[0m\u001b[0m\n\u001b[1;32m     74\u001b[0m     \u001b[0;32mif\u001b[0m \u001b[0mlen\u001b[0m\u001b[0;34m(\u001b[0m\u001b[0mto_warnings\u001b[0m\u001b[0;34m)\u001b[0m \u001b[0;34m>\u001b[0m \u001b[0;36m0\u001b[0m\u001b[0;34m:\u001b[0m\u001b[0;34m\u001b[0m\u001b[0;34m\u001b[0m\u001b[0m\n\u001b[0;32m---> 75\u001b[0;31m         \u001b[0;32mreturn\u001b[0m \u001b[0mwarnings\u001b[0m\u001b[0;34m.\u001b[0m\u001b[0mwarn\u001b[0m\u001b[0;34m(\u001b[0m\u001b[0;34mf'Please, check this rows for table alias {to_warnings}'\u001b[0m\u001b[0;34m,\u001b[0m \u001b[0mcategory\u001b[0m\u001b[0;34m=\u001b[0m\u001b[0mSyntaxWarning\u001b[0m\u001b[0;34m)\u001b[0m\u001b[0;34m\u001b[0m\u001b[0;34m\u001b[0m\u001b[0m\n\u001b[0m",
      "\u001b[0;31mSyntaxWarning\u001b[0m: Please, check this rows for table alias ['active,', 'AVG(sdf) AS fpl', 'AND t > 3', 'AND t = 0', 'OR d > 6', 'OR y = 13', 'AND f = 12', 'GROUP BY 1,', '2,', '3,', '4,', 'age_group,', 'AND id != 111', 'AND t = 9;']"
     ]
    }
   ],
   "source": [
    "column_name_rule(d6)"
   ]
  },
  {
   "cell_type": "code",
   "execution_count": 323,
   "metadata": {
    "execution": {
     "iopub.execute_input": "2022-11-28T14:09:54.476730Z",
     "iopub.status.busy": "2022-11-28T14:09:54.475810Z",
     "iopub.status.idle": "2022-11-28T14:09:54.521390Z",
     "shell.execute_reply": "2022-11-28T14:09:54.520693Z",
     "shell.execute_reply.started": "2022-11-28T14:09:54.476695Z"
    },
    "tags": []
   },
   "outputs": [
    {
     "name": "stdout",
     "output_type": "stream",
     "text": [
      "Hello\n",
      "Goodbye\n"
     ]
    }
   ],
   "source": [
    "import warnings\n",
    "\n",
    "print('Hello')\n",
    "warnings.warn('I am a warning!')\n",
    "print('Goodbye')"
   ]
  },
  {
   "cell_type": "code",
   "execution_count": null,
   "metadata": {
    "tags": []
   },
   "outputs": [],
   "source": [
    "warnings.simplefilter('error')\n",
    "warnings.warn('Yikes!')"
   ]
  },
  {
   "cell_type": "code",
   "execution_count": 317,
   "metadata": {
    "execution": {
     "iopub.execute_input": "2022-11-28T14:08:36.196169Z",
     "iopub.status.busy": "2022-11-28T14:08:36.195187Z",
     "iopub.status.idle": "2022-11-28T14:08:36.254430Z",
     "shell.execute_reply": "2022-11-28T14:08:36.253535Z",
     "shell.execute_reply.started": "2022-11-28T14:08:36.196135Z"
    },
    "tags": []
   },
   "outputs": [
    {
     "ename": "SyntaxWarning",
     "evalue": "very bad news",
     "output_type": "error",
     "traceback": [
      "\u001b[0;31m---------------------------------------------------------------------------\u001b[0m",
      "\u001b[0;31mSyntaxWarning\u001b[0m                             Traceback (most recent call last)",
      "\u001b[0;32m/tmp/ipykernel_177/41296110.py\u001b[0m in \u001b[0;36m<module>\u001b[0;34m\u001b[0m\n\u001b[1;32m      6\u001b[0m \u001b[0mwarnings\u001b[0m\u001b[0;34m.\u001b[0m\u001b[0mwarn\u001b[0m\u001b[0;34m(\u001b[0m\u001b[0;34m'bad news!'\u001b[0m\u001b[0;34m)\u001b[0m  \u001b[0;31m# ignored\u001b[0m\u001b[0;34m\u001b[0m\u001b[0;34m\u001b[0m\u001b[0m\n\u001b[1;32m      7\u001b[0m \u001b[0;34m\u001b[0m\u001b[0m\n\u001b[0;32m----> 8\u001b[0;31m \u001b[0mwarnings\u001b[0m\u001b[0;34m.\u001b[0m\u001b[0mwarn\u001b[0m\u001b[0;34m(\u001b[0m\u001b[0;34m'very bad news'\u001b[0m\u001b[0;34m,\u001b[0m \u001b[0mcategory\u001b[0m\u001b[0;34m=\u001b[0m\u001b[0mSyntaxWarning\u001b[0m\u001b[0;34m)\u001b[0m\u001b[0;34m\u001b[0m\u001b[0;34m\u001b[0m\u001b[0m\n\u001b[0m",
      "\u001b[0;31mSyntaxWarning\u001b[0m: very bad news"
     ]
    }
   ],
   "source": [
    "import warnings\n",
    "\n",
    "warnings.simplefilter('ignore', UserWarning)\n",
    "warnings.simplefilter('error', DeprecationWarning)\n",
    "\n",
    "warnings.warn('bad news!')  # ignored\n",
    "\n",
    "warnings.warn('very bad news', category=SyntaxWarning)"
   ]
  },
  {
   "cell_type": "code",
   "execution_count": null,
   "metadata": {},
   "outputs": [],
   "source": []
  },
  {
   "cell_type": "code",
   "execution_count": null,
   "metadata": {},
   "outputs": [],
   "source": []
  },
  {
   "cell_type": "code",
   "execution_count": null,
   "metadata": {},
   "outputs": [],
   "source": []
  },
  {
   "cell_type": "code",
   "execution_count": null,
   "metadata": {},
   "outputs": [],
   "source": []
  },
  {
   "cell_type": "code",
   "execution_count": null,
   "metadata": {},
   "outputs": [],
   "source": []
  },
  {
   "cell_type": "code",
   "execution_count": null,
   "metadata": {},
   "outputs": [],
   "source": []
  },
  {
   "cell_type": "code",
   "execution_count": null,
   "metadata": {},
   "outputs": [],
   "source": []
  },
  {
   "cell_type": "code",
   "execution_count": null,
   "metadata": {
    "tags": []
   },
   "outputs": [],
   "source": [
    "function_dict = {\n",
    "    'agg_func': [i.upper() for i in agg_func],\n",
    "    'analytic_func': [i.upper() for i in analytic_func],\n",
    "    'collect_func': [i.upper() for i in collect_func],\n",
    "    'compl_func': [i.upper() for i in compl_func],\n",
    "    'conditional_func': [i.upper() for i in conditional_func],\n",
    "    'date_func': [i.upper() for i in date_func],\n",
    "    'math_func': [i.upper() for i in math_func],\n",
    "    'misc_func': [i.upper() for i in misc_func],\n",
    "    'string_func': [i.upper() for i in string_func],\n",
    "    'data_mask_func': [i.upper() for i in data_mask_func],\n",
    "    'table_gen_func': [i.upper() for i in table_gen_func],\n",
    "    'type_conv_func': [i.upper() for i in type_conv_func]\n",
    "}"
   ]
  },
  {
   "cell_type": "code",
   "execution_count": null,
   "metadata": {
    "tags": []
   },
   "outputs": [],
   "source": [
    "with open(\"test_string.txt\",\"w+\") as f:\n",
    "    f.writelines(test_string)"
   ]
  }
 ],
 "metadata": {
  "autoscrollcelloutput": false,
  "kernelspec": {
   "display_name": "Geo",
   "language": "python",
   "name": "geo_python"
  },
  "language_info": {
   "codemirror_mode": {
    "name": "ipython",
    "version": 3
   },
   "file_extension": ".py",
   "mimetype": "text/x-python",
   "name": "python",
   "nbconvert_exporter": "python",
   "pygments_lexer": "ipython3",
   "version": "3.9.15"
  },
  "vscode": {
   "interpreter": {
    "hash": "39bd69f8226228c5a20f5a5a8e3603d584e2c4b9ef3023e841c41b095bec333d"
   }
  }
 },
 "nbformat": 4,
 "nbformat_minor": 4
}
