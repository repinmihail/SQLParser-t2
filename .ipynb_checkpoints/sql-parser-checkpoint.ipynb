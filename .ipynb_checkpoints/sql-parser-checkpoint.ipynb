{
 "cells": [
  {
   "cell_type": "code",
   "execution_count": 1,
   "metadata": {},
   "outputs": [],
   "source": [
    "import pandas as pd\n",
    "import numpy as np\n",
    "import sqlparse\n",
    "import re\n",
    "from SQLParser import *"
   ]
  },
  {
   "cell_type": "code",
   "execution_count": 2,
   "metadata": {},
   "outputs": [],
   "source": [
    "raw = '''\n",
    "SELECT DISTINCT t.EQ, t.CURR, t.INN, t3.code as REPOSITARY_ID,\n",
    "CASE WHEN t1.SHORT_NAME is NULL THEN\n",
    "CASE WHEN t2.SHORT_NAME is NULL THEN \n",
    "CASE WHEN t4.SHORT_NAME is NULL THEN 'NOT FOUND'\n",
    "ELSE t4.SHORT_NAME END \n",
    "ELSE t2.SHORT_NAME END \n",
    "ELSE t1.SHORT_NAME END as SHORT_NAME,\n",
    "CASE WHEN t1.NAME is NULL THEN\n",
    "CASE WHEN t2.NAME is NULL THEN \n",
    "CASE WHEN t4.FULL_NAME is NULL THEN 'NOT FOUND'\n",
    "ELSE t4.FULL_NAME END\n",
    "ELSE t2.NAME END\n",
    "ELSE t1.NAME END as NAME, \n",
    "CASE WHEN t1.EXCHANGE_ID = 'MICX' THEN 1 \n",
    "WHEN t1.EXCHANGE_ID = 'PICX' THEN 2\n",
    "WHEN t1.EXCHANGE_ID = 'NICX' THEN 3\n",
    "ELSE 9 END as number_ \n",
    "FROM uniq_inn t LEFT JOIN zp_dm_vdrf.SV_EQ_FIRMS t1 on t1.FIRM_ID = t.EQ \n",
    "LEFT JOIN  zp_dm_vdrf.SV_CURR_FIRMS t2 on t2.FIRM_ID = t.CURR\n",
    "LEFT JOIN zp_dm_nrd.st_person t3 ON t.INN = t3.INN \n",
    "INNER JOIN zp_dm_nrd.st_person_j t4 ON t3.ID = t4.ID \n",
    "WHERE t3.INN is not null and t3.inn not like '%-' and not rlike(t3.inn, '^0+') and not rlike(t3.inn, '^1+') and t3.person_type=1 \n",
    "and not rlike(t3.code,'^\\d')\n",
    "'''\n"
   ]
  },
  {
   "cell_type": "code",
   "execution_count": 3,
   "metadata": {},
   "outputs": [],
   "source": [
    "sql = SQLParser()"
   ]
  },
  {
   "cell_type": "code",
   "execution_count": 4,
   "metadata": {},
   "outputs": [
    {
     "name": "stdout",
     "output_type": "stream",
     "text": [
      "\n",
      "SELECT DISTINCT t.EQ, t.CURR, t.INN, t3.code as REPOSITARY_ID,\n",
      "CASE WHEN t1.SHORT_NAME is NULL THEN\n",
      "CASE WHEN t2.SHORT_NAME is NULL THEN \n",
      "CASE WHEN t4.SHORT_NAME is NULL THEN 'NOT FOUND'\n",
      "ELSE t4.SHORT_NAME END \n",
      "ELSE t2.SHORT_NAME END \n",
      "ELSE t1.SHORT_NAME END as SHORT_NAME,\n",
      "CASE WHEN t1.NAME is NULL THEN\n",
      "CASE WHEN t2.NAME is NULL THEN \n",
      "CASE WHEN t4.FULL_NAME is NULL THEN 'NOT FOUND'\n",
      "ELSE t4.FULL_NAME END\n",
      "ELSE t2.NAME END\n",
      "ELSE t1.NAME END as NAME, \n",
      "CASE WHEN t1.EXCHANGE_ID = 'MICX' THEN 1 \n",
      "WHEN t1.EXCHANGE_ID = 'PICX' THEN 2\n",
      "WHEN t1.EXCHANGE_ID = 'NICX' THEN 3\n",
      "ELSE 9 END as number_ \n",
      "FROM uniq_inn t LEFT JOIN zp_dm_vdrf.SV_EQ_FIRMS t1 on t1.FIRM_ID = t.EQ \n",
      "LEFT JOIN  zp_dm_vdrf.SV_CURR_FIRMS t2 on t2.FIRM_ID = t.CURR\n",
      "LEFT JOIN zp_dm_nrd.st_person t3 ON t.INN = t3.INN \n",
      "INNER JOIN zp_dm_nrd.st_person_j t4 ON t3.ID = t4.ID \n",
      "WHERE t3.INN is not null and t3.inn not like '%-' and not rlike(t3.inn, '^0+') and not rlike(t3.inn, '^1+') and t3.person_type=1 \n",
      "and not rlike(t3.code,'^\\d')\n",
      "\n"
     ]
    }
   ],
   "source": [
    "print(raw)"
   ]
  },
  {
   "cell_type": "code",
   "execution_count": 8,
   "metadata": {},
   "outputs": [
    {
     "name": "stdout",
     "output_type": "stream",
     "text": [
      "SELECT DISTINCT t.EQ, t.CURR, t.INN, t3.code as REPOSITARY_ID, CASE WHEN t1.SHORT_NAME is NULL THEN CASE WHEN t2.SHORT_NAME is NULL THEN CASE WHEN t4.SHORT_NAME is NULL THEN 'NOT FOUND' ELSE t4.SHORT_NAME END ELSE t2.SHORT_NAME END ELSE t1.SHORT_NAME END as SHORT_NAME, CASE WHEN t1.NAME is NULL THEN CASE WHEN t2.NAME is NULL THEN CASE WHEN t4.FULL_NAME is NULL THEN 'NOT FOUND' ELSE t4.FULL_NAME END ELSE t2.NAME END ELSE t1.NAME END as NAME, CASE WHEN t1.EXCHANGE_ID = 'MICX' THEN 1 WHEN t1.EXCHANGE_ID = 'PICX' THEN 2 WHEN t1.EXCHANGE_ID = 'NICX' THEN 3 ELSE 9 END as number_ FROM uniq_inn t LEFT JOIN zp_dm_vdrf.SV_EQ_FIRMS t1 on t1.FIRM_ID = t.EQ LEFT JOIN zp_dm_vdrf.SV_CURR_FIRMS t2 on t2.FIRM_ID = t.CURR LEFT JOIN zp_dm_nrd.st_person t3 ON t.INN = t3.INN INNER JOIN zp_dm_nrd.st_person_j t4 ON t3.ID = t4.ID WHERE t3.INN is not null and t3.inn not like '%-' and not rlike(t3.inn, '^0+') and not rlike(t3.inn, '^1+') and t3.person_type=1 and not rlike(t3.code,'^\\d')\n"
     ]
    }
   ],
   "source": [
    "var = sql.replace_tabs_from_string(raw)\n",
    "print(var)"
   ]
  },
  {
   "cell_type": "code",
   "execution_count": 13,
   "metadata": {},
   "outputs": [],
   "source": [
    "var1 = sqlparse.format(var, reindent=True, identifier_case='lower', keyword_case='upper')"
   ]
  },
  {
   "cell_type": "code",
   "execution_count": 14,
   "metadata": {},
   "outputs": [
    {
     "name": "stdout",
     "output_type": "stream",
     "text": [
      "SELECT DISTINCT t.eq,\n",
      "                t.curr,\n",
      "                t.inn,\n",
      "                t3.code AS repositary_id,\n",
      "                CASE\n",
      "                    WHEN t1.short_name IS NULL THEN CASE\n",
      "                                                        WHEN t2.short_name IS NULL THEN CASE\n",
      "                                                                                            WHEN t4.short_name IS NULL THEN 'NOT FOUND'\n",
      "                                                                                            ELSE t4.short_name\n",
      "                                                                                        END\n",
      "                                                        ELSE t2.short_name\n",
      "                                                    END\n",
      "                    ELSE t1.short_name\n",
      "                END AS short_name,\n",
      "                CASE\n",
      "                    WHEN t1.name IS NULL THEN CASE\n",
      "                                                  WHEN t2.name IS NULL THEN CASE\n",
      "                                                                                WHEN t4.full_name IS NULL THEN 'NOT FOUND'\n",
      "                                                                                ELSE t4.full_name\n",
      "                                                                            END\n",
      "                                                  ELSE t2.name\n",
      "                                              END\n",
      "                    ELSE t1.name\n",
      "                END AS name,\n",
      "                CASE\n",
      "                    WHEN t1.exchange_id = 'MICX' THEN 1\n",
      "                    WHEN t1.exchange_id = 'PICX' THEN 2\n",
      "                    WHEN t1.exchange_id = 'NICX' THEN 3\n",
      "                    ELSE 9\n",
      "                END AS number_\n",
      "FROM uniq_inn t\n",
      "LEFT JOIN zp_dm_vdrf.sv_eq_firms t1 ON t1.firm_id = t.eq\n",
      "LEFT JOIN zp_dm_vdrf.sv_curr_firms t2 ON t2.firm_id = t.curr\n",
      "LEFT JOIN zp_dm_nrd.st_person t3 ON t.inn = t3.inn\n",
      "INNER JOIN zp_dm_nrd.st_person_j t4 ON t3.id = t4.id\n",
      "WHERE t3.inn IS NOT NULL\n",
      "  AND t3.inn not like '%-'\n",
      "  AND not rlike(t3.inn,\n",
      "                '^0+')\n",
      "  AND not rlike(t3.inn,\n",
      "                '^1+')\n",
      "  AND t3.person_type=1\n",
      "  AND not rlike(t3.code,\n",
      "                '^\\d')\n"
     ]
    }
   ],
   "source": [
    "print(var1)"
   ]
  },
  {
   "cell_type": "code",
   "execution_count": 15,
   "metadata": {},
   "outputs": [
    {
     "name": "stdout",
     "output_type": "stream",
     "text": [
      "SELECT DISTINCT t.eq,\n",
      "                t.curr,\n",
      "                t.inn,\n",
      "                t3.code AS repositary_id,\n",
      "                CASE\n",
      "                    WHEN t1.short_name IS NULL THEN CASE\n",
      "                                                        WHEN t2.short_name IS NULL THEN CASE\n",
      "                                                                                            WHEN t4.short_name IS NULL THEN 'NOT FOUND'\n",
      "                                                                                            ELSE t4.short_name\n",
      "                                                                                        END\n",
      "                                                        ELSE t2.short_name\n",
      "                                                    END\n",
      "                    ELSE t1.short_name\n",
      "                END AS short_name,\n",
      "                CASE\n",
      "                    WHEN t1.name IS NULL THEN CASE\n",
      "                                                  WHEN t2.name IS NULL THEN CASE\n",
      "                                                                                WHEN t4.full_name IS NULL THEN 'NOT FOUND'\n",
      "                                                                                ELSE t4.full_name\n",
      "                                                                            END\n",
      "                                                  ELSE t2.name\n",
      "                                              END\n",
      "                    ELSE t1.name\n",
      "                END AS name,\n",
      "                CASE\n",
      "                    WHEN t1.exchange_id = 'MICX' THEN 1\n",
      "                    WHEN t1.exchange_id = 'PICX' THEN 2\n",
      "                    WHEN t1.exchange_id = 'NICX' THEN 3\n",
      "                    ELSE 9\n",
      "                END AS number_\n",
      "FROM uniq_inn t\n",
      "LEFT JOIN zp_dm_vdrf.sv_eq_firms t1 ON t1.firm_id = t.eq\n",
      "LEFT JOIN zp_dm_vdrf.sv_curr_firms t2 ON t2.firm_id = t.curr\n",
      "LEFT JOIN zp_dm_nrd.st_person t3 ON t.inn = t3.inn\n",
      "INNER JOIN zp_dm_nrd.st_person_j t4 ON t3.id = t4.id\n",
      "WHERE 1=1 \n",
      " AND t3.inn IS NOT NULL\n",
      "  AND t3.inn not like '%-'\n",
      "  AND not rlike(t3.inn,\n",
      "                '^0+')\n",
      "  AND not rlike(t3.inn,\n",
      "                '^1+')\n",
      "  AND t3.person_type=1\n",
      "  AND not rlike(t3.code,\n",
      "                '^\\d')\n"
     ]
    }
   ],
   "source": [
    "var2 = sql.replace_where_stmnt(var1)\n",
    "print(var2)"
   ]
  },
  {
   "cell_type": "code",
   "execution_count": 16,
   "metadata": {},
   "outputs": [
    {
     "name": "stdout",
     "output_type": "stream",
     "text": [
      "SELECT DISTINCT \n",
      " \t\t t.eq,\n",
      "                t.curr,\n",
      "                t.inn,\n",
      "                t3.code AS repositary_id,\n",
      "                CASE\n",
      "                    WHEN t1.short_name IS NULL THEN CASE\n",
      "                                                        WHEN t2.short_name IS NULL THEN CASE\n",
      "                                                                                            WHEN t4.short_name IS NULL THEN 'NOT FOUND'\n",
      "                                                                                            ELSE t4.short_name\n",
      "                                                                                        END\n",
      "                                                        ELSE t2.short_name\n",
      "                                                    END\n",
      "                    ELSE t1.short_name\n",
      "                END AS short_name,\n",
      "                CASE\n",
      "                    WHEN t1.name IS NULL THEN CASE\n",
      "                                                  WHEN t2.name IS NULL THEN CASE\n",
      "                                                                                WHEN t4.full_name IS NULL THEN 'NOT FOUND'\n",
      "                                                                                ELSE t4.full_name\n",
      "                                                                            END\n",
      "                                                  ELSE t2.name\n",
      "                                              END\n",
      "                    ELSE t1.name\n",
      "                END AS name,\n",
      "                CASE\n",
      "                    WHEN t1.exchange_id = 'MICX' THEN 1\n",
      "                    WHEN t1.exchange_id = 'PICX' THEN 2\n",
      "                    WHEN t1.exchange_id = 'NICX' THEN 3\n",
      "                    ELSE 9\n",
      "                END AS number_\n",
      "FROM uniq_inn t\n",
      "LEFT JOIN zp_dm_vdrf.sv_eq_firms t1 ON t1.firm_id = t.eq\n",
      "LEFT JOIN zp_dm_vdrf.sv_curr_firms t2 ON t2.firm_id = t.curr\n",
      "LEFT JOIN zp_dm_nrd.st_person t3 ON t.inn = t3.inn\n",
      "INNER JOIN zp_dm_nrd.st_person_j t4 ON t3.id = t4.id\n",
      "WHERE 1=1 \n",
      " AND t3.inn IS NOT NULL\n",
      "  AND t3.inn not like '%-'\n",
      "  AND not rlike(t3.inn,\n",
      "                '^0+')\n",
      "  AND not rlike(t3.inn,\n",
      "                '^1+')\n",
      "  AND t3.person_type=1\n",
      "  AND not rlike(t3.code,\n",
      "                '^\\d')\n"
     ]
    }
   ],
   "source": [
    "var3 = sql.replace_select_stmnt(var2)\n",
    "print(var3)"
   ]
  },
  {
   "cell_type": "code",
   "execution_count": null,
   "metadata": {},
   "outputs": [],
   "source": []
  }
 ],
 "metadata": {
  "kernelspec": {
   "display_name": "Python 3.8.3 ('base')",
   "language": "python",
   "name": "python3"
  },
  "language_info": {
   "codemirror_mode": {
    "name": "ipython",
    "version": 3
   },
   "file_extension": ".py",
   "mimetype": "text/x-python",
   "name": "python",
   "nbconvert_exporter": "python",
   "pygments_lexer": "ipython3",
   "version": "3.8.3"
  },
  "orig_nbformat": 4,
  "vscode": {
   "interpreter": {
    "hash": "39bd69f8226228c5a20f5a5a8e3603d584e2c4b9ef3023e841c41b095bec333d"
   }
  }
 },
 "nbformat": 4,
 "nbformat_minor": 2
}
