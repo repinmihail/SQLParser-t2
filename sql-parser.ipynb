{
 "cells": [
  {
   "cell_type": "code",
   "execution_count": 9,
   "metadata": {},
   "outputs": [],
   "source": [
    "import pandas as pd\n",
    "import numpy as np\n",
    "import sqlparse\n",
    "import re\n",
    "from SQLParser import *"
   ]
  },
  {
   "cell_type": "code",
   "execution_count": 10,
   "metadata": {},
   "outputs": [],
   "source": [
    "raw = '''\n",
    "SELECT DISTINCT t.EQ, t.CURR, t.INN, t3.code as REPOSITARY_ID,\n",
    "CASE WHEN t1.SHORT_NAME is NULL THEN\n",
    "CASE WHEN t2.SHORT_NAME is NULL THEN \n",
    "CASE WHEN t4.SHORT_NAME is NULL THEN 'NOT FOUND'\n",
    "ELSE t4.SHORT_NAME END \n",
    "ELSE t2.SHORT_NAME END \n",
    "ELSE t1.SHORT_NAME END as SHORT_NAME,\n",
    "CASE WHEN t1.NAME is NULL THEN\n",
    "CASE WHEN t2.NAME is NULL THEN \n",
    "CASE WHEN t4.FULL_NAME is NULL THEN 'NOT FOUND'\n",
    "ELSE t4.FULL_NAME END\n",
    "ELSE t2.NAME END\n",
    "ELSE t1.NAME END as NAME, \n",
    "CASE WHEN t1.EXCHANGE_ID = 'MICX' THEN 1 \n",
    "WHEN t1.EXCHANGE_ID = 'PICX' THEN 2\n",
    "WHEN t1.EXCHANGE_ID = 'NICX' THEN 3\n",
    "ELSE 9 END as number_ \n",
    "FROM uniq_inn t LEFT JOIN zp_dm_vdrf.SV_EQ_FIRMS t1 on t1.FIRM_ID = t.EQ \n",
    "LEFT JOIN  zp_dm_vdrf.SV_CURR_FIRMS t2 on t2.FIRM_ID = t.CURR\n",
    "LEFT JOIN zp_dm_nrd.st_person t3 ON t.INN = t3.INN \n",
    "INNER JOIN zp_dm_nrd.st_person_j t4 ON t3.ID = t4.ID \n",
    "WHERE t3.INN is not null and t3.inn not like '%-' and not rlike(t3.inn, '^0+') and not rlike(t3.inn, '^1+') and t3.person_type=1 \n",
    "and not rlike(t3.code,'^\\d')\n",
    "UNION \n",
    "SELECT DISTINCT '' as EQ,'' as URR, INN, \n",
    "t.code as REPOSITARY_ID, t1.SHORT_NAME as SHORT_NAME, t1.FULL_NAME as NAME, 10 as number_ \n",
    "FROM zp_dm_nrd.st_person  t INNER JOIN zp_dm_nrd.st_person_j t1 ON t.id = t1.id \n",
    "WHERE t.INN not in (SELECT INN FROM uniq_inn) \n",
    "and t.INN is not null and t.inn not like '%-' and not rlike(t.inn, '^0+') and not rlike(t.inn, '^1+') and t.person_type = 1\n",
    "'''\n"
   ]
  },
  {
   "cell_type": "code",
   "execution_count": 11,
   "metadata": {},
   "outputs": [],
   "source": [
    "sql = SQLParser()"
   ]
  },
  {
   "cell_type": "code",
   "execution_count": 16,
   "metadata": {},
   "outputs": [
    {
     "data": {
      "text/plain": [
       "\"SELECT DISTINCT \\n \\t\\t t.eq,\\n                t.curr,\\n                t.inn,\\n                t3.code AS repositary_id,\\n                CASE\\n                    WHEN t1.short_name IS NULL THEN CASE\\n                                                        WHEN t2.short_name IS NULL THEN CASE\\n                                                                                            WHEN t4.short_name IS NULL THEN 'NOT FOUND'\\n                                                                                            ELSE t4.short_name\\n                                                                                        END\\n                                                        ELSE t2.short_name\\n                                                    END\\n                    ELSE t1.short_name\\n                END AS short_name,\\n                CASE\\n                    WHEN t1.name IS NULL THEN CASE\\n                                                  WHEN t2.name IS NULL THEN CASE\\n                                                                                WHEN t4.full_name IS NULL THEN 'NOT FOUND'\\n                                                                                ELSE t4.full_name\\n                                                                            END\\n                                                  ELSE t2.name\\n                                              END\\n                    ELSE t1.name\\n                END AS name,\\n                CASE\\n                    WHEN t1.exchange_id = 'MICX' THEN 1\\n                    WHEN t1.exchange_id = 'PICX' THEN 2\\n                    WHEN t1.exchange_id = 'NICX' THEN 3\\n                    ELSE 9\\n                END AS number_\\nFROM uniq_inn t\\nLEFT JOIN zp_dm_vdrf.sv_eq_firms t1 ON t1.firm_id = t.eq\\nLEFT JOIN zp_dm_vdrf.sv_curr_firms t2 ON t2.firm_id = t.curr\\nLEFT JOIN zp_dm_nrd.st_person t3 ON t.inn = t3.inn\\nINNER JOIN zp_dm_nrd.st_person_j t4 ON t3.id = t4.id\\nWHERE 1=1 \\n AND t3.inn IS NOT NULL\\n  AND t3.inn not like '%-'\\n  AND not rlike(t3.inn,\\n                '^0+')\\n  AND not rlike(t3.inn,\\n                '^1+')\\n  AND t3.person_type=1\\n  AND not rlike(t3.code,\\n                '^\\\\d')\\nUNION\\nSELECT DISTINCT \\n \\t\\t '' AS eq,\\n                '' AS urr,\\n                inn,\\n                t.code AS repositary_id,\\n                t1.short_name AS short_name,\\n                t1.full_name AS name,\\n                10 AS number_\\nFROM zp_dm_nrd.st_person t\\nINNER JOIN zp_dm_nrd.st_person_j t1 ON t.id = t1.id\\nWHERE 1=1 \\n AND t.inn not in\\n    (SELECT inn\\n     FROM uniq_inn)\\n  AND t.inn IS NOT NULL\\n  AND t.inn not like '%-'\\n  AND not rlike(t.inn,\\n                '^0+')\\n  AND not rlike(t.inn,\\n                '^1+')\\n  AND t.person_type = 1\""
      ]
     },
     "execution_count": 16,
     "metadata": {},
     "output_type": "execute_result"
    }
   ],
   "source": [
    "var = sql.replace_tabs_from_string(raw)\n",
    "var = sqlparse.format(var, reindent=True, identifier_case='lower', keyword_case='upper')\n",
    "var = sql.replace_where_stmnt(var)\n",
    "assert type(var) == str\n",
    "var = sql.replace_select_stmnt(var)\n",
    "var"
   ]
  },
  {
   "cell_type": "code",
   "execution_count": null,
   "metadata": {},
   "outputs": [],
   "source": []
  },
  {
   "cell_type": "code",
   "execution_count": null,
   "metadata": {},
   "outputs": [],
   "source": []
  }
 ],
 "metadata": {
  "kernelspec": {
   "display_name": "Python 3.8.3 ('base')",
   "language": "python",
   "name": "python3"
  },
  "language_info": {
   "codemirror_mode": {
    "name": "ipython",
    "version": 3
   },
   "file_extension": ".py",
   "mimetype": "text/x-python",
   "name": "python",
   "nbconvert_exporter": "python",
   "pygments_lexer": "ipython3",
   "version": "3.8.3"
  },
  "orig_nbformat": 4,
  "vscode": {
   "interpreter": {
    "hash": "39bd69f8226228c5a20f5a5a8e3603d584e2c4b9ef3023e841c41b095bec333d"
   }
  }
 },
 "nbformat": 4,
 "nbformat_minor": 2
}
